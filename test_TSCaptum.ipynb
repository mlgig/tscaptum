{
 "cells": [
  {
   "cell_type": "code",
   "id": "initial_id",
   "metadata": {
    "collapsed": true,
    "ExecuteTime": {
     "end_time": "2024-05-22T15:53:04.939784Z",
     "start_time": "2024-05-22T15:53:03.458722Z"
    }
   },
   "source": [
    "from sklearn.linear_model import LinearRegression, LogisticRegressionCV\n",
    "from aeon.datasets import  load_from_tsfile\n",
    "from sklearn.pipeline import make_pipeline\n",
    "from sklearn.preprocessing import StandardScaler\n",
    "from aeon.transformations.collection.convolution_based import MiniRocketMultivariate\n",
    "import numpy as np"
   ],
   "outputs": [],
   "execution_count": 1
  },
  {
   "metadata": {
    "ExecuteTime": {
     "end_time": "2024-05-22T15:15:25.302319Z",
     "start_time": "2024-05-22T15:15:25.294640Z"
    }
   },
   "cell_type": "code",
   "source": [
    "train = np.load(\"tsCaptum/data/train.npy\")\n",
    "test = np.load(\"tsCaptum/data/test.npy\")\n",
    "print(train.shape, test.shape)\n",
    "data = {\n",
    "    \"train\": {\"X\": np.expand_dims(train[:,1:],1) , \"y\": train[:,0].astype(np.int8) },\n",
    "\t\"test\": {\"X\": np.expand_dims( test[:,1:] ,1), \"y\": test[:,0].astype(np.int8) }\n",
    "        }\n",
    "print( data[\"train\"][\"X\"].shape, data[\"train\"][\"y\"].dtype,  data[\"test\"][\"X\"].shape,   data[\"test\"][\"y\"].dtype,   )\n",
    "np.save(\"tsCaptum/data/CMJ_univariate.npy\",data)"
   ],
   "id": "cc9e746817912e9",
   "outputs": [
    {
     "name": "stdout",
     "output_type": "stream",
     "text": [
      "(419, 501) (179, 501)\n",
      "(419, 1, 500) int8 (179, 1, 500) int8\n"
     ]
    }
   ],
   "execution_count": 2
  },
  {
   "metadata": {
    "ExecuteTime": {
     "end_time": "2024-05-22T15:15:25.537749Z",
     "start_time": "2024-05-22T15:15:25.303120Z"
    }
   },
   "cell_type": "code",
   "source": "from tsCaptum.explainers import Feature_Ablation, Feature_Permutation, LIME, Kernel_Shap\n",
   "id": "bec3e4cda4a9e110",
   "outputs": [],
   "execution_count": 3
  },
  {
   "metadata": {},
   "cell_type": "markdown",
   "source": "# load regression and classification datasets",
   "id": "3294ea6bac3bb843"
  },
  {
   "metadata": {
    "ExecuteTime": {
     "end_time": "2024-05-22T15:53:10.040582Z",
     "start_time": "2024-05-22T15:53:09.469601Z"
    }
   },
   "cell_type": "code",
   "source": [
    "X_train_reg, y_train_reg = load_from_tsfile(\"./tsCaptum/data/AppliancesEnergy_TRAIN.ts\")\n",
    "X_test_reg, y_test_reg = load_from_tsfile(\"./tsCaptum/data/AppliancesEnergy_TEST.ts\")\n",
    "print(\"regression train and test\",X_test_reg.shape, y_test_reg.shape)\n",
    "\n",
    "CMJ = np.load(\"tsCaptum/data/CMJ_univariate.npy\",allow_pickle=True).item()\n",
    "CMJ_X_train =CMJ[\"train\"][\"X\"]\n",
    "CMJ_X_test = CMJ[\"test\"][\"X\"]\n",
    "CMJ_y_train =CMJ[\"train\"][\"y\"]\n",
    "CMJ_y_test = CMJ[\"test\"][\"y\"]\n",
    "print(\"univariate classification\", CMJ_X_train.shape, CMJ_X_test.shape)\n",
    "\n",
    "MP = np.load(\"./tsCaptum/data/MP_centered.npy\",allow_pickle=True).item()\n",
    "MP_X_train =MP[\"train\"][\"X\"]\n",
    "MP_X_test = MP[\"test\"][\"X\"]\n",
    "MP_y_train =MP[\"train\"][\"y\"]\n",
    "MP_y_test = MP[\"test\"][\"y\"]\n",
    "print(\"multivariate classification\", MP_X_train.shape, MP_X_test.shape)"
   ],
   "id": "f13417e220faafd9",
   "outputs": [
    {
     "name": "stdout",
     "output_type": "stream",
     "text": [
      "regression train and test (42, 24, 144) (42,)\n",
      "univariate classification (419, 1, 500) (179, 1, 500)\n",
      "multivariate classification (1426, 8, 161) (595, 8, 161)\n"
     ]
    }
   ],
   "execution_count": 2
  },
  {
   "metadata": {},
   "cell_type": "markdown",
   "source": [
    "# train same classifiers anc checkout how the library works\n",
    "after you have trained a classifier, have your sample to explain it's just a 2 step process"
   ],
   "id": "2c5edc99c3663fea"
  },
  {
   "metadata": {
    "ExecuteTime": {
     "end_time": "2024-05-22T15:53:12.317349Z",
     "start_time": "2024-05-22T15:53:12.011215Z"
    }
   },
   "cell_type": "code",
   "source": [
    "regressor = make_pipeline(MiniRocketMultivariate(n_jobs=1),\n",
    "                          StandardScaler(),LinearRegression(n_jobs=-1))\n",
    "\n",
    "regressor.fit(X_train_reg, y_train_reg)\n",
    "print(\"metric is\", regressor.score(X_test_reg,y_test_reg) )"
   ],
   "id": "c5eb17cc3824d4a",
   "outputs": [
    {
     "name": "stdout",
     "output_type": "stream",
     "text": [
      "metric is 0.5655307537711616\n"
     ]
    }
   ],
   "execution_count": 3
  },
  {
   "metadata": {},
   "cell_type": "markdown",
   "source": "we're explaining only 20 samples as a demo",
   "id": "7137785057a72a68"
  },
  {
   "metadata": {
    "ExecuteTime": {
     "end_time": "2024-05-22T15:53:13.997665Z",
     "start_time": "2024-05-22T15:53:13.994896Z"
    }
   },
   "cell_type": "code",
   "source": [
    "n_to_explain =20\n",
    "X_test_reg, y_test_reg = X_test_reg[:n_to_explain], y_test_reg[:n_to_explain]"
   ],
   "id": "9eea21bd9bbfcb06",
   "outputs": [],
   "execution_count": 4
  },
  {
   "metadata": {},
   "cell_type": "markdown",
   "source": "# Feature Ablation",
   "id": "77b6957fac234541"
  },
  {
   "metadata": {
    "ExecuteTime": {
     "end_time": "2024-05-22T15:53:22.818461Z",
     "start_time": "2024-05-22T15:53:15.584585Z"
    }
   },
   "cell_type": "code",
   "source": [
    "from tsCaptum.explainers import Feature_Ablation\n",
    "myFA = Feature_Ablation(regressor)\n",
    "exp = myFA.explain(samples=X_test_reg)\n",
    "print( exp.shape,\"\\n\", exp[0,:5,:5])"
   ],
   "id": "88cb3a463327003c",
   "outputs": [
    {
     "name": "stderr",
     "output_type": "stream",
     "text": [
      "24it [00:07,  3.42it/s]                        "
     ]
    },
    {
     "name": "stdout",
     "output_type": "stream",
     "text": [
      "(20, 24, 144) \n",
      " [[ 0.8797369   0.8797369   0.8797369   0.8797369   0.8797369 ]\n",
      " [-1.9094248  -1.9094248  -1.9094248  -1.9094248  -1.9094248 ]\n",
      " [ 0.8222017   0.8222017   0.8222017   0.8222017   0.8222017 ]\n",
      " [ 0.3316269   0.3316269   0.3316269   0.3316269   0.3316269 ]\n",
      " [-0.60728645 -0.60728645 -0.60728645 -0.60728645 -0.60728645]]\n"
     ]
    },
    {
     "name": "stderr",
     "output_type": "stream",
     "text": [
      "\n"
     ]
    }
   ],
   "execution_count": 5
  },
  {
   "metadata": {},
   "cell_type": "markdown",
   "source": [
    "apart from sample, the explain method has some additional parameter\n",
    "\n",
    "\t\t:param labels:      labels associated to samples in case of classification\n",
    "\t\t:param batch_size:  the batch_size to be used i.e. number of samples to be explained at the same time\n",
    "\t\t:param n_segments:  number of segments the timeseries is dived to. If you want to explain point-wise provide -1 as value\n",
    "\t\t:param normalise:   whether or not to normalise the result\n",
    "\t\t:param baseline:    the baseline which will substitute time series's values when ablated. It can be either a scalar (each time series's value is substituted by this scalar)  or a single time series"
   ],
   "id": "8bbaf4d0f258bf72"
  },
  {
   "metadata": {},
   "cell_type": "markdown",
   "source": "#TODO add option for normalisation?",
   "id": "f4ddef0a0e370b00"
  },
  {
   "metadata": {
    "ExecuteTime": {
     "end_time": "2024-05-22T15:53:37.240843Z",
     "start_time": "2024-05-22T15:53:28.322095Z"
    }
   },
   "cell_type": "code",
   "source": [
    "exp = myFA.explain(samples=X_test_reg,batch_size=10, n_segments=5)\n",
    "for i in range(5):\n",
    "    print(i, \": min and max values\", exp[i].min(), exp[i].max())\n",
    "    \n",
    "exp_normalized = myFA.explain(samples=X_test_reg,batch_size=10, n_segments=5, normalise=True)\n",
    "for i in range(5):\n",
    "    print(i,\"min and max values\", exp_normalized[i].min(), exp_normalized[i].max() )"
   ],
   "id": "979ea58023ff042a",
   "outputs": [
    {
     "name": "stderr",
     "output_type": "stream",
     "text": [
      "100%|██████████| 20/20 [00:04<00:00,  4.47it/s]\n"
     ]
    },
    {
     "name": "stdout",
     "output_type": "stream",
     "text": [
      "0 : min and max values -6.681754 1.9838591\n",
      "1 : min and max values -6.785715 2.026412\n",
      "2 : min and max values -6.5918465 1.8398409\n",
      "3 : min and max values -6.761695 2.0367975\n",
      "4 : min and max values -6.5479803 2.2704687\n"
     ]
    },
    {
     "name": "stderr",
     "output_type": "stream",
     "text": [
      "100%|██████████| 20/20 [00:04<00:00,  4.51it/s]"
     ]
    },
    {
     "name": "stdout",
     "output_type": "stream",
     "text": [
      "0 min and max values -1.0 0.29690692\n",
      "1 min and max values -1.0 0.2986291\n",
      "2 min and max values -1.0 0.27910858\n",
      "3 min and max values -0.99999994 0.30122587\n",
      "4 min and max values -1.0 0.34674335\n"
     ]
    },
    {
     "name": "stderr",
     "output_type": "stream",
     "text": [
      "\n"
     ]
    }
   ],
   "execution_count": 6
  },
  {
   "metadata": {},
   "cell_type": "markdown",
   "source": "labels parameter only make sense if you're using a classifier",
   "id": "dbab29a164383d36"
  },
  {
   "metadata": {
    "ExecuteTime": {
     "end_time": "2024-05-22T15:54:13.871749Z",
     "start_time": "2024-05-22T15:54:09.239362Z"
    }
   },
   "cell_type": "code",
   "source": [
    "from aeon.classification.dictionary_based import WEASEL\n",
    "clf = WEASEL(window_inc=4, support_probabilities=True)\n",
    "clf.fit(CMJ_X_train, CMJ_y_train)\n",
    "print (\"QUANT accuracy is\",clf.score(CMJ_X_test,CMJ_y_test),)\n"
   ],
   "id": "99b824b31e630377",
   "outputs": [
    {
     "name": "stdout",
     "output_type": "stream",
     "text": [
      "QUANT accuracy is 0.9720670391061452\n"
     ]
    }
   ],
   "execution_count": 7
  },
  {
   "metadata": {
    "ExecuteTime": {
     "end_time": "2024-05-22T15:54:14.494541Z",
     "start_time": "2024-05-22T15:54:14.492217Z"
    }
   },
   "cell_type": "code",
   "source": [
    "n_to_explain = 20\n",
    "CMJ_X_test, CMJ_y_test = CMJ_X_test[:n_to_explain], CMJ_y_test[:n_to_explain]"
   ],
   "id": "14a3ebaa3fd4645c",
   "outputs": [],
   "execution_count": 8
  },
  {
   "metadata": {},
   "cell_type": "markdown",
   "source": "# SHAP",
   "id": "a39aaa0a390feb14"
  },
  {
   "metadata": {
    "ExecuteTime": {
     "end_time": "2024-05-22T15:54:32.876344Z",
     "start_time": "2024-05-22T15:54:16.255726Z"
    }
   },
   "cell_type": "code",
   "source": [
    "from tsCaptum.explainers import Shapley_Value_Sampling as SHAP\n",
    "mySHAP = SHAP(clf)\n",
    "exp = mySHAP.explain(CMJ_X_test, labels=CMJ_y_test)"
   ],
   "id": "4450816ad179ce54",
   "outputs": [
    {
     "name": "stderr",
     "output_type": "stream",
     "text": [
      "24it [00:16,  1.44it/s]                        \n"
     ]
    }
   ],
   "execution_count": 9
  },
  {
   "metadata": {},
   "cell_type": "markdown",
   "source": [
    "# Kernel SHAP and LIME\n",
    "for kernel SHAP and Lime the Captum framework suggests to use a batch size = 1, we are enforcing this proprety "
   ],
   "id": "1d5faeadb30dfd99"
  },
  {
   "metadata": {
    "ExecuteTime": {
     "end_time": "2024-05-22T15:54:39.080194Z",
     "start_time": "2024-05-22T15:54:32.877146Z"
    }
   },
   "cell_type": "code",
   "source": [
    "from tsCaptum.explainers import Kernel_Shap\n",
    "myKernelSHAP = Kernel_Shap(clf)\n",
    "exp = myKernelSHAP.explain(CMJ_X_test, labels=CMJ_y_test, batch_size=4)\n"
   ],
   "id": "6656c4c5052642b8",
   "outputs": [
    {
     "name": "stderr",
     "output_type": "stream",
     "text": [
      "/home/davide/workspace/PhD/captum4aeon/tsCaptum/explainers.py:188: UserWarning: batch_size set to 1 as suggested by Captum for Lime and KernelSHAP\n",
      "  warnings.warn(\n",
      "100%|██████████| 20/20 [00:06<00:00,  3.23it/s]\n"
     ]
    }
   ],
   "execution_count": 10
  },
  {
   "metadata": {
    "ExecuteTime": {
     "end_time": "2024-05-22T15:54:45.295908Z",
     "start_time": "2024-05-22T15:54:39.080840Z"
    }
   },
   "cell_type": "code",
   "source": [
    "from tsCaptum.explainers import  LIME\n",
    "myLIME = LIME(clf)\n",
    "exp = myLIME.explain(CMJ_X_test, labels=CMJ_y_test, batch_size=6)\n"
   ],
   "id": "9e0b30b76683ab6d",
   "outputs": [
    {
     "name": "stderr",
     "output_type": "stream",
     "text": [
      "/home/davide/workspace/PhD/captum4aeon/tsCaptum/explainers.py:214: UserWarning: batch_size set to 1 as suggested by Captum for Lime and KernelSHAP\n",
      "  warnings.warn(\n",
      "100%|██████████| 20/20 [00:06<00:00,  3.22it/s]\n"
     ]
    }
   ],
   "execution_count": 11
  },
  {
   "metadata": {},
   "cell_type": "markdown",
   "source": [
    "another important optional argument is baseline i.e. the value(s) replacing time series's one when ablated by the attributions\n",
    "two possible format for it: first one is a scalar i.e. a single number replacing each value to be ablated (default value is 0)"
   ],
   "id": "bb7bd2e034c19059"
  },
  {
   "metadata": {
    "ExecuteTime": {
     "end_time": "2024-05-22T15:55:01.946024Z",
     "start_time": "2024-05-22T15:54:45.296828Z"
    }
   },
   "cell_type": "code",
   "source": [
    "mySHAP = SHAP(clf)\n",
    "exp = mySHAP.explain(CMJ_X_test, labels=CMJ_y_test, baseline=0)"
   ],
   "id": "6c0b7d529810aaf3",
   "outputs": [
    {
     "name": "stderr",
     "output_type": "stream",
     "text": [
      "24it [00:16,  1.44it/s]                        \n"
     ]
    }
   ],
   "execution_count": 12
  },
  {
   "metadata": {},
   "cell_type": "markdown",
   "source": [
    "second option is to provide a time series having the same shape as the one to be explained, usually one item from the train set\n",
    "\n"
   ],
   "id": "4b0877e5c30fc11"
  },
  {
   "metadata": {
    "ExecuteTime": {
     "end_time": "2024-05-22T15:55:19.217425Z",
     "start_time": "2024-05-22T15:55:01.946760Z"
    }
   },
   "cell_type": "code",
   "source": "exp = mySHAP.explain(CMJ_X_test, labels=CMJ_y_test, baseline=CMJ_X_train[0:1])",
   "id": "b43ddbd134bc6b7",
   "outputs": [
    {
     "name": "stderr",
     "output_type": "stream",
     "text": [
      "24it [00:17,  1.39it/s]                        \n"
     ]
    }
   ],
   "execution_count": 13
  },
  {
   "metadata": {},
   "cell_type": "markdown",
   "source": [
    "# Feature Permutation \n",
    "this is the last explainer and it's he only one that not accept a baseline "
   ],
   "id": "f7d059928693bf4"
  },
  {
   "metadata": {
    "ExecuteTime": {
     "end_time": "2024-05-22T15:55:20.044614Z",
     "start_time": "2024-05-22T15:55:19.218284Z"
    }
   },
   "cell_type": "code",
   "source": [
    "from tsCaptum.explainers import Feature_Permutation\n",
    "myFP = Feature_Permutation(clf,clf_type=\"classifier\")\n",
    "exp = myFP.explain(CMJ_X_test, labels=CMJ_y_test, baseline=42)"
   ],
   "id": "36564c3e46781103",
   "outputs": [
    {
     "name": "stderr",
     "output_type": "stream",
     "text": [
      "/home/davide/workspace/PhD/captum4aeon/tsCaptum/explainers.py:163: UserWarning: specified baseline will be ignored as Feature Permutation algorithm has its own baseline\n",
      "  warnings.warn(\n",
      "24it [00:00, 29.20it/s]                        \n"
     ]
    }
   ],
   "execution_count": 14
  },
  {
   "metadata": {},
   "cell_type": "markdown",
   "source": "finally we explain a multivariate dataset, first of all using the default arguments",
   "id": "892836516582dc1b"
  },
  {
   "metadata": {
    "ExecuteTime": {
     "end_time": "2024-05-22T15:56:10.431810Z",
     "start_time": "2024-05-22T15:55:27.485630Z"
    }
   },
   "cell_type": "code",
   "source": [
    "clf_MTS = make_pipeline(MiniRocketMultivariate(n_jobs=1),\n",
    "                          StandardScaler(),LogisticRegressionCV(max_iter=200, n_jobs=-1))\n",
    "clf_MTS.fit(MP_X_train,MP_y_train)\n",
    "print(\"accuracy is\", clf_MTS.score(MP_X_test,MP_y_test))"
   ],
   "id": "6104cb02d4d84e6b",
   "outputs": [
    {
     "name": "stdout",
     "output_type": "stream",
     "text": [
      "accuracy is 0.7394957983193278\n"
     ]
    }
   ],
   "execution_count": 15
  },
  {
   "metadata": {
    "ExecuteTime": {
     "end_time": "2024-05-22T15:56:10.436557Z",
     "start_time": "2024-05-22T15:56:10.433569Z"
    }
   },
   "cell_type": "code",
   "source": "MP_X_test, MP_y_test = MP_X_test[:n_to_explain], MP_y_test[:n_to_explain]",
   "id": "d7360295aa10d7e2",
   "outputs": [],
   "execution_count": 16
  },
  {
   "metadata": {
    "ExecuteTime": {
     "end_time": "2024-05-22T15:56:13.588729Z",
     "start_time": "2024-05-22T15:56:10.438016Z"
    }
   },
   "cell_type": "code",
   "source": [
    "myFA_MTS = Feature_Ablation(clf_MTS, clf_type=\"classifier\")\n",
    "exp = myFA_MTS.explain( samples= MP_X_test, labels=MP_y_test, batch_size=8, n_segments=10, normalise=False, baseline=0)"
   ],
   "id": "b41c684fe6b4681f",
   "outputs": [
    {
     "name": "stderr",
     "output_type": "stream",
     "text": [
      "24it [00:03,  7.66it/s]                        \n"
     ]
    }
   ],
   "execution_count": 17
  },
  {
   "metadata": {},
   "cell_type": "markdown",
   "source": "# TODO what to do with RidgeClassifier??\n",
   "id": "80a894cdc15e4952"
  },
  {
   "metadata": {
    "ExecuteTime": {
     "end_time": "2024-05-22T15:57:08.298747Z",
     "start_time": "2024-05-22T15:56:13.590180Z"
    }
   },
   "cell_type": "code",
   "source": [
    "from aeon.classification.dictionary_based import MUSE\n",
    "clf_MTS = MUSE(window_inc=4, use_first_order_differences=False, support_probabilities=True)\n",
    "clf_MTS.fit(MP_X_train,MP_y_train)\n",
    "print(\"accuracy is\", clf_MTS.score(MP_X_test,MP_y_test))"
   ],
   "id": "6f2501792f7f4d2c",
   "outputs": [
    {
     "name": "stdout",
     "output_type": "stream",
     "text": [
      "accuracy is 0.75\n"
     ]
    }
   ],
   "execution_count": 18
  },
  {
   "metadata": {
    "ExecuteTime": {
     "end_time": "2024-05-22T15:58:21.302486Z",
     "start_time": "2024-05-22T15:57:08.300157Z"
    }
   },
   "cell_type": "code",
   "source": [
    "my_explainer = Kernel_Shap(clf_MTS)\n",
    "exp = my_explainer.explain( samples=MP_X_test, labels=MP_y_test, n_segments=10)\n",
    "for i in range(5):\n",
    "    print( i , np.unique(exp[i]).shape )\n",
    "\n",
    "exp = my_explainer.explain( samples=MP_X_test, labels=MP_y_test, n_segments=5)\n",
    "for i in range(5):\n",
    "\tprint( i , np.unique(exp[i]).shape )"
   ],
   "id": "f0d7700697decf43",
   "outputs": [
    {
     "name": "stderr",
     "output_type": "stream",
     "text": [
      "100%|██████████| 20/20 [00:40<00:00,  2.01s/it]\n"
     ]
    },
    {
     "name": "stdout",
     "output_type": "stream",
     "text": [
      "0 (72,)\n",
      "1 (78,)\n",
      "2 (79,)\n",
      "3 (67,)\n",
      "4 (79,)\n"
     ]
    },
    {
     "name": "stderr",
     "output_type": "stream",
     "text": [
      "100%|██████████| 20/20 [00:32<00:00,  1.64s/it]"
     ]
    },
    {
     "name": "stdout",
     "output_type": "stream",
     "text": [
      "0 (39,)\n",
      "1 (40,)\n",
      "2 (40,)\n",
      "3 (39,)\n",
      "4 (40,)\n"
     ]
    },
    {
     "name": "stderr",
     "output_type": "stream",
     "text": [
      "\n"
     ]
    }
   ],
   "execution_count": 19
  },
  {
   "metadata": {},
   "cell_type": "markdown",
   "source": "hydra ",
   "id": "6b4e4737227b62bf"
  },
  {
   "metadata": {
    "ExecuteTime": {
     "end_time": "2024-05-22T15:58:54.333448Z",
     "start_time": "2024-05-22T15:58:21.303158Z"
    }
   },
   "cell_type": "code",
   "source": [
    "from aeon.classification.interval_based import QUANTClassifier\n",
    "clf_MTS = QUANTClassifier()\n",
    "clf_MTS.fit(MP_X_train,MP_y_train)\n",
    "print(\"accuracy is\", clf_MTS.score(MP_X_test,MP_y_test))"
   ],
   "id": "bf93521c2e184696",
   "outputs": [
    {
     "name": "stdout",
     "output_type": "stream",
     "text": [
      "accuracy is 0.6\n"
     ]
    }
   ],
   "execution_count": 20
  },
  {
   "metadata": {
    "ExecuteTime": {
     "end_time": "2024-05-22T15:59:25.305148Z",
     "start_time": "2024-05-22T15:59:14.989195Z"
    }
   },
   "cell_type": "code",
   "source": [
    "my_explainer = Feature_Permutation(clf_MTS)\n",
    "exp = my_explainer.explain( samples=MP_X_test, labels=MP_y_test, n_segments=5, normalise=False)\n",
    "print(\" min and max attribution without normalisation :\",)\n",
    "for i in range(5):\n",
    "\tprint( i , exp[i].min(), exp[i].max() )\n",
    "\n",
    "\n",
    "exp = my_explainer.explain( samples=MP_X_test, labels=MP_y_test, n_segments=5, normalise=True)\n",
    "print(\" min and max attribution with normalisation \", exp.min(), exp.max())\n",
    "for i in range(5):\n",
    "\tprint( i , exp[i].min(), exp[i].max() )\n"
   ],
   "id": "8145420710c998d3",
   "outputs": [
    {
     "name": "stderr",
     "output_type": "stream",
     "text": [
      "24it [00:05,  4.64it/s]                        \n"
     ]
    },
    {
     "name": "stdout",
     "output_type": "stream",
     "text": [
      " min and max attribution without normalisation :\n",
      "0 -0.009999999999999953 0.10000000000000003\n",
      "1 -0.065 0.04999999999999999\n",
      "2 -0.020000000000000018 0.09500000000000008\n",
      "3 -0.07499999999999996 0.10000000000000003\n",
      "4 -0.05999999999999994 0.2\n"
     ]
    },
    {
     "name": "stderr",
     "output_type": "stream",
     "text": [
      "24it [00:05,  4.67it/s]                        "
     ]
    },
    {
     "name": "stdout",
     "output_type": "stream",
     "text": [
      " min and max attribution with normalisation  -1.0 1.0\n",
      "0 -0.09999999999999949 1.0\n",
      "1 -1.0 0.3103448275862068\n",
      "2 -0.31578947368420934 1.0\n",
      "3 -0.9999999999999999 0.8888888888888893\n",
      "4 -0.39473684210526294 1.0\n"
     ]
    },
    {
     "name": "stderr",
     "output_type": "stream",
     "text": [
      "\n"
     ]
    }
   ],
   "execution_count": 22
  },
  {
   "metadata": {},
   "cell_type": "code",
   "outputs": [],
   "execution_count": null,
   "source": "",
   "id": "8ad193867c304af6"
  }
 ],
 "metadata": {
  "kernelspec": {
   "display_name": "Python 3",
   "language": "python",
   "name": "python3"
  },
  "language_info": {
   "codemirror_mode": {
    "name": "ipython",
    "version": 2
   },
   "file_extension": ".py",
   "mimetype": "text/x-python",
   "name": "python",
   "nbconvert_exporter": "python",
   "pygments_lexer": "ipython2",
   "version": "2.7.6"
  }
 },
 "nbformat": 4,
 "nbformat_minor": 5
}
