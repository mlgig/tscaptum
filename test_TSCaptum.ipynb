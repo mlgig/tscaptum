{
 "cells": [
  {
   "cell_type": "code",
   "id": "initial_id",
   "metadata": {
    "collapsed": true,
    "ExecuteTime": {
     "end_time": "2024-05-28T10:20:57.140108Z",
     "start_time": "2024-05-28T10:20:55.233370Z"
    }
   },
   "source": [
    "from sklearn.linear_model import LinearRegression, LogisticRegressionCV\n",
    "from aeon.datasets import  load_from_tsfile\n",
    "from sklearn.pipeline import make_pipeline\n",
    "from sklearn.preprocessing import StandardScaler\n",
    "from aeon.transformations.collection.convolution_based import MiniRocketMultivariate\n",
    "import numpy as np"
   ],
   "outputs": [],
   "execution_count": 1
  },
  {
   "metadata": {},
   "cell_type": "markdown",
   "source": "# load regression and classification datasets",
   "id": "3294ea6bac3bb843"
  },
  {
   "metadata": {
    "ExecuteTime": {
     "end_time": "2024-05-28T10:20:58.299Z",
     "start_time": "2024-05-28T10:20:57.679580Z"
    }
   },
   "cell_type": "code",
   "source": [
    "X_train_reg, y_train_reg = load_from_tsfile(\"./tsCaptum/data/AppliancesEnergy_TRAIN.ts\")\n",
    "X_test_reg, y_test_reg = load_from_tsfile(\"./tsCaptum/data/AppliancesEnergy_TEST.ts\")\n",
    "print(\"regression train and test\",X_test_reg.shape, y_test_reg.shape)\n",
    "\n",
    "CMJ = np.load(\"tsCaptum/data/CMJ_univariate.npy\",allow_pickle=True).item()\n",
    "CMJ_X_train =CMJ[\"train\"][\"X\"]\n",
    "CMJ_X_test = CMJ[\"test\"][\"X\"]\n",
    "CMJ_y_train =CMJ[\"train\"][\"y\"]\n",
    "CMJ_y_test = CMJ[\"test\"][\"y\"]\n",
    "print(\"univariate classification\", CMJ_X_train.shape, CMJ_X_test.shape)\n",
    "\n",
    "MP = np.load(\"./tsCaptum/data/MP_centered.npy\",allow_pickle=True).item()\n",
    "MP_X_train =MP[\"train\"][\"X\"]\n",
    "MP_X_test = MP[\"test\"][\"X\"]\n",
    "MP_y_train =MP[\"train\"][\"y\"]\n",
    "MP_y_test = MP[\"test\"][\"y\"]\n",
    "print(\"multivariate classification\", MP_X_train.shape, MP_X_test.shape)"
   ],
   "id": "f13417e220faafd9",
   "outputs": [
    {
     "name": "stdout",
     "output_type": "stream",
     "text": [
      "regression train and test (42, 24, 144) (42,)\n",
      "univariate classification (419, 1, 500) (179, 1, 500)\n",
      "multivariate classification (1426, 8, 161) (595, 8, 161)\n"
     ]
    }
   ],
   "execution_count": 2
  },
  {
   "metadata": {},
   "cell_type": "markdown",
   "source": [
    "# train same classifiers anc checkout how the library works\n",
    "after you have trained a classifier, have your sample to explain it's just a 2 step process"
   ],
   "id": "2c5edc99c3663fea"
  },
  {
   "metadata": {
    "ExecuteTime": {
     "end_time": "2024-05-28T10:20:58.797546Z",
     "start_time": "2024-05-28T10:20:58.300433Z"
    }
   },
   "cell_type": "code",
   "source": [
    "regressor = make_pipeline(MiniRocketMultivariate(n_jobs=1),\n",
    "                          StandardScaler(),LinearRegression(n_jobs=-1))\n",
    "\n",
    "regressor.fit(X_train_reg, y_train_reg)\n",
    "print(\"metric is\", regressor.score(X_test_reg,y_test_reg) )"
   ],
   "id": "c5eb17cc3824d4a",
   "outputs": [
    {
     "name": "stdout",
     "output_type": "stream",
     "text": [
      "metric is 0.53935074831434\n"
     ]
    }
   ],
   "execution_count": 3
  },
  {
   "metadata": {},
   "cell_type": "markdown",
   "source": "we're explaining only 20 samples as a demo",
   "id": "7137785057a72a68"
  },
  {
   "metadata": {
    "ExecuteTime": {
     "end_time": "2024-05-28T10:20:58.801316Z",
     "start_time": "2024-05-28T10:20:58.798903Z"
    }
   },
   "cell_type": "code",
   "source": [
    "n_to_explain =20\n",
    "X_test_reg, y_test_reg = X_test_reg[:n_to_explain], y_test_reg[:n_to_explain]"
   ],
   "id": "9eea21bd9bbfcb06",
   "outputs": [],
   "execution_count": 4
  },
  {
   "metadata": {},
   "cell_type": "markdown",
   "source": [
    "# Feature Ablation\n",
    "now we are explaining!\n",
    "1) instantiate your attribution method, the constructor takes only one mandatory argument namely the predictor and one optional argument its type (classifier or regressor). In case the last one isn't provided it's inferred by tha availability of predict_proba in the predictor\n",
    "2) one you have the object call the method explain which return the saliency map. Only one mandatory argument that is the samples to be explained "
   ],
   "id": "77b6957fac234541"
  },
  {
   "metadata": {
    "ExecuteTime": {
     "end_time": "2024-05-28T10:21:08.556014Z",
     "start_time": "2024-05-28T10:20:58.802362Z"
    }
   },
   "cell_type": "code",
   "source": [
    "from tsCaptum.explainers import Feature_Ablation\n",
    "myFA = Feature_Ablation(regressor)\n",
    "exp = myFA.explain(samples=X_test_reg)\n",
    "print( \"saliency map shape equal to input shape:\", exp.shape, X_test_reg.shape,\n",
    "       \"\\n attributions for first 5 time points in first 5 channel:\\n\", exp[0,:5,:5])"
   ],
   "id": "88cb3a463327003c",
   "outputs": [
    {
     "name": "stderr",
     "output_type": "stream",
     "text": [
      "24it [00:08,  2.78it/s]                        "
     ]
    },
    {
     "name": "stdout",
     "output_type": "stream",
     "text": [
      "saliency map shape equal to input shape: (20, 24, 144) (20, 24, 144) \n",
      " attributions for first 5 time points in first 5 channel:\n",
      " [[ 0.48357964  0.48357964  0.48357964  0.48357964  0.48357964]\n",
      " [ 1.1241693   1.1241693   1.1241693   1.1241693   1.1241693 ]\n",
      " [ 0.10401821  0.10401821  0.10401821  0.10401821  0.10401821]\n",
      " [ 0.22171402  0.22171402  0.22171402  0.22171402  0.22171402]\n",
      " [-0.2355032  -0.2355032  -0.2355032  -0.2355032  -0.2355032 ]]\n"
     ]
    },
    {
     "name": "stderr",
     "output_type": "stream",
     "text": [
      "\n"
     ]
    }
   ],
   "execution_count": 5
  },
  {
   "metadata": {},
   "cell_type": "markdown",
   "source": [
    "apart from sample, the explain method has some additional parameters\n",
    "\n",
    "\t\t:param labels:      labels associated to samples in case of classification\n",
    "\t\t:param batch_size:  the batch_size to be used i.e. number of samples to be explained at the same time\n",
    "\t\t:param n_segments:  number of segments the timeseries is dived to. If you want to explain point-wise provide -1 as value\n",
    "\t\t:param normalise:   whether or not to normalise the result\n",
    "\t\t:param baseline:    the baseline which will substitute time series's values when ablated. It can be either a scalar (each time series's value is substituted by this scalar)  or a single time series"
   ],
   "id": "8bbaf4d0f258bf72"
  },
  {
   "metadata": {},
   "cell_type": "markdown",
   "source": "#TODO add option for normalisation?",
   "id": "f4ddef0a0e370b00"
  },
  {
   "metadata": {
    "ExecuteTime": {
     "end_time": "2024-05-28T10:21:17.849381Z",
     "start_time": "2024-05-28T10:21:08.557053Z"
    }
   },
   "cell_type": "code",
   "source": [
    "exp = myFA.explain(samples=X_test_reg,batch_size=10, n_segments=5)\n",
    "for i in range(5):\n",
    "    print(i, \": min and max values\", exp[i].min(), exp[i].max())\n",
    "    \n",
    "exp_normalized = myFA.explain(samples=X_test_reg,batch_size=10, n_segments=5, normalise=True)\n",
    "for i in range(5):\n",
    "    print(i,\"min and max values\", exp_normalized[i].min(), exp_normalized[i].max() )"
   ],
   "id": "979ea58023ff042a",
   "outputs": [
    {
     "name": "stderr",
     "output_type": "stream",
     "text": [
      "100%|██████████| 20/20 [00:04<00:00,  4.03it/s]\n"
     ]
    },
    {
     "name": "stdout",
     "output_type": "stream",
     "text": [
      "0 : min and max values -3.898162 3.395319\n",
      "1 : min and max values -3.4519386 2.7691212\n",
      "2 : min and max values -3.9209795 2.586176\n",
      "3 : min and max values -3.9837675 2.751008\n",
      "4 : min and max values -3.3348083 3.6119137\n"
     ]
    },
    {
     "name": "stderr",
     "output_type": "stream",
     "text": [
      "100%|██████████| 20/20 [00:04<00:00,  4.63it/s]"
     ]
    },
    {
     "name": "stdout",
     "output_type": "stream",
     "text": [
      "0 min and max values -0.99999994 0.87100506\n",
      "1 min and max values -1.0 0.80219305\n",
      "2 min and max values -1.0 0.659574\n",
      "3 min and max values -1.0 0.6905544\n",
      "4 min and max values -0.9232802 1.0\n"
     ]
    },
    {
     "name": "stderr",
     "output_type": "stream",
     "text": [
      "\n"
     ]
    }
   ],
   "execution_count": 6
  },
  {
   "metadata": {},
   "cell_type": "markdown",
   "source": [
    "labels parameter only make sense if you're using a classifier\n",
    "let's switch to another dataset and classifier "
   ],
   "id": "dbab29a164383d36"
  },
  {
   "metadata": {
    "ExecuteTime": {
     "end_time": "2024-05-28T10:21:22.354977Z",
     "start_time": "2024-05-28T10:21:17.850347Z"
    }
   },
   "cell_type": "code",
   "source": [
    "from aeon.classification.dictionary_based import WEASEL\n",
    "clf = WEASEL(window_inc=4, support_probabilities=True)\n",
    "clf.fit(CMJ_X_train, CMJ_y_train)\n",
    "print (\"QUANT accuracy is\",clf.score(CMJ_X_test,CMJ_y_test),)\n"
   ],
   "id": "99b824b31e630377",
   "outputs": [
    {
     "name": "stdout",
     "output_type": "stream",
     "text": [
      "QUANT accuracy is 0.9720670391061452\n"
     ]
    }
   ],
   "execution_count": 7
  },
  {
   "metadata": {
    "ExecuteTime": {
     "end_time": "2024-05-28T10:21:22.358915Z",
     "start_time": "2024-05-28T10:21:22.355771Z"
    }
   },
   "cell_type": "code",
   "source": [
    "n_to_explain = 20\n",
    "CMJ_X_test, CMJ_y_test = CMJ_X_test[:n_to_explain], CMJ_y_test[:n_to_explain]"
   ],
   "id": "14a3ebaa3fd4645c",
   "outputs": [],
   "execution_count": 8
  },
  {
   "metadata": {},
   "cell_type": "markdown",
   "source": "# SHAP",
   "id": "a39aaa0a390feb14"
  },
  {
   "metadata": {
    "ExecuteTime": {
     "end_time": "2024-05-28T10:21:37.913654Z",
     "start_time": "2024-05-28T10:21:22.360092Z"
    }
   },
   "cell_type": "code",
   "source": [
    "from tsCaptum.explainers import Shapley_Value_Sampling as SHAP\n",
    "mySHAP = SHAP(clf)\n",
    "exp = mySHAP.explain(CMJ_X_test, labels=CMJ_y_test)"
   ],
   "id": "4450816ad179ce54",
   "outputs": [
    {
     "name": "stderr",
     "output_type": "stream",
     "text": [
      "24it [00:15,  1.54it/s]                        \n"
     ]
    }
   ],
   "execution_count": 9
  },
  {
   "metadata": {},
   "cell_type": "markdown",
   "source": [
    "# Kernel SHAP and LIME\n",
    "for kernel SHAP and Lime the Captum framework suggests to use a batch size = 1, we are enforcing this propriety "
   ],
   "id": "1d5faeadb30dfd99"
  },
  {
   "metadata": {
    "ExecuteTime": {
     "end_time": "2024-05-28T10:21:43.994659Z",
     "start_time": "2024-05-28T10:21:37.915095Z"
    }
   },
   "cell_type": "code",
   "source": [
    "from tsCaptum.explainers import Kernel_Shap\n",
    "myKernelSHAP = Kernel_Shap(clf)\n",
    "exp = myKernelSHAP.explain(CMJ_X_test, labels=CMJ_y_test, batch_size=4)\n"
   ],
   "id": "6656c4c5052642b8",
   "outputs": [
    {
     "name": "stderr",
     "output_type": "stream",
     "text": [
      "/home/davide/workspace/PhD/captum4aeon/tsCaptum/explainers.py:188: UserWarning: batch_size set to 1 as suggested by Captum for Lime and KernelSHAP\n",
      "  warnings.warn(\n",
      "100%|██████████| 20/20 [00:06<00:00,  3.30it/s]\n"
     ]
    }
   ],
   "execution_count": 10
  },
  {
   "metadata": {
    "ExecuteTime": {
     "end_time": "2024-05-28T10:21:50.027592Z",
     "start_time": "2024-05-28T10:21:43.995648Z"
    }
   },
   "cell_type": "code",
   "source": [
    "from tsCaptum.explainers import  LIME\n",
    "myLIME = LIME(clf)\n",
    "exp = myLIME.explain(CMJ_X_test, labels=CMJ_y_test, batch_size=6)\n"
   ],
   "id": "9e0b30b76683ab6d",
   "outputs": [
    {
     "name": "stderr",
     "output_type": "stream",
     "text": [
      "/home/davide/workspace/PhD/captum4aeon/tsCaptum/explainers.py:214: UserWarning: batch_size set to 1 as suggested by Captum for Lime and KernelSHAP\n",
      "  warnings.warn(\n",
      "100%|██████████| 20/20 [00:06<00:00,  3.32it/s]\n"
     ]
    }
   ],
   "execution_count": 11
  },
  {
   "metadata": {},
   "cell_type": "markdown",
   "source": [
    "another important optional argument is baseline i.e. the value(s) replacing the time series's ones when ablated by the attributions\n",
    "two possible format for it:\n",
    " 1) a scalar i.e. a single number replacing each value to be ablated (default value is 0)"
   ],
   "id": "bb7bd2e034c19059"
  },
  {
   "metadata": {
    "ExecuteTime": {
     "end_time": "2024-05-28T10:22:05.604408Z",
     "start_time": "2024-05-28T10:21:50.028213Z"
    }
   },
   "cell_type": "code",
   "source": [
    "mySHAP = SHAP(clf)\n",
    "exp = mySHAP.explain(CMJ_X_test, labels=CMJ_y_test, baseline=0)"
   ],
   "id": "6c0b7d529810aaf3",
   "outputs": [
    {
     "name": "stderr",
     "output_type": "stream",
     "text": [
      "24it [00:15,  1.54it/s]                        \n"
     ]
    }
   ],
   "execution_count": 12
  },
  {
   "metadata": {},
   "cell_type": "markdown",
   "source": [
    "2) a time series having the same shape as the one to be explained, usually one item from the train set\n",
    "\n"
   ],
   "id": "4b0877e5c30fc11"
  },
  {
   "metadata": {
    "ExecuteTime": {
     "end_time": "2024-05-28T10:22:21.865626Z",
     "start_time": "2024-05-28T10:22:05.605236Z"
    }
   },
   "cell_type": "code",
   "source": "exp = mySHAP.explain(CMJ_X_test, labels=CMJ_y_test, baseline=CMJ_X_train[0:1])",
   "id": "b43ddbd134bc6b7",
   "outputs": [
    {
     "name": "stderr",
     "output_type": "stream",
     "text": [
      "24it [00:16,  1.48it/s]                        \n"
     ]
    }
   ],
   "execution_count": 13
  },
  {
   "metadata": {},
   "cell_type": "markdown",
   "source": [
    "# Feature Permutation \n",
    "this is the last explainer, the only one that not accept a baseline as argument"
   ],
   "id": "f7d059928693bf4"
  },
  {
   "metadata": {
    "ExecuteTime": {
     "end_time": "2024-05-28T10:22:22.681976Z",
     "start_time": "2024-05-28T10:22:21.866252Z"
    }
   },
   "cell_type": "code",
   "source": [
    "from tsCaptum.explainers import Feature_Permutation\n",
    "myFP = Feature_Permutation(clf,clf_type=\"classifier\")\n",
    "exp = myFP.explain(CMJ_X_test, labels=CMJ_y_test, baseline=42)"
   ],
   "id": "36564c3e46781103",
   "outputs": [
    {
     "name": "stderr",
     "output_type": "stream",
     "text": [
      "/home/davide/workspace/PhD/captum4aeon/tsCaptum/explainers.py:163: UserWarning: specified baseline will be ignored as Feature Permutation algorithm has its own baseline\n",
      "  warnings.warn(\n",
      "24it [00:00, 29.56it/s]                        \n"
     ]
    }
   ],
   "execution_count": 14
  },
  {
   "metadata": {},
   "cell_type": "markdown",
   "source": "# finally we explain a multivariate dataset, first of all using the default arguments",
   "id": "892836516582dc1b"
  },
  {
   "metadata": {
    "ExecuteTime": {
     "end_time": "2024-05-28T10:23:02.364589Z",
     "start_time": "2024-05-28T10:22:22.682990Z"
    }
   },
   "cell_type": "code",
   "source": [
    "clf_MTS = make_pipeline(MiniRocketMultivariate(n_jobs=-1),\n",
    "                          StandardScaler(),LogisticRegressionCV(max_iter=200, n_jobs=-1))\n",
    "clf_MTS.fit(MP_X_train,MP_y_train)\n",
    "print(\"accuracy is\", clf_MTS.score(MP_X_test,MP_y_test))"
   ],
   "id": "6104cb02d4d84e6b",
   "outputs": [
    {
     "name": "stdout",
     "output_type": "stream",
     "text": [
      "accuracy is 0.761344537815126\n"
     ]
    }
   ],
   "execution_count": 15
  },
  {
   "metadata": {
    "ExecuteTime": {
     "end_time": "2024-05-28T10:23:02.377673Z",
     "start_time": "2024-05-28T10:23:02.365955Z"
    }
   },
   "cell_type": "code",
   "source": [
    "n_to_explain = 5\n",
    "MP_X_test_samples, MP_y_test_samples = MP_X_test[:n_to_explain], MP_y_test[:n_to_explain]"
   ],
   "id": "d7360295aa10d7e2",
   "outputs": [],
   "execution_count": 16
  },
  {
   "metadata": {
    "ExecuteTime": {
     "end_time": "2024-05-28T10:23:02.978041Z",
     "start_time": "2024-05-28T10:23:02.380659Z"
    }
   },
   "cell_type": "code",
   "source": [
    "myFA_MTS = Feature_Ablation(clf_MTS, clf_type=\"classifier\")\n",
    "exp = myFA_MTS.explain( samples= MP_X_test_samples, labels=MP_y_test_samples, batch_size=8, n_segments=10, normalise=False, baseline=0)"
   ],
   "id": "b41c684fe6b4681f",
   "outputs": [
    {
     "name": "stderr",
     "output_type": "stream",
     "text": [
      "8it [00:00, 13.69it/s]               \n"
     ]
    }
   ],
   "execution_count": 17
  },
  {
   "metadata": {},
   "cell_type": "markdown",
   "source": "then try different classifiers and different arguments for attribution\n",
   "id": "80a894cdc15e4952"
  },
  {
   "metadata": {
    "ExecuteTime": {
     "end_time": "2024-05-28T10:25:05.228886Z",
     "start_time": "2024-05-28T10:24:17.755422Z"
    }
   },
   "cell_type": "code",
   "source": [
    "from aeon.classification.dictionary_based import MUSE\n",
    "clf_MTS = MUSE(window_inc=4, use_first_order_differences=False, support_probabilities=True)\n",
    "clf_MTS.fit(MP_X_train,MP_y_train)\n",
    "print(\"accuracy is\", clf_MTS.score(MP_X_test,MP_y_test))"
   ],
   "id": "6f2501792f7f4d2c",
   "outputs": [
    {
     "name": "stdout",
     "output_type": "stream",
     "text": [
      "accuracy is 0.6672268907563025\n"
     ]
    }
   ],
   "execution_count": 20
  },
  {
   "metadata": {},
   "cell_type": "markdown",
   "source": "we can checkout the n_segments purpose. #TODO write a bit more about it?",
   "id": "4147380f822bcefe"
  },
  {
   "metadata": {
    "ExecuteTime": {
     "end_time": "2024-05-28T10:25:22.836089Z",
     "start_time": "2024-05-28T10:25:05.230466Z"
    }
   },
   "cell_type": "code",
   "source": [
    "my_explainer = Kernel_Shap(clf_MTS)\n",
    "exps = my_explainer.explain( samples=MP_X_test_samples, labels=MP_y_test_samples, n_segments=10)\n",
    "for i,exp in enumerate(exps):\n",
    "    print( i , np.unique(exp).shape )\n",
    "\n",
    "\n",
    "exps = my_explainer.explain( samples=MP_X_test_samples, labels=MP_y_test_samples, n_segments=5)\n",
    "for i,exp in enumerate(exps):\n",
    "\tprint( i , np.unique(exp).shape )"
   ],
   "id": "f0d7700697decf43",
   "outputs": [
    {
     "name": "stderr",
     "output_type": "stream",
     "text": [
      "100%|██████████| 5/5 [00:08<00:00,  1.76s/it]\n"
     ]
    },
    {
     "name": "stdout",
     "output_type": "stream",
     "text": [
      "0 (75,)\n",
      "1 (79,)\n",
      "2 (70,)\n",
      "3 (80,)\n",
      "4 (75,)\n"
     ]
    },
    {
     "name": "stderr",
     "output_type": "stream",
     "text": [
      "100%|██████████| 5/5 [00:08<00:00,  1.76s/it]"
     ]
    },
    {
     "name": "stdout",
     "output_type": "stream",
     "text": [
      "0 (40,)\n",
      "1 (40,)\n",
      "2 (40,)\n",
      "3 (39,)\n",
      "4 (38,)\n"
     ]
    },
    {
     "name": "stderr",
     "output_type": "stream",
     "text": [
      "\n"
     ]
    }
   ],
   "execution_count": 21
  },
  {
   "metadata": {},
   "cell_type": "markdown",
   "source": "# QUANT ",
   "id": "6b4e4737227b62bf"
  },
  {
   "metadata": {
    "ExecuteTime": {
     "end_time": "2024-05-28T10:25:56.282843Z",
     "start_time": "2024-05-28T10:25:22.836732Z"
    }
   },
   "cell_type": "code",
   "source": [
    "from aeon.classification.interval_based import QUANTClassifier\n",
    "clf_MTS = QUANTClassifier()\n",
    "clf_MTS.fit(MP_X_train,MP_y_train)\n",
    "print(\"accuracy is\", clf_MTS.score(MP_X_test,MP_y_test))"
   ],
   "id": "bf93521c2e184696",
   "outputs": [
    {
     "name": "stdout",
     "output_type": "stream",
     "text": [
      "accuracy is 0.6907563025210084\n"
     ]
    }
   ],
   "execution_count": 22
  },
  {
   "metadata": {
    "ExecuteTime": {
     "end_time": "2024-05-28T10:25:59.603160Z",
     "start_time": "2024-05-28T10:25:56.284019Z"
    }
   },
   "cell_type": "code",
   "source": [
    "my_explainer = Feature_Permutation(clf_MTS)\n",
    "\n",
    "exps = my_explainer.explain( samples=MP_X_test_samples, labels=MP_y_test_samples, n_segments=5, normalise=False)\n",
    "print(\" min and max attribution without normalisation:\")\n",
    "for i,exp in enumerate(exps):\n",
    "\tprint( i , '{:.4f}'.format(exp.min()),\"\\t\", '{:.4f}'.format(exp.max()) )\n",
    "\n",
    "exps = my_explainer.explain( samples=MP_X_test_samples, labels=MP_y_test_samples, n_segments=5, normalise=True)\n",
    "print(\" min and max attribution with normalisation:\")\n",
    "for i,exp in enumerate(exps):\n",
    "\tprint( i , '{:.4f}'.format(exp.min()),\"\\t\", '{:.4f}'.format(exp.max()) )"
   ],
   "id": "8145420710c998d3",
   "outputs": [
    {
     "name": "stderr",
     "output_type": "stream",
     "text": [
      "8it [00:01,  5.07it/s]               \n"
     ]
    },
    {
     "name": "stdout",
     "output_type": "stream",
     "text": [
      " min and max attribution without normalisation:\n",
      "0 -0.0500 \t 0.1100\n",
      "1 -0.0700 \t 0.0200\n",
      "2 -0.0300 \t 0.0800\n",
      "3 -0.0350 \t 0.0600\n",
      "4 -0.0800 \t 0.0800\n"
     ]
    },
    {
     "name": "stderr",
     "output_type": "stream",
     "text": [
      "8it [00:01,  4.62it/s]               "
     ]
    },
    {
     "name": "stdout",
     "output_type": "stream",
     "text": [
      " min and max attribution with normalisation:\n",
      "0 -0.8571 \t 1.0000\n",
      "1 -1.0000 \t 0.2500\n",
      "2 -0.3182 \t 1.0000\n",
      "3 -0.7000 \t 1.0000\n",
      "4 -0.8333 \t 1.0000\n"
     ]
    },
    {
     "name": "stderr",
     "output_type": "stream",
     "text": [
      "\n"
     ]
    }
   ],
   "execution_count": 23
  },
  {
   "metadata": {},
   "cell_type": "markdown",
   "source": "# Rocket classifier",
   "id": "5edb4cf8ea2d25ea"
  },
  {
   "metadata": {
    "ExecuteTime": {
     "end_time": "2024-05-28T10:26:01.063362Z",
     "start_time": "2024-05-28T10:25:59.604087Z"
    }
   },
   "cell_type": "code",
   "source": [
    "from aeon.classification.convolution_based import RocketClassifier\n",
    "clf_MTS = RocketClassifier(num_kernels=500,rocket_transform=\"rocket\",n_jobs=-1)\n",
    "clf_MTS.fit(MP_X_train,MP_y_train)\n",
    "print( clf_MTS.score(MP_X_test,MP_y_test))"
   ],
   "id": "449d5e25f2663869",
   "outputs": [
    {
     "name": "stdout",
     "output_type": "stream",
     "text": [
      "0.6991596638655462\n"
     ]
    }
   ],
   "execution_count": 24
  },
  {
   "metadata": {
    "ExecuteTime": {
     "end_time": "2024-05-28T10:26:01.625577Z",
     "start_time": "2024-05-28T10:26:01.064451Z"
    }
   },
   "cell_type": "code",
   "source": [
    "my_explainer = Feature_Permutation(clf_MTS)\n",
    "exp = my_explainer.explain(samples=MP_X_test_samples, labels=MP_y_test_samples, n_segments=5)"
   ],
   "id": "98888b82d49023dd",
   "outputs": [
    {
     "name": "stderr",
     "output_type": "stream",
     "text": [
      "8it [00:00, 14.39it/s]               \n"
     ]
    }
   ],
   "execution_count": 25
  }
 ],
 "metadata": {
  "kernelspec": {
   "display_name": "Python 3",
   "language": "python",
   "name": "python3"
  },
  "language_info": {
   "codemirror_mode": {
    "name": "ipython",
    "version": 2
   },
   "file_extension": ".py",
   "mimetype": "text/x-python",
   "name": "python",
   "nbconvert_exporter": "python",
   "pygments_lexer": "ipython2",
   "version": "2.7.6"
  }
 },
 "nbformat": 4,
 "nbformat_minor": 5
}
