{
 "cells": [
  {
   "cell_type": "markdown",
   "id": "d1bc9543-951f-47c6-a197-867d526443d6",
   "metadata": {},
   "source": [
    "# Time Series Explanation with tscaptum"
   ]
  },
  {
   "cell_type": "markdown",
   "id": "0542e924-ccfc-4be2-9332-b84dbb2af863",
   "metadata": {},
   "source": [
    "This notebook provides examples for training time series classifiers and regressors and explaining them using post-hoc attribution methods. The TSCaptum library makes it easy to train time series models using the sktime or aeon library and explain them using the captum library."
   ]
  },
  {
   "cell_type": "code",
   "id": "initial_id",
   "metadata": {
    "ExecuteTime": {
     "end_time": "2024-06-08T10:28:13.676140Z",
     "start_time": "2024-06-08T10:28:11.817659Z"
    }
   },
   "source": [
    "# Classic tabular ML algorithms\n",
    "from sklearn.linear_model import RidgeCV,  LogisticRegression\n",
    "from sklearn.ensemble import  ExtraTreesRegressor\n",
    "\n",
    "from sklearn.pipeline import make_pipeline\n",
    "from sklearn.preprocessing import StandardScaler\n",
    "from sklearn.feature_selection import SelectFromModel\n",
    "\n",
    "# Time series algorithms for feature extraction and classification/regression\n",
    "from aeon.datasets import load_from_tsfile\n",
    "from aeon.transformations.collection.convolution_based import MiniRocketMultivariate\n",
    "\n",
    "import math\n",
    "from sklearn.metrics import mean_squared_error\n",
    "import numpy as np\n",
    "import pandas as pd\n",
    "from os.path import join\n",
    "import sys\n",
    "sys.path.append('./src/')\n",
    "import timeit\n",
    "\n",
    "np.set_printoptions(precision=2)\n"
   ],
   "outputs": [],
   "execution_count": 1
  },
  {
   "cell_type": "markdown",
   "id": "570469ef-f706-4ce9-a312-bef07289ab3f",
   "metadata": {},
   "source": [
    "# Load time series classification and regression datasets"
   ]
  },
  {
   "cell_type": "code",
   "id": "4433790f-4688-4918-bed6-75916137257b",
   "metadata": {
    "ExecuteTime": {
     "end_time": "2024-06-08T10:28:14.406364Z",
     "start_time": "2024-06-08T10:28:13.677734Z"
    }
   },
   "source": [
    "data_location = './src/tsCaptum/data/'\n",
    "# https://www.aeon-toolkit.org/en/stable/examples/classification/classification.html\n",
    "# From aeon: We recommend storing time series in 3D numpy array of shape (n_instances, n_channels, n_timepoints) \n",
    "# and where possible our single problem loaders will return a 3D numpy.\n",
    "# load each sample in a 3d numpy array (n_samples, n_channels, n_timepoints)\n",
    "\n",
    "# Univariate time series classification dataset from [1]\n",
    "# [1] https://github.com/mlgig/xai4mtsc_eval_actionability\n",
    "CMJ = np.load( join( data_location, \"CMJ_univariate.npy\"),allow_pickle=True).item()\n",
    "CMJ_X_train =CMJ[\"train\"][\"X\"]\n",
    "CMJ_X_test = CMJ[\"test\"][\"X\"]\n",
    "CMJ_y_train =CMJ[\"train\"][\"y\"]\n",
    "CMJ_y_test = CMJ[\"test\"][\"y\"]\n",
    "print(\"univariate classification train and test\", CMJ_X_train.shape, CMJ_y_train.shape, CMJ_X_test.shape, CMJ_y_test.shape)\n",
    "\n",
    "# Multivariate time series classification dataset from [1]\n",
    "MP = np.load( join( data_location, \"MP_centered.npy\"), allow_pickle=True).item()\n",
    "MP_X_train =MP[\"train\"][\"X\"]\n",
    "MP_X_test = MP[\"test\"][\"X\"]\n",
    "MP_y_train =MP[\"train\"][\"y\"]\n",
    "MP_y_test = MP[\"test\"][\"y\"]\n",
    "print(\"multivariate classification train and test\", MP_X_train.shape, MP_y_train.shape, MP_X_test.shape, MP_y_test.shape, \"\\n\")\n",
    "\n",
    "#Univariate time series regression dataset from [2]\n",
    "# [2] https://github.com/mlgig/VM-challenge-lactose-prediction-2024\n",
    "X_train_reg_uni = np.load( join( data_location, \"milk_lactose_p75_train_X_2d.npy\"))\n",
    "X_train_reg_uni = X_train_reg_uni[:, np.newaxis, :]\n",
    "y_train_reg_uni = pd.read_excel(join( data_location, 'milk_lactose_p75_train_targets.xlsx'), 0, engine='openpyxl')['lactose content']\n",
    "X_test_reg_uni = np.load( join( data_location, \"milk_lactose_p75_test_X_2d.npy\"))\n",
    "y_test_reg_uni = pd.read_excel(join( data_location, 'milk_lactose_p75_test_targets.xlsx'), 0, engine='openpyxl')['lactose content']\n",
    "X_test_reg_uni = X_test_reg_uni[:, np.newaxis, :]\n",
    "print(\"univariate classification train and test\", X_train_reg_uni.shape, y_train_reg_uni.shape, X_test_reg_uni.shape, y_test_reg_uni.shape)\n",
    "\n",
    "#Multivariate time series regresison dataset [3]\n",
    "# [3] http://tseregression.org\n",
    "X_train_reg, y_train_reg = load_from_tsfile( join( data_location, \"AppliancesEnergy_TRAIN.ts\"))\n",
    "X_test_reg, y_test_reg = load_from_tsfile( join( data_location,\"AppliancesEnergy_TEST.ts\"))\n",
    "print(\"regression train and test\",X_train_reg.shape, y_train_reg.shape, X_test_reg.shape, y_test_reg.shape)\n"
   ],
   "outputs": [
    {
     "name": "stdout",
     "output_type": "stream",
     "text": [
      "univariate classification train and test (419, 1, 500) (419,) (179, 1, 500) (179,)\n",
      "multivariate classification train and test (1426, 8, 161) (1426,) (595, 8, 161) (595,) \n",
      "\n",
      "univariate classification train and test (64, 1, 3424) (64,) (8, 1, 3424) (8,)\n",
      "regression train and test (95, 24, 144) (95,) (42, 24, 144) (42,)\n"
     ]
    }
   ],
   "execution_count": 2
  },
  {
   "cell_type": "markdown",
   "id": "2841a428-5159-46e1-8dd7-be64361a0782",
   "metadata": {},
   "source": [
    "## Univariate Time Series Classification"
   ]
  },
  {
   "cell_type": "code",
   "id": "4cb45097-785a-4feb-8e15-b35a6057a661",
   "metadata": {
    "ExecuteTime": {
     "end_time": "2024-06-08T10:28:15.615654Z",
     "start_time": "2024-06-08T10:28:14.407210Z"
    }
   },
   "source": [
    "from aeon.classification.interval_based import QUANTClassifier\n",
    "clf = QUANTClassifier()\n",
    "clf.fit(CMJ_X_train, CMJ_y_train)\n",
    "print (\"QUANT accuracy:\", clf.score(CMJ_X_test,CMJ_y_test),)"
   ],
   "outputs": [
    {
     "name": "stdout",
     "output_type": "stream",
     "text": [
      "QUANT accuracy: 0.9553072625698324\n"
     ]
    }
   ],
   "execution_count": 3
  },
  {
   "cell_type": "markdown",
   "id": "81cf484d-281f-4a94-acec-39830e3623d4",
   "metadata": {},
   "source": [
    "## Explanation using Attribution Methods"
   ]
  },
  {
   "cell_type": "markdown",
   "id": "7137785057a72a68",
   "metadata": {},
   "source": [
    "We're explaining only 3 samples from the test set as a demo."
   ]
  },
  {
   "cell_type": "code",
   "id": "14a3ebaa3fd4645c",
   "metadata": {
    "ExecuteTime": {
     "end_time": "2024-06-08T10:28:15.618655Z",
     "start_time": "2024-06-08T10:28:15.616406Z"
    }
   },
   "source": [
    "# number of samples to explain\n",
    "n_to_explain = 3\n",
    "CMJ_X_test_samples, CMJ_y_test_samples = CMJ_X_test[:n_to_explain], CMJ_y_test[:n_to_explain]"
   ],
   "outputs": [],
   "execution_count": 4
  },
  {
   "cell_type": "markdown",
   "id": "77b6957fac234541",
   "metadata": {},
   "source": [
    "# Feature Ablation (a fast post-hoc attribution method to explain a time series)\n",
    "1) instantiate your attribution method, the constructor takes only one mandatory argument namely the predictor and one optional argument, the predictor type (i.e., classifier or regressor). In case the last one isn't provided it's inferred by the availability of predict_proba in the predictor (if predict_proba is available, we infer the predictor is a classifier).\n",
    "2) once we have the object, we call the method explain which returns a saliency map (attribution weights). Only one mandatory argument: the samples to be explained. "
   ]
  },
  {
   "cell_type": "markdown",
   "id": "8bbaf4d0f258bf72",
   "metadata": {},
   "source": [
    "Apart from the sample to explain, the explain method has some additional parameters:\n",
    "\n",
    "\t\t:param labels:      labels associated to samples in case of classification. The 'labels' parameter only make sense if you are using a classifier.\n",
    "\t\t:param batch_size:  the batch_size to be used i.e. number of samples to be explained at the same time\n",
    "\t\t:param n_segments:  number of segments the timeseries is divided into. This parameter impacts the speed/quality of the method. To explain point-wise, please provide -1 as a value for this parameter. \n",
    "\t\t:param normalise:   whether or not to normalise the attribution weights to the [-1,1] interval\n",
    "\t\t:param baseline:    the baseline which will substitute the time series' values when ablated (this is also commonly known as a mask). It can be either a scalar (each time series's value is substituted by this scalar) or a single time series. By default it is set to 0.\n",
    "\n",
    "DEFAULT VALUES:\n",
    "def explain(self, samples, labels=None, batch_size=8, n_segments=10, normalise=False, baseline=0):\n"
   ]
  },
  {
   "cell_type": "code",
   "id": "88cb3a463327003c",
   "metadata": {
    "ExecuteTime": {
     "end_time": "2024-06-08T10:28:16.251028Z",
     "start_time": "2024-06-08T10:28:15.619543Z"
    }
   },
   "source": [
    "from tsCaptum.explainers import Feature_Ablation\n",
    "\n",
    "starttime = timeit.default_timer()\n",
    "myFA = Feature_Ablation(clf)\n",
    "exp = myFA.explain(samples=CMJ_X_test_samples, labels=CMJ_y_test_samples, n_segments=10, normalise=False, baseline=0)\n",
    "print(\"Time to explain (sec):\", timeit.default_timer() - starttime)\n",
    "\n",
    "print( \"\\nSaliency map shape equal to input shape:\", exp.shape, CMJ_X_test.shape,\n",
    "       \"\\n attributions for first 10 time points at sample 0:\\n\", exp[0,:,:10])"
   ],
   "outputs": [
    {
     "name": "stderr",
     "output_type": "stream",
     "text": [
      "8it [00:00, 19.74it/s]               "
     ]
    },
    {
     "name": "stdout",
     "output_type": "stream",
     "text": [
      "Time to explain (sec): 0.40731716200025403\n",
      "\n",
      "Saliency map shape equal to input shape: (3, 1, 500) (179, 1, 500) \n",
      " attributions for first 10 time points at sample 0:\n",
      " [[-0.03 -0.03 -0.03 -0.03 -0.03 -0.03 -0.03 -0.03 -0.03 -0.03]]\n"
     ]
    },
    {
     "name": "stderr",
     "output_type": "stream",
     "text": [
      "\n"
     ]
    }
   ],
   "execution_count": 5
  },
  {
   "cell_type": "code",
   "id": "3f969597-c08f-436a-a064-c320f837a976",
   "metadata": {
    "ExecuteTime": {
     "end_time": "2024-06-08T10:28:19.463743Z",
     "start_time": "2024-06-08T10:28:19.172807Z"
    }
   },
   "source": [
    "from tsCaptum.visualization import plot_saliency_map_uni\n",
    "idx = 0\n",
    "plot_saliency_map_uni(CMJ_X_test[idx,:,:], exp[idx,:,:], title = f'FeatureAblation-Instance {idx} - Class {CMJ_y_test[idx]}')"
   ],
   "outputs": [
    {
     "data": {
      "text/plain": [
       "<Figure size 600x200 with 1 Axes>"
      ],
      "image/png": "[encoded data removed]"
     },
     "metadata": {},
     "output_type": "display_data"
    }
   ],
   "execution_count": 6
  },
  {
   "cell_type": "markdown",
   "id": "5a7a4e9d-9f09-4d74-9c87-f75306ede13f",
   "metadata": {},
   "source": [
    "## Shapley Value Sampling (SHAP)"
   ]
  },
  {
   "cell_type": "code",
   "id": "57112d6c-92f3-435c-a6e2-4151c4473d48",
   "metadata": {
    "ExecuteTime": {
     "end_time": "2024-06-08T10:28:32.985494Z",
     "start_time": "2024-06-08T10:28:21.067996Z"
    }
   },
   "source": [
    "from tsCaptum.explainers import Shapley_Value_Sampling as SHAP\n",
    "\n",
    "starttime = timeit.default_timer()\n",
    "mySHAP = SHAP(clf)\n",
    "exp = mySHAP.explain(CMJ_X_test_samples, labels=CMJ_y_test_samples, n_segments=10, normalise=False)\n",
    "print(\"Time to explain (sec):\", timeit.default_timer() - starttime)\n",
    "print( \"\\nSaliency map shape equal to input shape:\", exp.shape, CMJ_X_test.shape,\n",
    "       \"\\n attributions for first 10 time points at sample 0:\\n\", exp[0,:,:10])"
   ],
   "outputs": [
    {
     "name": "stderr",
     "output_type": "stream",
     "text": [
      "8it [00:11,  1.49s/it]               "
     ]
    },
    {
     "name": "stdout",
     "output_type": "stream",
     "text": [
      "Time to explain (sec): 11.906871467000201\n",
      "\n",
      "Saliency map shape equal to input shape: (3, 1, 500) (179, 1, 500) \n",
      " attributions for first 10 time points at sample 0:\n",
      " [[-0.01 -0.01 -0.01 -0.01 -0.01 -0.01 -0.01 -0.01 -0.01 -0.01]]\n"
     ]
    },
    {
     "name": "stderr",
     "output_type": "stream",
     "text": [
      "\n"
     ]
    }
   ],
   "execution_count": 7
  },
  {
   "cell_type": "code",
   "id": "f90fe78a-18f9-42b3-9036-7be59f6f0802",
   "metadata": {
    "ExecuteTime": {
     "end_time": "2024-06-08T10:28:33.132833Z",
     "start_time": "2024-06-08T10:28:32.986835Z"
    }
   },
   "source": [
    "idx = 0\n",
    "plot_saliency_map_uni(CMJ_X_test[idx,:,:], exp[idx,:,:], title = f'SHAP-Instance {idx} - Class {CMJ_y_test[idx]}')"
   ],
   "outputs": [
    {
     "data": {
      "text/plain": [
       "<Figure size 600x200 with 1 Axes>"
      ],
      "image/png": "[encoded data removed]"
     },
     "metadata": {},
     "output_type": "display_data"
    }
   ],
   "execution_count": 8
  },
  {
   "cell_type": "markdown",
   "id": "ed6dd56a-e40a-4332-902a-e19f57a14a66",
   "metadata": {},
   "source": [
    "An important optional argument is the baseline mask, i.e., the value(s) replacing the original time series values to check the impact of those data points on the predictor. \n",
    "This takes two possible formats for it:\n",
    " 1) a scalar i.e. a single number replacing each value to be ablated (default value is 0)."
   ]
  },
  {
   "cell_type": "code",
   "id": "6c0b7d529810aaf3",
   "metadata": {
    "ExecuteTime": {
     "end_time": "2024-06-08T10:28:43.199964Z",
     "start_time": "2024-06-08T10:28:33.134095Z"
    }
   },
   "source": [
    "starttime = timeit.default_timer()\n",
    "mySHAP = SHAP(clf)\n",
    "exp = mySHAP.explain(CMJ_X_test_samples, labels=CMJ_y_test_samples, baseline=0)\n",
    "print(\"Time to explain (sec):\", timeit.default_timer() - starttime)"
   ],
   "outputs": [
    {
     "name": "stderr",
     "output_type": "stream",
     "text": [
      "8it [00:10,  1.26s/it]               "
     ]
    },
    {
     "name": "stdout",
     "output_type": "stream",
     "text": [
      "Time to explain (sec): 10.063457559999733\n"
     ]
    },
    {
     "name": "stderr",
     "output_type": "stream",
     "text": [
      "\n"
     ]
    }
   ],
   "execution_count": 9
  },
  {
   "cell_type": "markdown",
   "id": "4b0877e5c30fc11",
   "metadata": {},
   "source": [
    "2) a time series having the same shape as the one to be explained, usually one item from the train set\n",
    "\n"
   ]
  },
  {
   "cell_type": "code",
   "id": "b43ddbd134bc6b7",
   "metadata": {
    "ExecuteTime": {
     "end_time": "2024-06-08T10:28:52.853747Z",
     "start_time": "2024-06-08T10:28:43.201527Z"
    }
   },
   "source": [
    "starttime = timeit.default_timer()\n",
    "mySHAP = SHAP(clf)\n",
    "exp = mySHAP.explain(CMJ_X_test_samples, labels=CMJ_y_test_samples, baseline=CMJ_X_train[0:1])\n",
    "print(\"Time to explain (sec):\", timeit.default_timer() - starttime)"
   ],
   "outputs": [
    {
     "name": "stderr",
     "output_type": "stream",
     "text": [
      "8it [00:09,  1.21s/it]               "
     ]
    },
    {
     "name": "stdout",
     "output_type": "stream",
     "text": [
      "Time to explain (sec): 9.6494633049997\n"
     ]
    },
    {
     "name": "stderr",
     "output_type": "stream",
     "text": [
      "\n"
     ]
    }
   ],
   "execution_count": 10
  },
  {
   "cell_type": "markdown",
   "id": "1d5faeadb30dfd99",
   "metadata": {},
   "source": [
    "# Kernel SHAP and LIME\n",
    "For kernel SHAP and Lime the Captum framework suggests to use a batch size = 1, we are enforcing this property "
   ]
  },
  {
   "cell_type": "code",
   "id": "6656c4c5052642b8",
   "metadata": {
    "ExecuteTime": {
     "end_time": "2024-06-08T10:28:55.643451Z",
     "start_time": "2024-06-08T10:28:52.854690Z"
    }
   },
   "source": [
    "from tsCaptum.explainers import Kernel_Shap\n",
    "\n",
    "starttime = timeit.default_timer()\n",
    "myKernelSHAP = Kernel_Shap(clf)\n",
    "exp = myKernelSHAP.explain(CMJ_X_test_samples, labels=CMJ_y_test_samples, batch_size=4)\n",
    "print(\"Time to explain (sec):\", timeit.default_timer() - starttime)"
   ],
   "outputs": [
    {
     "name": "stderr",
     "output_type": "stream",
     "text": [
      "/home/davide/workspace/PhD/TsCaptum/./src/tsCaptum/explainers.py:190: UserWarning: batch_size set to 1 as suggested by Captum for Lime and KernelSHAP\n",
      "  warnings.warn(\n",
      "100%|██████████| 3/3 [00:02<00:00,  1.08it/s]"
     ]
    },
    {
     "name": "stdout",
     "output_type": "stream",
     "text": [
      "Time to explain (sec): 2.786211376999745\n"
     ]
    },
    {
     "name": "stderr",
     "output_type": "stream",
     "text": [
      "\n"
     ]
    }
   ],
   "execution_count": 11
  },
  {
   "cell_type": "code",
   "id": "9e0b30b76683ab6d",
   "metadata": {
    "ExecuteTime": {
     "end_time": "2024-06-08T10:28:58.254633Z",
     "start_time": "2024-06-08T10:28:55.644118Z"
    }
   },
   "source": [
    "from tsCaptum.explainers import  LIME\n",
    "\n",
    "starttime = timeit.default_timer()\n",
    "myLIME = LIME(clf)\n",
    "exp = myLIME.explain(CMJ_X_test_samples, labels=CMJ_y_test_samples, batch_size=6)\n",
    "print(\"Time to explain (sec):\", timeit.default_timer() - starttime)"
   ],
   "outputs": [
    {
     "name": "stderr",
     "output_type": "stream",
     "text": [
      "/home/davide/workspace/PhD/TsCaptum/./src/tsCaptum/explainers.py:217: UserWarning: batch_size set to 1 as suggested by Captum for Lime and KernelSHAP\n",
      "  warnings.warn(\n",
      "100%|██████████| 3/3 [00:02<00:00,  1.15it/s]"
     ]
    },
    {
     "name": "stdout",
     "output_type": "stream",
     "text": [
      "Time to explain (sec): 2.6083099859997674\n"
     ]
    },
    {
     "name": "stderr",
     "output_type": "stream",
     "text": [
      "\n"
     ]
    }
   ],
   "execution_count": 12
  },
  {
   "cell_type": "markdown",
   "id": "f7d059928693bf4",
   "metadata": {},
   "source": [
    "# Feature Permutation \n",
    "This is another example explainer; this method does not accept a baseline as argument."
   ]
  },
  {
   "cell_type": "code",
   "id": "36564c3e46781103",
   "metadata": {
    "ExecuteTime": {
     "end_time": "2024-06-08T10:28:58.684957Z",
     "start_time": "2024-06-08T10:28:58.255483Z"
    }
   },
   "source": [
    "from tsCaptum.explainers import Feature_Permutation\n",
    "\n",
    "starttime = timeit.default_timer()\n",
    "myFP = Feature_Permutation(clf,clf_type=\"classifier\")\n",
    "exp = myFP.explain(CMJ_X_test_samples, labels=CMJ_y_test_samples, baseline=42)\n",
    "print(\"Time to explain (sec):\", timeit.default_timer() - starttime)"
   ],
   "outputs": [
    {
     "name": "stderr",
     "output_type": "stream",
     "text": [
      "/home/davide/workspace/PhD/TsCaptum/./src/tsCaptum/explainers.py:164: UserWarning: specified baseline will be ignored as Feature Permutation algorithm has its own baseline\n",
      "  warnings.warn(\n",
      "8it [00:00, 18.81it/s]               "
     ]
    },
    {
     "name": "stdout",
     "output_type": "stream",
     "text": [
      "Time to explain (sec): 0.4275302289997853\n"
     ]
    },
    {
     "name": "stderr",
     "output_type": "stream",
     "text": [
      "\n"
     ]
    }
   ],
   "execution_count": 13
  },
  {
   "cell_type": "markdown",
   "id": "892836516582dc1b",
   "metadata": {},
   "source": [
    "# Multivariate Time Series Classification"
   ]
  },
  {
   "cell_type": "markdown",
   "id": "dd4b7179-62a6-4f6f-b03a-0446e8051af7",
   "metadata": {},
   "source": [
    "## Minirocket classifier, followed by Feature Ablation explainer"
   ]
  },
  {
   "cell_type": "code",
   "id": "6104cb02d4d84e6b",
   "metadata": {
    "ExecuteTime": {
     "end_time": "2024-06-08T10:29:01.156285Z",
     "start_time": "2024-06-08T10:28:58.685852Z"
    }
   },
   "source": [
    "starttime = timeit.default_timer()\n",
    "\n",
    "clf_MTS = make_pipeline(MiniRocketMultivariate(n_jobs=-1),\n",
    "                        StandardScaler(),\n",
    "                        LogisticRegression(n_jobs=-1))\n",
    "clf_MTS.fit(MP_X_train,MP_y_train)\n",
    "print(\"accuracy is\", clf_MTS.score(MP_X_test,MP_y_test))\n",
    "\n",
    "print(\"Time to train and test (sec):\", timeit.default_timer() - starttime)"
   ],
   "outputs": [
    {
     "name": "stdout",
     "output_type": "stream",
     "text": [
      "accuracy is 0.7546218487394958\n",
      "Time to train and test (sec): 2.465469789999588\n"
     ]
    }
   ],
   "execution_count": 14
  },
  {
   "cell_type": "markdown",
   "id": "b5105f54-c1f1-4387-89ab-07175893be98",
   "metadata": {},
   "source": [
    "## Exaplanation using Attribution Methods"
   ]
  },
  {
   "cell_type": "code",
   "id": "d7360295aa10d7e2",
   "metadata": {
    "ExecuteTime": {
     "end_time": "2024-06-08T10:29:01.186615Z",
     "start_time": "2024-06-08T10:29:01.159725Z"
    }
   },
   "source": [
    "n_to_explain = 3\n",
    "MP_X_test_samples, MP_y_test_samples = MP_X_test[:n_to_explain], MP_y_test[:n_to_explain]"
   ],
   "outputs": [],
   "execution_count": 15
  },
  {
   "cell_type": "code",
   "id": "b41c684fe6b4681f",
   "metadata": {
    "ExecuteTime": {
     "end_time": "2024-06-08T10:29:01.813918Z",
     "start_time": "2024-06-08T10:29:01.209707Z"
    }
   },
   "source": [
    "starttime = timeit.default_timer()\n",
    "\n",
    "myFA_MTS = Feature_Ablation(clf_MTS, clf_type=\"classifier\")\n",
    "exp = myFA_MTS.explain( samples= MP_X_test_samples, labels=MP_y_test_samples, batch_size=8, n_segments=10, normalise=False, baseline=0)\n",
    "\n",
    "print(\"Time to explain (sec):\", timeit.default_timer() - starttime)\n",
    "\n",
    "print( \"\\nSaliency map shape equal to input shape:\", exp.shape, MP_X_test_samples.shape,\n",
    "       \"\\n attributions for first 10 time points in the first 4 channels:\\n\", exp[0,:4,:10])\n",
    "\n",
    "print(exp.mean())"
   ],
   "outputs": [
    {
     "name": "stderr",
     "output_type": "stream",
     "text": [
      "8it [00:00, 13.53it/s]               "
     ]
    },
    {
     "name": "stdout",
     "output_type": "stream",
     "text": [
      "Time to explain (sec): 0.5955302110005505\n",
      "\n",
      "Saliency map shape equal to input shape: (3, 8, 161) (3, 8, 161) \n",
      " attributions for first 10 time points in the first 4 channels:\n",
      " [[ 0.1   0.1   0.1   0.1   0.1   0.1   0.1   0.1   0.1   0.1 ]\n",
      " [ 0.13  0.13  0.13  0.13  0.13  0.13  0.13  0.13  0.13  0.13]\n",
      " [ 0.23  0.23  0.23  0.23  0.23  0.23  0.23  0.23  0.23  0.23]\n",
      " [-0.39 -0.39 -0.39 -0.39 -0.39 -0.39 -0.39 -0.39 -0.39 -0.39]]\n",
      "-0.1172819527976164\n"
     ]
    },
    {
     "name": "stderr",
     "output_type": "stream",
     "text": [
      "\n"
     ]
    }
   ],
   "execution_count": 16
  },
  {
   "cell_type": "code",
   "id": "4fd95526-c435-4841-a607-cc4561a78993",
   "metadata": {
    "ExecuteTime": {
     "end_time": "2024-06-08T10:29:02.749876Z",
     "start_time": "2024-06-08T10:29:01.814832Z"
    }
   },
   "source": [
    "idx = 0\n",
    "for ch in range(MP_X_test.shape[1]):\n",
    "    print(\"channel:\", ch)\n",
    "    plot_saliency_map_uni(MP_X_test[idx,ch,:], exp[idx,ch,:], title = f'FeatureAblation-Instance {idx} - Class {MP_y_test[idx]}')"
   ],
   "outputs": [
    {
     "name": "stdout",
     "output_type": "stream",
     "text": [
      "channel: 0\n"
     ]
    },
    {
     "data": {
      "text/plain": [
       "<Figure size 600x200 with 1 Axes>"
      ],
      "image/png": "[encoded data removed]"
     },
     "metadata": {},
     "output_type": "display_data"
    },
    {
     "name": "stdout",
     "output_type": "stream",
     "text": [
      "channel: 1\n"
     ]
    },
    {
     "data": {
      "text/plain": [
       "<Figure size 600x200 with 1 Axes>"
      ],
      "image/png": "[encoded data removed]"
     },
     "metadata": {},
     "output_type": "display_data"
    },
    {
     "name": "stdout",
     "output_type": "stream",
     "text": [
      "channel: 2\n"
     ]
    },
    {
     "data": {
      "text/plain": [
       "<Figure size 600x200 with 1 Axes>"
      ],
      "image/png": "[encoded data removed]"
     },
     "metadata": {},
     "output_type": "display_data"
    },
    {
     "name": "stdout",
     "output_type": "stream",
     "text": [
      "channel: 3\n"
     ]
    },
    {
     "data": {
      "text/plain": [
       "<Figure size 600x200 with 1 Axes>"
      ],
      "image/png": "[encoded data removed]"
     },
     "metadata": {},
     "output_type": "display_data"
    },
    {
     "name": "stdout",
     "output_type": "stream",
     "text": [
      "channel: 4\n"
     ]
    },
    {
     "data": {
      "text/plain": [
       "<Figure size 600x200 with 1 Axes>"
      ],
      "image/png": "[encoded data removed]"
     },
     "metadata": {},
     "output_type": "display_data"
    },
    {
     "name": "stdout",
     "output_type": "stream",
     "text": [
      "channel: 5\n"
     ]
    },
    {
     "data": {
      "text/plain": [
       "<Figure size 600x200 with 1 Axes>"
      ],
      "image/png": "[encoded data removed]"
     },
     "metadata": {},
     "output_type": "display_data"
    },
    {
     "name": "stdout",
     "output_type": "stream",
     "text": [
      "channel: 6\n"
     ]
    },
    {
     "data": {
      "text/plain": [
       "<Figure size 600x200 with 1 Axes>"
      ],
      "image/png": "[encoded data removed]"
     },
     "metadata": {},
     "output_type": "display_data"
    },
    {
     "name": "stdout",
     "output_type": "stream",
     "text": [
      "channel: 7\n"
     ]
    },
    {
     "data": {
      "text/plain": [
       "<Figure size 600x200 with 1 Axes>"
      ],
      "image/png": "[encoded data removed]"
     },
     "metadata": {},
     "output_type": "display_data"
    }
   ],
   "execution_count": 17
  },
  {
   "cell_type": "markdown",
   "id": "80a894cdc15e4952",
   "metadata": {},
   "source": [
    "## We try different classifiers and different arguments for attribution."
   ]
  },
  {
   "cell_type": "markdown",
   "id": "f02387e6-cd5b-4568-8344-20a5279584f6",
   "metadata": {},
   "source": [
    "## MUSE classifier and Feature Ablation explainer"
   ]
  },
  {
   "cell_type": "code",
   "id": "6f2501792f7f4d2c",
   "metadata": {
    "ExecuteTime": {
     "end_time": "2024-06-08T10:29:49.551921Z",
     "start_time": "2024-06-08T10:29:02.750735Z"
    }
   },
   "source": [
    "from aeon.classification.dictionary_based import MUSE\n",
    "\n",
    "starttime = timeit.default_timer()\n",
    "clf_MTS = MUSE(window_inc=4, use_first_order_differences=False, support_probabilities=True)\n",
    "clf_MTS.fit(MP_X_train,MP_y_train)\n",
    "print(\"accuracy is\", clf_MTS.score(MP_X_test,MP_y_test))\n",
    "print(\"Time to train and test (sec):\", timeit.default_timer() - starttime)"
   ],
   "outputs": [
    {
     "name": "stdout",
     "output_type": "stream",
     "text": [
      "accuracy is 0.6823529411764706\n",
      "Time to train and test (sec): 46.780013925000276\n"
     ]
    }
   ],
   "execution_count": 18
  },
  {
   "cell_type": "code",
   "id": "f0d7700697decf43",
   "metadata": {
    "ExecuteTime": {
     "end_time": "2024-06-08T10:30:06.065294Z",
     "start_time": "2024-06-08T10:29:49.553403Z"
    }
   },
   "source": [
    "starttime = timeit.default_timer()\n",
    "myFA_MTS = Feature_Ablation(clf_MTS, clf_type=\"classifier\")\n",
    "exp = myFA_MTS.explain(samples= MP_X_test_samples, labels=MP_y_test_samples, n_segments=10)\n",
    "print(\"Time to explain (sec):\", timeit.default_timer() - starttime)\n",
    "\n",
    "print( \"\\nSaliency map shape equal to input shape:\", exp.shape, MP_X_test_samples.shape,\n",
    "       \"\\n attributions for first 10 time points in the first 4 channels:\\n\", exp[0,:4,:10])\n",
    "\n",
    "starttime = timeit.default_timer()\n",
    "myFA_MTS = Feature_Ablation(clf_MTS, clf_type=\"classifier\")\n",
    "exp = myFA_MTS.explain(samples= MP_X_test_samples, labels=MP_y_test_samples, n_segments=20)\n",
    "print(\"Time to explain (sec):\", timeit.default_timer() - starttime)\n",
    "\n",
    "print( \"\\nSaliency map shape equal to input shape:\", exp.shape, MP_X_test_samples.shape,\n",
    "       \"\\n attributions for first 10 time points in the first 4 channels:\\n\", exp[0,:4,:10])"
   ],
   "outputs": [
    {
     "name": "stderr",
     "output_type": "stream",
     "text": [
      "8it [00:05,  1.39it/s]               \n"
     ]
    },
    {
     "name": "stdout",
     "output_type": "stream",
     "text": [
      "Time to explain (sec): 5.751942555000824\n",
      "\n",
      "Saliency map shape equal to input shape: (3, 8, 161) (3, 8, 161) \n",
      " attributions for first 10 time points in the first 4 channels:\n",
      " [[-2.47e-05 -2.47e-05 -2.47e-05 -2.47e-05 -2.47e-05 -2.47e-05 -2.47e-05\n",
      "  -2.47e-05 -2.47e-05 -2.47e-05]\n",
      " [-8.49e-04 -8.49e-04 -8.49e-04 -8.49e-04 -8.49e-04 -8.49e-04 -8.49e-04\n",
      "  -8.49e-04 -8.49e-04 -8.49e-04]\n",
      " [ 1.80e-04  1.80e-04  1.80e-04  1.80e-04  1.80e-04  1.80e-04  1.80e-04\n",
      "   1.80e-04  1.80e-04  1.80e-04]\n",
      " [-5.44e-05 -5.44e-05 -5.44e-05 -5.44e-05 -5.44e-05 -5.44e-05 -5.44e-05\n",
      "  -5.44e-05 -5.44e-05 -5.44e-05]]\n"
     ]
    },
    {
     "name": "stderr",
     "output_type": "stream",
     "text": [
      "8it [00:10,  1.34s/it]               "
     ]
    },
    {
     "name": "stdout",
     "output_type": "stream",
     "text": [
      "Time to explain (sec): 10.75547214100061\n",
      "\n",
      "Saliency map shape equal to input shape: (3, 8, 161) (3, 8, 161) \n",
      " attributions for first 10 time points in the first 4 channels:\n",
      " [[ 3.80e-05  3.80e-05  3.80e-05  3.80e-05  3.80e-05  3.80e-05  3.80e-05\n",
      "   3.80e-05  3.80e-05  4.90e-05]\n",
      " [-1.49e-04 -1.49e-04 -1.49e-04 -1.49e-04 -1.49e-04 -1.49e-04 -1.49e-04\n",
      "  -1.49e-04 -1.49e-04 -1.39e-03]\n",
      " [ 2.78e-05  2.78e-05  2.78e-05  2.78e-05  2.78e-05  2.78e-05  2.78e-05\n",
      "   2.78e-05  2.78e-05  1.77e-04]\n",
      " [-1.86e-04 -1.86e-04 -1.86e-04 -1.86e-04 -1.86e-04 -1.86e-04 -1.86e-04\n",
      "  -1.86e-04 -1.86e-04 -4.13e-05]]\n"
     ]
    },
    {
     "name": "stderr",
     "output_type": "stream",
     "text": [
      "\n"
     ]
    }
   ],
   "execution_count": 19
  },
  {
   "cell_type": "markdown",
   "id": "6b4e4737227b62bf",
   "metadata": {},
   "source": [
    "## QUANT classifier and Feature Ablation explainer"
   ]
  },
  {
   "cell_type": "code",
   "id": "bf93521c2e184696",
   "metadata": {
    "ExecuteTime": {
     "end_time": "2024-06-08T10:30:40.024398Z",
     "start_time": "2024-06-08T10:30:06.066021Z"
    }
   },
   "source": [
    "from aeon.classification.interval_based import QUANTClassifier\n",
    "\n",
    "starttime = timeit.default_timer()\n",
    "clf_MTS = QUANTClassifier()\n",
    "clf_MTS.fit(MP_X_train,MP_y_train)\n",
    "print(\"accuracy is\", clf_MTS.score(MP_X_test,MP_y_test))\n",
    "print(\"Time to train and test (sec):\", timeit.default_timer() - starttime)"
   ],
   "outputs": [
    {
     "name": "stdout",
     "output_type": "stream",
     "text": [
      "accuracy is 0.680672268907563\n",
      "Time to train and test (sec): 33.9561402169993\n"
     ]
    }
   ],
   "execution_count": 20
  },
  {
   "cell_type": "code",
   "id": "327a1b00-908c-462c-8a1c-8737886dfc2c",
   "metadata": {
    "ExecuteTime": {
     "end_time": "2024-06-08T10:30:46.402745Z",
     "start_time": "2024-06-08T10:30:40.025463Z"
    }
   },
   "source": [
    "starttime = timeit.default_timer()\n",
    "myFA_MTS = Feature_Ablation(clf_MTS, clf_type=\"classifier\")\n",
    "exps = myFA_MTS.explain( samples= MP_X_test_samples, labels=MP_y_test_samples, n_segments=10, normalise=False)\n",
    "print(\"Time to explain (sec):\", timeit.default_timer() - starttime)\n",
    "\n",
    "print(\" min and max attribution without normalisation:\")\n",
    "for i,exp in enumerate(exps):\n",
    "\tprint( i , '{:.4f}'.format(exp.min()),\"\\t\", '{:.4f}'.format(exp.max()) )\n",
    "\n",
    "\n",
    "starttime = timeit.default_timer()\n",
    "myFA_MTS = Feature_Ablation(clf_MTS, clf_type=\"classifier\")\n",
    "exps = myFA_MTS.explain( samples= MP_X_test_samples, labels=MP_y_test_samples, n_segments=10, normalise=True)\n",
    "print(\"Time to explain (sec):\", timeit.default_timer() - starttime)\n",
    "\n",
    "print(\" min and max attribution with normalisation to [-1,1]:\")\n",
    "for i,exp in enumerate(exps):\n",
    "\tprint( i , '{:.4f}'.format(exp.min()),\"\\t\", '{:.4f}'.format(exp.max()) )"
   ],
   "outputs": [
    {
     "name": "stderr",
     "output_type": "stream",
     "text": [
      "8it [00:03,  2.52it/s]               \n"
     ]
    },
    {
     "name": "stdout",
     "output_type": "stream",
     "text": [
      "Time to explain (sec): 3.1780773370001043\n",
      " min and max attribution without normalisation:\n",
      "0 -0.0500 \t 0.0950\n",
      "1 -0.1250 \t 0.0650\n",
      "2 -0.0200 \t 0.0700\n"
     ]
    },
    {
     "name": "stderr",
     "output_type": "stream",
     "text": [
      "8it [00:03,  2.50it/s]               "
     ]
    },
    {
     "name": "stdout",
     "output_type": "stream",
     "text": [
      "Time to explain (sec): 3.1958082329992976\n",
      " min and max attribution with normalisation to [-1,1]:\n",
      "0 -0.5263 \t 1.0000\n",
      "1 -1.0000 \t 0.5200\n",
      "2 -0.2857 \t 1.0000\n"
     ]
    },
    {
     "name": "stderr",
     "output_type": "stream",
     "text": [
      "\n"
     ]
    }
   ],
   "execution_count": 21
  },
  {
   "cell_type": "markdown",
   "id": "5edb4cf8ea2d25ea",
   "metadata": {},
   "source": [
    "## Rocket classifier followed by Feature Ablation explainer"
   ]
  },
  {
   "cell_type": "code",
   "id": "449d5e25f2663869",
   "metadata": {
    "ExecuteTime": {
     "end_time": "2024-06-08T10:30:59.843369Z",
     "start_time": "2024-06-08T10:30:46.403691Z"
    }
   },
   "source": [
    "from aeon.classification.convolution_based import RocketClassifier\n",
    "\n",
    "starttime = timeit.default_timer()\n",
    "clf_MTS = RocketClassifier(n_jobs=-1)\n",
    "clf_MTS.fit(MP_X_train,MP_y_train)\n",
    "print(\"accuracy is\", clf_MTS.score(MP_X_test,MP_y_test))\n",
    "print(\"Time to train and test (sec):\", timeit.default_timer() - starttime)"
   ],
   "outputs": [
    {
     "name": "stdout",
     "output_type": "stream",
     "text": [
      "accuracy is 0.7747899159663866\n",
      "Time to train and test (sec): 13.417686310000136\n"
     ]
    }
   ],
   "execution_count": 22
  },
  {
   "cell_type": "code",
   "id": "98888b82d49023dd",
   "metadata": {
    "ExecuteTime": {
     "end_time": "2024-06-08T10:31:05.508080Z",
     "start_time": "2024-06-08T10:30:59.844739Z"
    }
   },
   "source": [
    "starttime = timeit.default_timer()\n",
    "myFA_MTS = Feature_Ablation(clf_MTS, clf_type=\"classifier\")\n",
    "exps = myFA_MTS.explain( samples= MP_X_test_samples, labels=MP_y_test_samples, n_segments=10, normalise=False)\n",
    "print(\"Time to explain (sec):\", timeit.default_timer() - starttime)"
   ],
   "outputs": [
    {
     "name": "stderr",
     "output_type": "stream",
     "text": [
      "8it [00:05,  1.41it/s]               "
     ]
    },
    {
     "name": "stdout",
     "output_type": "stream",
     "text": [
      "Time to explain (sec): 5.659329058998992\n"
     ]
    },
    {
     "name": "stderr",
     "output_type": "stream",
     "text": [
      "\n"
     ]
    }
   ],
   "execution_count": 23
  },
  {
   "cell_type": "markdown",
   "id": "850c5a33-cb20-4f93-ab19-ed54f83ddb3b",
   "metadata": {},
   "source": [
    "## Pipeline with a Rocket transform, followed by explainer applied to the pipeline"
   ]
  },
  {
   "cell_type": "code",
   "id": "9783cf45-02a1-4a21-9c8f-893ca46c8990",
   "metadata": {
    "ExecuteTime": {
     "end_time": "2024-06-08T10:31:20.694625Z",
     "start_time": "2024-06-08T10:31:05.509270Z"
    }
   },
   "source": [
    "from aeon.transformations.collection.convolution_based import Rocket\n",
    "\n",
    "starttime = timeit.default_timer()\n",
    "\n",
    "clf_MTS = make_pipeline(Rocket(n_jobs=-1),\n",
    "                        StandardScaler(),\n",
    "                        LogisticRegression(n_jobs=-1))\n",
    "\n",
    "clf_MTS.fit(MP_X_train,MP_y_train)\n",
    "print(\"accuracy is\", clf_MTS.score(MP_X_test,MP_y_test))\n",
    "print(\"Time to train and test (sec):\", timeit.default_timer() - starttime)"
   ],
   "outputs": [
    {
     "name": "stdout",
     "output_type": "stream",
     "text": [
      "accuracy is 0.746218487394958\n",
      "Time to train and test (sec): 15.16987614699974\n"
     ]
    }
   ],
   "execution_count": 24
  },
  {
   "cell_type": "code",
   "id": "8b170bbe-7b00-434f-b621-e5f0e2e5f029",
   "metadata": {
    "ExecuteTime": {
     "end_time": "2024-06-08T10:31:26.256226Z",
     "start_time": "2024-06-08T10:31:20.700315Z"
    }
   },
   "source": [
    "starttime = timeit.default_timer()\n",
    "myFA_MTS = Feature_Ablation(clf_MTS, clf_type=\"classifier\")\n",
    "exps = myFA_MTS.explain( samples= MP_X_test_samples, labels=MP_y_test_samples, n_segments=10, normalise=False)\n",
    "print(\"Time to explain (sec):\", timeit.default_timer() - starttime)"
   ],
   "outputs": [
    {
     "name": "stderr",
     "output_type": "stream",
     "text": [
      "8it [00:05,  1.44it/s]               "
     ]
    },
    {
     "name": "stdout",
     "output_type": "stream",
     "text": [
      "Time to explain (sec): 5.549603278001086\n"
     ]
    },
    {
     "name": "stderr",
     "output_type": "stream",
     "text": [
      "\n"
     ]
    }
   ],
   "execution_count": 25
  },
  {
   "cell_type": "markdown",
   "id": "26aae25d-f3eb-4033-9316-37d8861f1c6f",
   "metadata": {},
   "source": [
    "# Time Series Regression and Explanation using Attribution"
   ]
  },
  {
   "cell_type": "markdown",
   "id": "b3328178-a81d-483e-b5cf-1ba1117e3552",
   "metadata": {},
   "source": [
    "## Univariate Time Series Regression and Explanation"
   ]
  },
  {
   "cell_type": "markdown",
   "id": "4ac18fd4-e508-464d-ae24-fce39f2ca360",
   "metadata": {},
   "source": [
    "## Pipeline of Rocket transform and ExtraTreesRegressor for regression, followed by explainer"
   ]
  },
  {
   "cell_type": "code",
   "id": "c5eb17cc3824d4a",
   "metadata": {
    "ExecuteTime": {
     "end_time": "2024-06-08T10:31:31.353366Z",
     "start_time": "2024-06-08T10:31:26.257400Z"
    }
   },
   "source": [
    "starttime = timeit.default_timer()\n",
    "\n",
    "regressor = make_pipeline(\n",
    "            Rocket(normalise=True, num_kernels=10000, n_jobs=-1, random_state=142),\n",
    "            StandardScaler(),\n",
    "            SelectFromModel(RidgeCV()),\n",
    "            ExtraTreesRegressor(n_estimators=100, random_state=142),\n",
    "        )\n",
    "\n",
    "regressor.fit(X_train_reg_uni, y_train_reg_uni)\n",
    "test_y_pred_reg_uni = regressor.predict(X_test_reg_uni)\n",
    "rmse = math.sqrt(mean_squared_error(y_test_reg_uni, test_y_pred_reg_uni))\n",
    "print(\"rmse metric is: \", rmse)\n",
    "print(test_y_pred_reg_uni)\n",
    "print(\"Time to train and test (sec):\", timeit.default_timer() - starttime)"
   ],
   "outputs": [
    {
     "name": "stdout",
     "output_type": "stream",
     "text": [
      "rmse metric is:  9.729877954013606\n",
      "[72.   60.1  51.49 60.96 23.26 49.7  48.82 23.55]\n",
      "Time to train and test (sec): 5.092500188000486\n"
     ]
    }
   ],
   "execution_count": 26
  },
  {
   "cell_type": "code",
   "id": "926c2aab-5ea0-4c46-be51-5a96fe0bcd3d",
   "metadata": {
    "ExecuteTime": {
     "end_time": "2024-06-08T10:31:34.319385Z",
     "start_time": "2024-06-08T10:31:31.354215Z"
    }
   },
   "source": [
    "n_to_explain = 3\n",
    "X_test_reg_uni_samples, y_test_reg_uni_samples = X_test_reg_uni[:n_to_explain], y_test_reg_uni[:n_to_explain]\n",
    "\n",
    "starttime = timeit.default_timer()\n",
    "myFA = Feature_Ablation(regressor)\n",
    "exp = myFA.explain(samples=X_test_reg_uni_samples, n_segments=10, normalise=False)\n",
    "print( \"saliency map shape equal to input shape:\", exp.shape, X_test_reg_uni_samples.shape,\n",
    "       \"\\n attributions for first 20 time points:\\n\", exp[0,:,:20])\n",
    "print(\"Time to explain (sec):\", timeit.default_timer() - starttime)\n",
    "\n",
    "#starttime = timeit.default_timer()\n",
    "#exp = myFA.explain(samples=X_test_reg_uni, n_segments=20, normalise=True)\n",
    "#print( \"normalised saliency map shape equal to input shape:\", exp.shape, X_test_reg_uni.shape,\n",
    "#       \"\\n attributions for first 20 time points:\\n\", exp[0,:,:20])\n",
    "#print(\"Time to explain (sec):\", timeit.default_timer() - starttime)"
   ],
   "outputs": [
    {
     "name": "stderr",
     "output_type": "stream",
     "text": [
      "8it [00:02,  2.70it/s]               "
     ]
    },
    {
     "name": "stdout",
     "output_type": "stream",
     "text": [
      "saliency map shape equal to input shape: (3, 1, 3424) (3, 1, 3424) \n",
      " attributions for first 20 time points:\n",
      " [[0.26 0.26 0.26 0.26 0.26 0.26 0.26 0.26 0.26 0.26 0.26 0.26 0.26 0.26\n",
      "  0.26 0.26 0.26 0.26 0.26 0.26]]\n",
      "Time to explain (sec): 2.9611489170001732\n"
     ]
    },
    {
     "name": "stderr",
     "output_type": "stream",
     "text": [
      "\n"
     ]
    }
   ],
   "execution_count": 27
  },
  {
   "cell_type": "code",
   "id": "2805a7c5-8948-4d5e-b389-75803dfc1730",
   "metadata": {
    "ExecuteTime": {
     "end_time": "2024-06-08T10:31:34.439038Z",
     "start_time": "2024-06-08T10:31:34.320213Z"
    }
   },
   "source": [
    "idx = 0\n",
    "plot_saliency_map_uni(X_test_reg_uni[idx,:,:], exp[idx,:,:], title = f'FeatureAblation-Instance {idx} - Target {y_test_reg_uni[idx]}')"
   ],
   "outputs": [
    {
     "data": {
      "text/plain": [
       "<Figure size 600x200 with 1 Axes>"
      ],
      "image/png": "[encoded data removed]"
     },
     "metadata": {},
     "output_type": "display_data"
    }
   ],
   "execution_count": 28
  },
  {
   "cell_type": "code",
   "id": "2fc5a695-fb47-4299-8ee8-c5780cdbd2d5",
   "metadata": {
    "jupyter": {
     "is_executing": true
    },
    "ExecuteTime": {
     "start_time": "2024-06-08T10:31:34.439823Z"
    }
   },
   "source": [
    "n_to_explain = 3\n",
    "X_test_reg_uni_samples, y_test_reg_uni_samples = X_test_reg_uni[:n_to_explain], y_test_reg_uni[:n_to_explain]\n",
    "\n",
    "starttime = timeit.default_timer()\n",
    "mySHAP = SHAP(regressor)\n",
    "exp = mySHAP.explain(samples=X_test_reg_uni_samples, n_segments=10, normalise=False)\n",
    "print( \"saliency map shape equal to input shape:\", exp.shape, X_test_reg_uni_samples.shape,\n",
    "       \"\\n attributions for first 20 time points:\\n\", exp[0,:,:20])\n",
    "print(\"Time to explain (sec):\", timeit.default_timer() - starttime)"
   ],
   "outputs": [
    {
     "name": "stderr",
     "output_type": "stream",
     "text": [
      "  0%|          | 0/3 [00:00<?, ?it/s]"
     ]
    }
   ],
   "execution_count": null
  },
  {
   "cell_type": "code",
   "id": "0a3f36f7-bd77-440d-bdd6-aea12a9bf9ee",
   "metadata": {
    "jupyter": {
     "is_executing": true
    }
   },
   "source": [
    "idx = 0\n",
    "plot_saliency_map_uni(X_test_reg_uni[idx,:,:], exp[idx,:,:], title = f'SHAP-Instance {idx} - Target {y_test_reg_uni[idx]}')"
   ],
   "outputs": [],
   "execution_count": null
  },
  {
   "cell_type": "markdown",
   "id": "51daf5f3-9796-45fd-8ada-f272bdf1e676",
   "metadata": {},
   "source": [
    "## Multivariate Time Series Regression and Explanation"
   ]
  },
  {
   "cell_type": "markdown",
   "id": "1f5bbb71-294b-4021-bc20-0bff7d4fbf8f",
   "metadata": {},
   "source": [
    "## Regression pipeline using MiniRocket, followed by FeatureAblation explainer"
   ]
  },
  {
   "cell_type": "code",
   "id": "c0842efa33107367",
   "metadata": {
    "jupyter": {
     "is_executing": true
    }
   },
   "source": [
    "starttime = timeit.default_timer()\n",
    "\n",
    "regressor = make_pipeline(MiniRocketMultivariate(n_jobs=-1),\n",
    "                          StandardScaler(), \n",
    "                          RidgeCV())\n",
    "\n",
    "regressor.fit(X_train_reg, y_train_reg)\n",
    "test_y_pred = regressor.predict(X_test_reg)\n",
    "rmse = math.sqrt(mean_squared_error(y_test_reg, test_y_pred))\n",
    "print(\"rmse metric is: \", rmse)\n",
    "print(\"Time to train and test (sec):\", timeit.default_timer() - starttime)"
   ],
   "outputs": [],
   "execution_count": null
  },
  {
   "cell_type": "code",
   "id": "c9ee8962-af6b-4844-9d53-eedf865529b9",
   "metadata": {
    "jupyter": {
     "is_executing": true
    }
   },
   "source": [
    "n_to_explain = 3\n",
    "X_test_reg, y_test_reg = X_test_reg[:n_to_explain], y_test_reg[:n_to_explain]\n",
    "\n",
    "starttime = timeit.default_timer()\n",
    "myFA = Feature_Ablation(regressor)\n",
    "exp = myFA.explain(samples=X_test_reg, n_segments=10, normalise=False)\n",
    "print( \"\\nSaliency map shape equal to input shape:\", exp.shape, X_test_reg_uni.shape,\n",
    "       \"\\n attributions for first 5 time points in the first 3 channels of samples 0:\\n\", exp[0,:3,:5])\n",
    "print(\"Time to explain (sec):\", timeit.default_timer() - starttime)    \n"
   ],
   "outputs": [],
   "execution_count": null
  },
  {
   "cell_type": "code",
   "id": "8086c1a4-932d-452f-93e7-76fe794fb42c",
   "metadata": {
    "jupyter": {
     "is_executing": true
    }
   },
   "source": [
    "idx = 0\n",
    "for ch in range(X_test_reg.shape[1]):\n",
    "    print(\"channel:\", ch)\n",
    "    plot_saliency_map_uni(X_test_reg[idx,ch,:], exp[idx,ch,:], title = f'FeatureAblation-Instance {idx} - Target {y_test_reg[idx]}')"
   ],
   "outputs": [],
   "execution_count": null
  },
  {
   "cell_type": "code",
   "id": "3970a750-faf3-4113-a08a-4ef6c97f661a",
   "metadata": {
    "jupyter": {
     "is_executing": true
    }
   },
   "source": [],
   "outputs": [],
   "execution_count": null
  },
  {
   "metadata": {},
   "cell_type": "code",
   "outputs": [],
   "execution_count": null,
   "source": "",
   "id": "4eca3a19f3e25ae7"
  }
 ],
 "metadata": {
  "kernelspec": {
   "display_name": "Python 3 (ipykernel)",
   "language": "python",
   "name": "python3"
  },
  "language_info": {
   "codemirror_mode": {
    "name": "ipython",
    "version": 3
   },
   "file_extension": ".py",
   "mimetype": "text/x-python",
   "name": "python",
   "nbconvert_exporter": "python",
   "pygments_lexer": "ipython3",
   "version": "3.11.7"
  }
 },
 "nbformat": 4,
 "nbformat_minor": 5
}
