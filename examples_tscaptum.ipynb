{
 "cells": [
  {
   "cell_type": "markdown",
   "id": "d1bc9543-951f-47c6-a197-867d526443d6",
   "metadata": {},
   "source": [
    "# Time Series Explanation with tsCaptum"
   ]
  },
  {
   "cell_type": "markdown",
   "id": "0542e924-ccfc-4be2-9332-b84dbb2af863",
   "metadata": {},
   "source": [
    "This notebook provides examples for training time series classifiers and regressors and explaining them using post-hoc attribution methods. The tsCaptum library makes it easy to train time series models using the sktime or aeon library and explain them using the captum library."
   ]
  },
  {
   "cell_type": "code",
   "execution_count": 1,
   "id": "initial_id",
   "metadata": {
    "ExecuteTime": {
     "end_time": "2024-06-09T07:24:24.033255Z",
     "start_time": "2024-06-09T07:24:21.958256Z"
    }
   },
   "outputs": [
    {
     "name": "stderr",
     "output_type": "stream",
     "text": [
      "OMP: Info #270: omp_set_nested routine deprecated, please use omp_set_max_active_levels instead.\n"
     ]
    }
   ],
   "source": [
    "# Classic tabular ML algorithms\n",
    "from sklearn.linear_model import RidgeCV,  LogisticRegression\n",
    "from sklearn.ensemble import  ExtraTreesRegressor\n",
    "\n",
    "from sklearn.pipeline import make_pipeline\n",
    "from sklearn.preprocessing import StandardScaler\n",
    "from sklearn.feature_selection import SelectFromModel\n",
    "\n",
    "# Time series algorithms for feature extraction and classification/regression\n",
    "from aeon.datasets import load_from_tsfile\n",
    "from aeon.transformations.collection.convolution_based import MiniRocketMultivariate\n",
    "\n",
    "import math\n",
    "from sklearn.metrics import mean_squared_error\n",
    "import numpy as np\n",
    "import pandas as pd\n",
    "from os.path import join\n",
    "import sys\n",
    "sys.path.append('./src/')\n",
    "import timeit\n",
    "\n",
    "np.set_printoptions(precision=2)\n"
   ]
  },
  {
   "cell_type": "markdown",
   "id": "570469ef-f706-4ce9-a312-bef07289ab3f",
   "metadata": {},
   "source": [
    "# Load time series classification and regression datasets"
   ]
  },
  {
   "cell_type": "code",
   "execution_count": 2,
   "id": "4433790f-4688-4918-bed6-75916137257b",
   "metadata": {
    "ExecuteTime": {
     "end_time": "2024-06-09T07:24:24.837696Z",
     "start_time": "2024-06-09T07:24:24.034143Z"
    }
   },
   "outputs": [
    {
     "name": "stdout",
     "output_type": "stream",
     "text": [
      "univariate classification train and test (419, 1, 500) (419,) (179, 1, 500) (179,)\n",
      "multivariate classification train and test (1426, 8, 161) (1426,) (595, 8, 161) (595,) \n",
      "\n",
      "univariate classification train and test (64, 1, 3424) (64,) (8, 1, 3424) (8,)\n",
      "regression train and test (95, 24, 144) (95,) (42, 24, 144) (42,)\n"
     ]
    }
   ],
   "source": [
    "data_location = './src/tsCaptum/data/'\n",
    "# https://www.aeon-toolkit.org/en/stable/examples/classification/classification.html\n",
    "# From aeon: We recommend storing time series in 3D numpy array of shape (n_instances, n_channels, n_timepoints) \n",
    "# and where possible our single problem loaders will return a 3D numpy.\n",
    "# load each sample in a 3d numpy array (n_samples, n_channels, n_timepoints)\n",
    "\n",
    "# Univariate time series classification dataset from [1]\n",
    "# [1] https://github.com/mlgig/xai4mtsc_eval_actionability\n",
    "CMJ = np.load( join( data_location, \"CMJ_univariate.npy\"),allow_pickle=True).item()\n",
    "CMJ_X_train =CMJ[\"train\"][\"X\"]\n",
    "CMJ_X_test = CMJ[\"test\"][\"X\"]\n",
    "CMJ_y_train =CMJ[\"train\"][\"y\"]\n",
    "CMJ_y_test = CMJ[\"test\"][\"y\"]\n",
    "print(\"univariate classification train and test\", CMJ_X_train.shape, CMJ_y_train.shape, CMJ_X_test.shape, CMJ_y_test.shape)\n",
    "\n",
    "# Multivariate time series classification dataset from [1]\n",
    "MP = np.load( join( data_location, \"MP_centered.npy\"), allow_pickle=True).item()\n",
    "MP_X_train =MP[\"train\"][\"X\"]\n",
    "MP_X_test = MP[\"test\"][\"X\"]\n",
    "MP_y_train =MP[\"train\"][\"y\"]\n",
    "MP_y_test = MP[\"test\"][\"y\"]\n",
    "print(\"multivariate classification train and test\", MP_X_train.shape, MP_y_train.shape, MP_X_test.shape, MP_y_test.shape, \"\\n\")\n",
    "\n",
    "#Univariate time series regression dataset from [2]\n",
    "# [2] https://github.com/mlgig/VM-challenge-lactose-prediction-2024\n",
    "X_train_reg_uni = np.load( join( data_location, \"milk_lactose_p75_train_X_2d.npy\"))\n",
    "X_train_reg_uni = X_train_reg_uni[:, np.newaxis, :]\n",
    "y_train_reg_uni = pd.read_excel(join( data_location, 'milk_lactose_p75_train_targets.xlsx'), 0, engine='openpyxl')['lactose content']\n",
    "X_test_reg_uni = np.load( join( data_location, \"milk_lactose_p75_test_X_2d.npy\"))\n",
    "y_test_reg_uni = pd.read_excel(join( data_location, 'milk_lactose_p75_test_targets.xlsx'), 0, engine='openpyxl')['lactose content']\n",
    "X_test_reg_uni = X_test_reg_uni[:, np.newaxis, :]\n",
    "print(\"univariate classification train and test\", X_train_reg_uni.shape, y_train_reg_uni.shape, X_test_reg_uni.shape, y_test_reg_uni.shape)\n",
    "\n",
    "#Multivariate time series regresison dataset [3]\n",
    "# [3] http://tseregression.org\n",
    "X_train_reg, y_train_reg = load_from_tsfile( join( data_location, \"AppliancesEnergy_TRAIN.ts\"))\n",
    "X_test_reg, y_test_reg = load_from_tsfile( join( data_location,\"AppliancesEnergy_TEST.ts\"))\n",
    "print(\"regression train and test\",X_train_reg.shape, y_train_reg.shape, X_test_reg.shape, y_test_reg.shape)\n"
   ]
  },
  {
   "cell_type": "markdown",
   "id": "2841a428-5159-46e1-8dd7-be64361a0782",
   "metadata": {},
   "source": [
    "## Univariate Time Series Classification"
   ]
  },
  {
   "cell_type": "code",
   "execution_count": 3,
   "id": "4cb45097-785a-4feb-8e15-b35a6057a661",
   "metadata": {
    "ExecuteTime": {
     "end_time": "2024-06-09T07:24:26.204843Z",
     "start_time": "2024-06-09T07:24:24.838630Z"
    }
   },
   "outputs": [
    {
     "name": "stdout",
     "output_type": "stream",
     "text": [
      "QUANT accuracy: 0.9608938547486033\n"
     ]
    }
   ],
   "source": [
    "from aeon.classification.interval_based import QUANTClassifier\n",
    "clf = QUANTClassifier()\n",
    "clf.fit(CMJ_X_train, CMJ_y_train)\n",
    "print (\"QUANT accuracy:\", clf.score(CMJ_X_test,CMJ_y_test),)"
   ]
  },
  {
   "cell_type": "markdown",
   "id": "81cf484d-281f-4a94-acec-39830e3623d4",
   "metadata": {},
   "source": [
    "## Explanation using Attribution Methods"
   ]
  },
  {
   "cell_type": "markdown",
   "id": "7137785057a72a68",
   "metadata": {},
   "source": [
    "We're explaining only 3 samples from the test set as a demo."
   ]
  },
  {
   "cell_type": "code",
   "execution_count": 4,
   "id": "14a3ebaa3fd4645c",
   "metadata": {
    "ExecuteTime": {
     "end_time": "2024-06-09T07:24:26.208478Z",
     "start_time": "2024-06-09T07:24:26.206082Z"
    }
   },
   "outputs": [],
   "source": [
    "# number of samples to explain\n",
    "n_to_explain = 3\n",
    "CMJ_X_test_samples, CMJ_y_test_samples = CMJ_X_test[:n_to_explain], CMJ_y_test[:n_to_explain]"
   ]
  },
  {
   "cell_type": "markdown",
   "id": "77b6957fac234541",
   "metadata": {},
   "source": [
    "# Feature Ablation (a fast post-hoc attribution method to explain a time series)\n",
    "1) instantiate your attribution method, the constructor takes only one mandatory argument namely the predictor and one optional argument, the predictor type (i.e., classifier or regressor). In case the last one isn't provided it's inferred by the availability of predict_proba in the predictor (if predict_proba is available, we infer the predictor is a classifier).\n",
    "2) once we have the object, we call the method explain which returns a saliency map (attribution weights). Only one mandatory argument: the samples to be explained. "
   ]
  },
  {
   "cell_type": "markdown",
   "id": "8bbaf4d0f258bf72",
   "metadata": {},
   "source": [
    "Apart from the sample to explain, the explain method has some additional parameters:\n",
    "\n",
    "\t\t:param labels:      labels associated to samples in case of classification. The 'labels' parameter only make sense if you are using a classifier.\n",
    "\t\t:param batch_size:  the batch_size to be used i.e. number of samples to be explained at the same time\n",
    "\t\t:param n_segments:  number of segments the timeseries is divided into. This parameter impacts the speed/quality of the method. To explain point-wise, please provide -1 as a value for this parameter. \n",
    "\t\t:param normalise:   whether or not to normalise the attribution weights to the [-1,1] interval\n",
    "\t\t:param baseline:    the baseline which will substitute the time series' values when ablated (this is also commonly known as a mask). It can be either a scalar (each time series's value is substituted by this scalar) or a single time series. By default it is set to 0.\n",
    "\n",
    "DEFAULT VALUES:\n",
    "def explain(self, samples, labels=None, batch_size=8, n_segments=10, normalise=False, baseline=0):\n"
   ]
  },
  {
   "cell_type": "code",
   "execution_count": 5,
   "id": "88cb3a463327003c",
   "metadata": {
    "ExecuteTime": {
     "end_time": "2024-06-09T07:24:27.373267Z",
     "start_time": "2024-06-09T07:24:26.556624Z"
    }
   },
   "outputs": [
    {
     "name": "stderr",
     "output_type": "stream",
     "text": [
      "8it [00:00, 10.46it/s]                                                                                                                 "
     ]
    },
    {
     "name": "stdout",
     "output_type": "stream",
     "text": [
      "Time to explain (sec): 0.8475556640187278\n",
      "\n",
      "Saliency map shape equal to input shape: (3, 1, 500) (3, 1, 500) \n",
      " attributions for first 10 time points at sample 0:\n",
      " [[-0.02 -0.02 -0.02 -0.02 -0.02 -0.02 -0.02 -0.02 -0.02 -0.02]]\n"
     ]
    },
    {
     "name": "stderr",
     "output_type": "stream",
     "text": [
      "\n"
     ]
    }
   ],
   "source": [
    "from tsCaptum.explainers import Feature_Ablation\n",
    "\n",
    "starttime = timeit.default_timer()\n",
    "myFA = Feature_Ablation(clf)\n",
    "exp = myFA.explain(samples=CMJ_X_test_samples, labels=CMJ_y_test_samples, n_segments=10, normalise=False, baseline=0)\n",
    "print(\"Time to explain (sec):\", timeit.default_timer() - starttime)\n",
    "\n",
    "print( \"\\nSaliency map shape equal to input shape:\", exp.shape, CMJ_X_test_samples.shape,\n",
    "       \"\\n attributions for first 10 time points at sample 0:\\n\", exp[0,:,:10])"
   ]
  },
  {
   "cell_type": "code",
   "execution_count": 6,
   "id": "3f969597-c08f-436a-a064-c320f837a976",
   "metadata": {
    "ExecuteTime": {
     "end_time": "2024-06-09T07:24:30.680100Z",
     "start_time": "2024-06-09T07:24:30.428643Z"
    }
   },
   "outputs": [
    {
     "data": {
      "image/png": "[encoded data removed]",
      "text/plain": [
       "<Figure size 600x200 with 1 Axes>"
      ]
     },
     "metadata": {},
     "output_type": "display_data"
    }
   ],
   "source": [
    "from tsCaptum.visualization import plot_saliency_map_uni\n",
    "idx = 0\n",
    "plot_saliency_map_uni(CMJ_X_test[idx,:,:], exp[idx,:,:], title = f'FeatureAblation-Instance {idx} - Class {CMJ_y_test[idx]}')"
   ]
  },
  {
   "cell_type": "markdown",
   "id": "5a7a4e9d-9f09-4d74-9c87-f75306ede13f",
   "metadata": {},
   "source": [
    "## Shapley Value Sampling (SHAP)"
   ]
  },
  {
   "cell_type": "code",
   "execution_count": 7,
   "id": "57112d6c-92f3-435c-a6e2-4151c4473d48",
   "metadata": {
    "ExecuteTime": {
     "end_time": "2024-06-09T07:24:43.733523Z",
     "start_time": "2024-06-09T07:24:31.092639Z"
    }
   },
   "outputs": [
    {
     "name": "stderr",
     "output_type": "stream",
     "text": [
      "8it [00:16,  2.00s/it]                                                                                                                 "
     ]
    },
    {
     "name": "stdout",
     "output_type": "stream",
     "text": [
      "Time to explain (sec): 16.035396900959313\n",
      "\n",
      "Saliency map shape equal to input shape: (3, 1, 500) (3, 1, 500) \n",
      " attributions for first 10 time points at sample 0:\n",
      " [[-0.01 -0.01 -0.01 -0.01 -0.01 -0.01 -0.01 -0.01 -0.01 -0.01]]\n"
     ]
    },
    {
     "name": "stderr",
     "output_type": "stream",
     "text": [
      "\n"
     ]
    }
   ],
   "source": [
    "from tsCaptum.explainers import Shapley_Value_Sampling as SHAP\n",
    "\n",
    "starttime = timeit.default_timer()\n",
    "mySHAP = SHAP(clf)\n",
    "exp = mySHAP.explain(CMJ_X_test_samples, labels=CMJ_y_test_samples, n_segments=10, normalise=False)\n",
    "print(\"Time to explain (sec):\", timeit.default_timer() - starttime)\n",
    "print( \"\\nSaliency map shape equal to input shape:\", exp.shape, CMJ_X_test_samples.shape,\n",
    "       \"\\n attributions for first 10 time points at sample 0:\\n\", exp[0,:,:10])"
   ]
  },
  {
   "cell_type": "code",
   "execution_count": 8,
   "id": "f90fe78a-18f9-42b3-9036-7be59f6f0802",
   "metadata": {
    "ExecuteTime": {
     "end_time": "2024-06-09T07:24:43.852641Z",
     "start_time": "2024-06-09T07:24:43.734830Z"
    }
   },
   "outputs": [
    {
     "data": {
      "image/png": "[encoded data removed]",
      "text/plain": [
       "<Figure size 600x200 with 1 Axes>"
      ]
     },
     "metadata": {},
     "output_type": "display_data"
    }
   ],
   "source": [
    "idx = 0\n",
    "plot_saliency_map_uni(CMJ_X_test[idx,:,:], exp[idx,:,:], title = f'SHAP-Instance {idx} - Class {CMJ_y_test[idx]}')"
   ]
  },
  {
   "cell_type": "markdown",
   "id": "ed6dd56a-e40a-4332-902a-e19f57a14a66",
   "metadata": {},
   "source": [
    "An important optional argument is the baseline mask, i.e., the value(s) replacing the original time series values to check the impact of those data points on the predictor. \n",
    "This takes two possible formats for it:\n",
    " 1) a scalar i.e. a single number replacing each value to be ablated (default value is 0)."
   ]
  },
  {
   "cell_type": "code",
   "execution_count": 9,
   "id": "6c0b7d529810aaf3",
   "metadata": {
    "ExecuteTime": {
     "end_time": "2024-06-09T07:24:53.878657Z",
     "start_time": "2024-06-09T07:24:43.853345Z"
    }
   },
   "outputs": [
    {
     "name": "stderr",
     "output_type": "stream",
     "text": [
      "8it [00:16,  2.10s/it]                                                                                                                 "
     ]
    },
    {
     "name": "stdout",
     "output_type": "stream",
     "text": [
      "Time to explain (sec): 16.770738989987876\n"
     ]
    },
    {
     "name": "stderr",
     "output_type": "stream",
     "text": [
      "\n"
     ]
    }
   ],
   "source": [
    "starttime = timeit.default_timer()\n",
    "mySHAP = SHAP(clf)\n",
    "exp = mySHAP.explain(CMJ_X_test_samples, labels=CMJ_y_test_samples, baseline=0)\n",
    "print(\"Time to explain (sec):\", timeit.default_timer() - starttime)"
   ]
  },
  {
   "cell_type": "markdown",
   "id": "4b0877e5c30fc11",
   "metadata": {},
   "source": [
    "2) a time series having the same shape as the one to be explained, usually one item from the train set\n",
    "\n"
   ]
  },
  {
   "cell_type": "code",
   "execution_count": 10,
   "id": "b43ddbd134bc6b7",
   "metadata": {
    "ExecuteTime": {
     "end_time": "2024-06-09T07:25:03.571128Z",
     "start_time": "2024-06-09T07:24:53.879772Z"
    }
   },
   "outputs": [
    {
     "name": "stderr",
     "output_type": "stream",
     "text": [
      "8it [00:17,  2.14s/it]                                                                                                                 "
     ]
    },
    {
     "name": "stdout",
     "output_type": "stream",
     "text": [
      "Time to explain (sec): 17.160808851011097\n"
     ]
    },
    {
     "name": "stderr",
     "output_type": "stream",
     "text": [
      "\n"
     ]
    }
   ],
   "source": [
    "starttime = timeit.default_timer()\n",
    "mySHAP = SHAP(clf)\n",
    "exp = mySHAP.explain(CMJ_X_test_samples, labels=CMJ_y_test_samples, baseline=CMJ_X_train[0:1])\n",
    "print(\"Time to explain (sec):\", timeit.default_timer() - starttime)"
   ]
  },
  {
   "cell_type": "markdown",
   "id": "1d5faeadb30dfd99",
   "metadata": {},
   "source": [
    "# Kernel SHAP and LIME\n",
    "For kernel SHAP and Lime the Captum framework suggests to use a batch size = 1, we are enforcing this property "
   ]
  },
  {
   "cell_type": "code",
   "execution_count": 11,
   "id": "6656c4c5052642b8",
   "metadata": {
    "ExecuteTime": {
     "end_time": "2024-06-09T07:25:06.137752Z",
     "start_time": "2024-06-09T07:25:03.572042Z"
    }
   },
   "outputs": [
    {
     "name": "stderr",
     "output_type": "stream",
     "text": [
      "/Users/georgianaifrim/miniconda3/envs/comp47350py311/lib/python3.11/site-packages/tsCaptum/explainers.py:190: UserWarning: batch_size set to 1 as suggested by Captum for Lime and KernelSHAP\n",
      "  warnings.warn(\n",
      "100%|████████████████████████████████████████████████████████████████████████████████████████████████████| 3/3 [00:05<00:00,  1.68s/it]"
     ]
    },
    {
     "name": "stdout",
     "output_type": "stream",
     "text": [
      "Time to explain (sec): 5.0817492379574105\n"
     ]
    },
    {
     "name": "stderr",
     "output_type": "stream",
     "text": [
      "\n"
     ]
    }
   ],
   "source": [
    "from tsCaptum.explainers import Kernel_Shap\n",
    "\n",
    "starttime = timeit.default_timer()\n",
    "myKernelSHAP = Kernel_Shap(clf)\n",
    "exp = myKernelSHAP.explain(CMJ_X_test_samples, labels=CMJ_y_test_samples, batch_size=4)\n",
    "print(\"Time to explain (sec):\", timeit.default_timer() - starttime)"
   ]
  },
  {
   "cell_type": "code",
   "execution_count": 12,
   "id": "9e0b30b76683ab6d",
   "metadata": {
    "ExecuteTime": {
     "end_time": "2024-06-09T07:25:08.879593Z",
     "start_time": "2024-06-09T07:25:06.138523Z"
    }
   },
   "outputs": [
    {
     "name": "stderr",
     "output_type": "stream",
     "text": [
      "/Users/georgianaifrim/miniconda3/envs/comp47350py311/lib/python3.11/site-packages/tsCaptum/explainers.py:217: UserWarning: batch_size set to 1 as suggested by Captum for Lime and KernelSHAP\n",
      "  warnings.warn(\n",
      "100%|████████████████████████████████████████████████████████████████████████████████████████████████████| 3/3 [00:04<00:00,  1.63s/it]"
     ]
    },
    {
     "name": "stdout",
     "output_type": "stream",
     "text": [
      "Time to explain (sec): 4.895053195010405\n"
     ]
    },
    {
     "name": "stderr",
     "output_type": "stream",
     "text": [
      "\n"
     ]
    }
   ],
   "source": [
    "from tsCaptum.explainers import  LIME\n",
    "\n",
    "starttime = timeit.default_timer()\n",
    "myLIME = LIME(clf)\n",
    "exp = myLIME.explain(CMJ_X_test_samples, labels=CMJ_y_test_samples, batch_size=6)\n",
    "print(\"Time to explain (sec):\", timeit.default_timer() - starttime)"
   ]
  },
  {
   "cell_type": "markdown",
   "id": "f7d059928693bf4",
   "metadata": {},
   "source": [
    "# Feature Permutation \n",
    "This is another example explainer; this method does not accept a baseline as argument."
   ]
  },
  {
   "cell_type": "code",
   "execution_count": 13,
   "id": "36564c3e46781103",
   "metadata": {
    "ExecuteTime": {
     "end_time": "2024-06-09T07:25:09.308566Z",
     "start_time": "2024-06-09T07:25:08.880430Z"
    }
   },
   "outputs": [
    {
     "name": "stderr",
     "output_type": "stream",
     "text": [
      "/Users/georgianaifrim/miniconda3/envs/comp47350py311/lib/python3.11/site-packages/tsCaptum/explainers.py:164: UserWarning: specified baseline will be ignored as Feature Permutation algorithm has its own baseline\n",
      "  warnings.warn(\n",
      "8it [00:00,  9.87it/s]                                                                                                                 "
     ]
    },
    {
     "name": "stdout",
     "output_type": "stream",
     "text": [
      "Time to explain (sec): 0.814310813031625\n"
     ]
    },
    {
     "name": "stderr",
     "output_type": "stream",
     "text": [
      "\n"
     ]
    }
   ],
   "source": [
    "from tsCaptum.explainers import Feature_Permutation\n",
    "\n",
    "starttime = timeit.default_timer()\n",
    "myFP = Feature_Permutation(clf,clf_type=\"classifier\")\n",
    "exp = myFP.explain(CMJ_X_test_samples, labels=CMJ_y_test_samples, baseline=42)\n",
    "print(\"Time to explain (sec):\", timeit.default_timer() - starttime)"
   ]
  },
  {
   "cell_type": "markdown",
   "id": "892836516582dc1b",
   "metadata": {},
   "source": [
    "# Multivariate Time Series Classification"
   ]
  },
  {
   "cell_type": "markdown",
   "id": "dd4b7179-62a6-4f6f-b03a-0446e8051af7",
   "metadata": {},
   "source": [
    "## Minirocket classifier, followed by Feature Ablation explainer"
   ]
  },
  {
   "cell_type": "code",
   "execution_count": 14,
   "id": "6104cb02d4d84e6b",
   "metadata": {
    "ExecuteTime": {
     "end_time": "2024-06-09T07:25:12.060411Z",
     "start_time": "2024-06-09T07:25:09.309476Z"
    }
   },
   "outputs": [
    {
     "name": "stderr",
     "output_type": "stream",
     "text": [
      "/Users/georgianaifrim/miniconda3/envs/comp47350py311/lib/python3.11/site-packages/sklearn/linear_model/_logistic.py:460: ConvergenceWarning: lbfgs failed to converge (status=1):\n",
      "STOP: TOTAL NO. of ITERATIONS REACHED LIMIT.\n",
      "\n",
      "Increase the number of iterations (max_iter) or scale the data as shown in:\n",
      "    https://scikit-learn.org/stable/modules/preprocessing.html\n",
      "Please also refer to the documentation for alternative solver options:\n",
      "    https://scikit-learn.org/stable/modules/linear_model.html#logistic-regression\n",
      "  n_iter_i = _check_optimize_result(\n"
     ]
    },
    {
     "name": "stdout",
     "output_type": "stream",
     "text": [
      "accuracy is 0.7529411764705882\n",
      "Time to train and test (sec): 19.04595578397857\n"
     ]
    }
   ],
   "source": [
    "starttime = timeit.default_timer()\n",
    "\n",
    "clf_MTS = make_pipeline(MiniRocketMultivariate(n_jobs=-1),\n",
    "                        StandardScaler(),\n",
    "                        LogisticRegression(n_jobs=-1))\n",
    "clf_MTS.fit(MP_X_train,MP_y_train)\n",
    "print(\"accuracy is\", clf_MTS.score(MP_X_test,MP_y_test))\n",
    "\n",
    "print(\"Time to train and test (sec):\", timeit.default_timer() - starttime)"
   ]
  },
  {
   "cell_type": "markdown",
   "id": "b5105f54-c1f1-4387-89ab-07175893be98",
   "metadata": {},
   "source": [
    "## Exaplanation using Attribution Methods"
   ]
  },
  {
   "cell_type": "code",
   "execution_count": 15,
   "id": "d7360295aa10d7e2",
   "metadata": {
    "ExecuteTime": {
     "end_time": "2024-06-09T07:25:12.064423Z",
     "start_time": "2024-06-09T07:25:12.061561Z"
    }
   },
   "outputs": [],
   "source": [
    "n_to_explain = 3\n",
    "MP_X_test_samples, MP_y_test_samples = MP_X_test[:n_to_explain], MP_y_test[:n_to_explain]"
   ]
  },
  {
   "cell_type": "code",
   "execution_count": 16,
   "id": "b41c684fe6b4681f",
   "metadata": {
    "ExecuteTime": {
     "end_time": "2024-06-09T07:25:12.693986Z",
     "start_time": "2024-06-09T07:25:12.066844Z"
    }
   },
   "outputs": [
    {
     "name": "stderr",
     "output_type": "stream",
     "text": [
      "8it [00:00, 10.41it/s]                                                                                                                 "
     ]
    },
    {
     "name": "stdout",
     "output_type": "stream",
     "text": [
      "Time to explain (sec): 0.7744277950259857\n",
      "\n",
      "Saliency map shape equal to input shape: (3, 8, 161) (3, 8, 161) \n",
      " attributions for first 10 time points in the first 4 channels:\n",
      " [[-0.24 -0.24 -0.24 -0.24 -0.24 -0.24 -0.24 -0.24 -0.24 -0.24]\n",
      " [-0.04 -0.04 -0.04 -0.04 -0.04 -0.04 -0.04 -0.04 -0.04 -0.04]\n",
      " [ 0.09  0.09  0.09  0.09  0.09  0.09  0.09  0.09  0.09  0.09]\n",
      " [-0.33 -0.33 -0.33 -0.33 -0.33 -0.33 -0.33 -0.33 -0.33 -0.33]]\n"
     ]
    },
    {
     "name": "stderr",
     "output_type": "stream",
     "text": [
      "\n"
     ]
    }
   ],
   "source": [
    "starttime = timeit.default_timer()\n",
    "\n",
    "myFA_MTS = Feature_Ablation(clf_MTS, clf_type=\"classifier\")\n",
    "exp = myFA_MTS.explain( samples= MP_X_test_samples, labels=MP_y_test_samples, batch_size=8, n_segments=10, normalise=False, baseline=0)\n",
    "\n",
    "print(\"Time to explain (sec):\", timeit.default_timer() - starttime)\n",
    "\n",
    "print( \"\\nSaliency map shape equal to input shape:\", exp.shape, MP_X_test_samples.shape,\n",
    "       \"\\n attributions for first 10 time points in the first 4 channels:\\n\", exp[0,:4,:10])"
   ]
  },
  {
   "cell_type": "code",
   "execution_count": 17,
   "id": "4fd95526-c435-4841-a607-cc4561a78993",
   "metadata": {
    "ExecuteTime": {
     "end_time": "2024-06-09T07:25:13.588109Z",
     "start_time": "2024-06-09T07:25:12.694732Z"
    }
   },
   "outputs": [
    {
     "name": "stdout",
     "output_type": "stream",
     "text": [
      "channel: 0\n"
     ]
    },
    {
     "data": {
      "image/png": "[encoded data removed]",
      "text/plain": [
       "<Figure size 600x200 with 1 Axes>"
      ]
     },
     "metadata": {},
     "output_type": "display_data"
    },
    {
     "name": "stdout",
     "output_type": "stream",
     "text": [
      "channel: 1\n"
     ]
    },
    {
     "data": {
      "image/png": "[encoded data removed]",
      "text/plain": [
       "<Figure size 600x200 with 1 Axes>"
      ]
     },
     "metadata": {},
     "output_type": "display_data"
    },
    {
     "name": "stdout",
     "output_type": "stream",
     "text": [
      "channel: 2\n"
     ]
    },
    {
     "data": {
      "image/png": "[encoded data removed]",
      "text/plain": [
       "<Figure size 600x200 with 1 Axes>"
      ]
     },
     "metadata": {},
     "output_type": "display_data"
    },
    {
     "name": "stdout",
     "output_type": "stream",
     "text": [
      "channel: 3\n"
     ]
    },
    {
     "data": {
      "image/png": "[encoded data removed]",
      "text/plain": [
       "<Figure size 600x200 with 1 Axes>"
      ]
     },
     "metadata": {},
     "output_type": "display_data"
    },
    {
     "name": "stdout",
     "output_type": "stream",
     "text": [
      "channel: 4\n"
     ]
    },
    {
     "data": {
      "image/png": "[encoded data removed]",
      "text/plain": [
       "<Figure size 600x200 with 1 Axes>"
      ]
     },
     "metadata": {},
     "output_type": "display_data"
    },
    {
     "name": "stdout",
     "output_type": "stream",
     "text": [
      "channel: 5\n"
     ]
    },
    {
     "data": {
      "image/png": "[encoded data removed]",
      "text/plain": [
       "<Figure size 600x200 with 1 Axes>"
      ]
     },
     "metadata": {},
     "output_type": "display_data"
    },
    {
     "name": "stdout",
     "output_type": "stream",
     "text": [
      "channel: 6\n"
     ]
    },
    {
     "data": {
      "image/png": "[encoded data removed]",
      "text/plain": [
       "<Figure size 600x200 with 1 Axes>"
      ]
     },
     "metadata": {},
     "output_type": "display_data"
    },
    {
     "name": "stdout",
     "output_type": "stream",
     "text": [
      "channel: 7\n"
     ]
    },
    {
     "data": {
      "image/png": "[encoded data removed]",
      "text/plain": [
       "<Figure size 600x200 with 1 Axes>"
      ]
     },
     "metadata": {},
     "output_type": "display_data"
    }
   ],
   "source": [
    "idx = 0\n",
    "for ch in range(MP_X_test.shape[1]):\n",
    "    print(\"channel:\", ch)\n",
    "    plot_saliency_map_uni(MP_X_test[idx,ch,:], exp[idx,ch,:], title = f'FeatureAblation-Instance {idx} - Class {MP_y_test[idx]}')"
   ]
  },
  {
   "cell_type": "markdown",
   "id": "80a894cdc15e4952",
   "metadata": {},
   "source": [
    "## We try different classifiers and different arguments for attribution."
   ]
  },
  {
   "cell_type": "markdown",
   "id": "f02387e6-cd5b-4568-8344-20a5279584f6",
   "metadata": {},
   "source": [
    "## MUSE classifier and Feature Ablation explainer"
   ]
  },
  {
   "cell_type": "code",
   "execution_count": 18,
   "id": "6f2501792f7f4d2c",
   "metadata": {
    "ExecuteTime": {
     "end_time": "2024-06-09T07:26:03.149189Z",
     "start_time": "2024-06-09T07:25:13.588960Z"
    }
   },
   "outputs": [
    {
     "name": "stdout",
     "output_type": "stream",
     "text": [
      "accuracy is 0.6873949579831933\n",
      "Time to train and test (sec): 120.41420250496594\n"
     ]
    }
   ],
   "source": [
    "from aeon.classification.dictionary_based import MUSE\n",
    "\n",
    "starttime = timeit.default_timer()\n",
    "clf_MTS = MUSE(window_inc=4, use_first_order_differences=False, support_probabilities=True)\n",
    "clf_MTS.fit(MP_X_train,MP_y_train)\n",
    "print(\"accuracy is\", clf_MTS.score(MP_X_test,MP_y_test))\n",
    "print(\"Time to train and test (sec):\", timeit.default_timer() - starttime)"
   ]
  },
  {
   "cell_type": "code",
   "execution_count": 19,
   "id": "f0d7700697decf43",
   "metadata": {
    "ExecuteTime": {
     "end_time": "2024-06-09T07:26:17.646057Z",
     "start_time": "2024-06-09T07:26:03.149854Z"
    }
   },
   "outputs": [
    {
     "name": "stderr",
     "output_type": "stream",
     "text": [
      "8it [00:13,  1.70s/it]                                                                                                                 \n"
     ]
    },
    {
     "name": "stdout",
     "output_type": "stream",
     "text": [
      "Time to explain (sec): 13.627233946986962\n",
      "\n",
      "Saliency map shape equal to input shape: (3, 8, 161) (3, 8, 161) \n",
      " attributions for first 10 time points in the first 4 channels:\n",
      " [[ 0.  0.  0.  0.  0.  0.  0.  0.  0.  0.]\n",
      " [-0. -0. -0. -0. -0. -0. -0. -0. -0. -0.]\n",
      " [ 0.  0.  0.  0.  0.  0.  0.  0.  0.  0.]\n",
      " [ 0.  0.  0.  0.  0.  0.  0.  0.  0.  0.]]\n"
     ]
    },
    {
     "name": "stderr",
     "output_type": "stream",
     "text": [
      "8it [00:24,  3.11s/it]                                                                                                                 "
     ]
    },
    {
     "name": "stdout",
     "output_type": "stream",
     "text": [
      "Time to explain (sec): 24.88942133297678\n",
      "\n",
      "Saliency map shape equal to input shape: (3, 8, 161) (3, 8, 161) \n",
      " attributions for first 10 time points in the first 4 channels:\n",
      " [[ 9.30e-04  9.30e-04  9.30e-04  9.30e-04  9.30e-04  9.30e-04  9.30e-04\n",
      "   9.30e-04  9.30e-04  1.36e-03]\n",
      " [ 7.15e-04  7.15e-04  7.15e-04  7.15e-04  7.15e-04  7.15e-04  7.15e-04\n",
      "   7.15e-04  7.15e-04 -2.29e-03]\n",
      " [ 3.40e-04  3.40e-04  3.40e-04  3.40e-04  3.40e-04  3.40e-04  3.40e-04\n",
      "   3.40e-04  3.40e-04  1.70e-03]\n",
      " [ 2.71e-05  2.71e-05  2.71e-05  2.71e-05  2.71e-05  2.71e-05  2.71e-05\n",
      "   2.71e-05  2.71e-05 -3.32e-04]]\n"
     ]
    },
    {
     "name": "stderr",
     "output_type": "stream",
     "text": [
      "\n"
     ]
    }
   ],
   "source": [
    "starttime = timeit.default_timer()\n",
    "myFA_MTS = Feature_Ablation(clf_MTS, clf_type=\"classifier\")\n",
    "exp = myFA_MTS.explain(samples= MP_X_test_samples, labels=MP_y_test_samples, n_segments=10)\n",
    "print(\"Time to explain (sec):\", timeit.default_timer() - starttime)\n",
    "\n",
    "print( \"\\nSaliency map shape equal to input shape:\", exp.shape, MP_X_test_samples.shape,\n",
    "       \"\\n attributions for first 10 time points in the first 4 channels:\\n\", exp[0,:4,:10])\n",
    "\n",
    "starttime = timeit.default_timer()\n",
    "myFA_MTS = Feature_Ablation(clf_MTS, clf_type=\"classifier\")\n",
    "exp = myFA_MTS.explain(samples= MP_X_test_samples, labels=MP_y_test_samples, n_segments=20)\n",
    "print(\"Time to explain (sec):\", timeit.default_timer() - starttime)\n",
    "\n",
    "print( \"\\nSaliency map shape equal to input shape:\", exp.shape, MP_X_test_samples.shape,\n",
    "       \"\\n attributions for first 10 time points in the first 4 channels:\\n\", exp[0,:4,:10])"
   ]
  },
  {
   "cell_type": "markdown",
   "id": "6b4e4737227b62bf",
   "metadata": {},
   "source": [
    "## QUANT classifier and Feature Ablation explainer"
   ]
  },
  {
   "cell_type": "code",
   "execution_count": 20,
   "id": "bf93521c2e184696",
   "metadata": {
    "ExecuteTime": {
     "end_time": "2024-06-09T07:26:53.023363Z",
     "start_time": "2024-06-09T07:26:17.646848Z"
    }
   },
   "outputs": [
    {
     "name": "stdout",
     "output_type": "stream",
     "text": [
      "accuracy is 0.6941176470588235\n",
      "Time to train and test (sec): 51.962807987991255\n"
     ]
    }
   ],
   "source": [
    "from aeon.classification.interval_based import QUANTClassifier\n",
    "\n",
    "starttime = timeit.default_timer()\n",
    "clf_MTS = QUANTClassifier()\n",
    "clf_MTS.fit(MP_X_train,MP_y_train)\n",
    "print(\"accuracy is\", clf_MTS.score(MP_X_test,MP_y_test))\n",
    "print(\"Time to train and test (sec):\", timeit.default_timer() - starttime)"
   ]
  },
  {
   "cell_type": "code",
   "execution_count": 21,
   "id": "327a1b00-908c-462c-8a1c-8737886dfc2c",
   "metadata": {
    "ExecuteTime": {
     "end_time": "2024-06-09T07:26:58.717317Z",
     "start_time": "2024-06-09T07:26:53.024014Z"
    }
   },
   "outputs": [
    {
     "name": "stderr",
     "output_type": "stream",
     "text": [
      "8it [00:06,  1.19it/s]                                                                                                                 \n"
     ]
    },
    {
     "name": "stdout",
     "output_type": "stream",
     "text": [
      "Time to explain (sec): 6.704729702032637\n",
      " min and max attribution without normalisation:\n",
      "0 -0.1050 \t 0.1300\n",
      "1 -0.1050 \t 0.0500\n",
      "2 -0.0300 \t 0.0900\n"
     ]
    },
    {
     "name": "stderr",
     "output_type": "stream",
     "text": [
      "8it [00:06,  1.20it/s]                                                                                                                 "
     ]
    },
    {
     "name": "stdout",
     "output_type": "stream",
     "text": [
      "Time to explain (sec): 6.671812236949336\n",
      " min and max attribution with normalisation to [-1,1]:\n",
      "0 -0.8077 \t 1.0000\n",
      "1 -1.0000 \t 0.4762\n",
      "2 -0.3333 \t 1.0000\n"
     ]
    },
    {
     "name": "stderr",
     "output_type": "stream",
     "text": [
      "\n"
     ]
    }
   ],
   "source": [
    "starttime = timeit.default_timer()\n",
    "myFA_MTS = Feature_Ablation(clf_MTS, clf_type=\"classifier\")\n",
    "exps = myFA_MTS.explain( samples= MP_X_test_samples, labels=MP_y_test_samples, n_segments=10, normalise=False)\n",
    "print(\"Time to explain (sec):\", timeit.default_timer() - starttime)\n",
    "\n",
    "print(\" min and max attribution without normalisation:\")\n",
    "for i,exp in enumerate(exps):\n",
    "\tprint( i , '{:.4f}'.format(exp.min()),\"\\t\", '{:.4f}'.format(exp.max()) )\n",
    "\n",
    "\n",
    "starttime = timeit.default_timer()\n",
    "myFA_MTS = Feature_Ablation(clf_MTS, clf_type=\"classifier\")\n",
    "exps = myFA_MTS.explain( samples= MP_X_test_samples, labels=MP_y_test_samples, n_segments=10, normalise=True)\n",
    "print(\"Time to explain (sec):\", timeit.default_timer() - starttime)\n",
    "\n",
    "print(\" min and max attribution with normalisation to [-1,1]:\")\n",
    "for i,exp in enumerate(exps):\n",
    "\tprint( i , '{:.4f}'.format(exp.min()),\"\\t\", '{:.4f}'.format(exp.max()) )"
   ]
  },
  {
   "cell_type": "markdown",
   "id": "5edb4cf8ea2d25ea",
   "metadata": {},
   "source": [
    "## Rocket classifier followed by Feature Ablation explainer"
   ]
  },
  {
   "cell_type": "code",
   "execution_count": 26,
   "id": "449d5e25f2663869",
   "metadata": {
    "ExecuteTime": {
     "end_time": "2024-06-09T07:27:11.698692Z",
     "start_time": "2024-06-09T07:26:58.718222Z"
    }
   },
   "outputs": [
    {
     "name": "stdout",
     "output_type": "stream",
     "text": [
      "accuracy is 0.7630252100840336\n",
      "Time to train and test (sec): 71.73238713602768\n"
     ]
    }
   ],
   "source": [
    "from aeon.classification.convolution_based import RocketClassifier\n",
    "\n",
    "starttime = timeit.default_timer()\n",
    "clf_MTS = RocketClassifier(n_jobs=-1)\n",
    "clf_MTS.fit(MP_X_train,MP_y_train)\n",
    "print(\"accuracy is\", clf_MTS.score(MP_X_test,MP_y_test))\n",
    "print(\"Time to train and test (sec):\", timeit.default_timer() - starttime)"
   ]
  },
  {
   "cell_type": "code",
   "execution_count": 27,
   "id": "98888b82d49023dd",
   "metadata": {
    "ExecuteTime": {
     "end_time": "2024-06-09T07:27:17.272937Z",
     "start_time": "2024-06-09T07:27:11.704429Z"
    }
   },
   "outputs": [
    {
     "name": "stderr",
     "output_type": "stream",
     "text": [
      "8it [00:14,  1.78s/it]                                                                                                                 "
     ]
    },
    {
     "name": "stdout",
     "output_type": "stream",
     "text": [
      "Time to explain (sec): 14.231800895009656\n"
     ]
    },
    {
     "name": "stderr",
     "output_type": "stream",
     "text": [
      "\n"
     ]
    }
   ],
   "source": [
    "starttime = timeit.default_timer()\n",
    "myFA_MTS = Feature_Ablation(clf_MTS, clf_type=\"classifier\")\n",
    "exps = myFA_MTS.explain( samples= MP_X_test_samples, labels=MP_y_test_samples, n_segments=10, normalise=False)\n",
    "print(\"Time to explain (sec):\", timeit.default_timer() - starttime)"
   ]
  },
  {
   "cell_type": "markdown",
   "id": "850c5a33-cb20-4f93-ab19-ed54f83ddb3b",
   "metadata": {},
   "source": [
    "## Pipeline with a Rocket transform, followed by explainer applied to the pipeline"
   ]
  },
  {
   "cell_type": "code",
   "execution_count": 31,
   "id": "9783cf45-02a1-4a21-9c8f-893ca46c8990",
   "metadata": {
    "ExecuteTime": {
     "end_time": "2024-06-09T07:27:32.208714Z",
     "start_time": "2024-06-09T07:27:17.274124Z"
    }
   },
   "outputs": [
    {
     "name": "stderr",
     "output_type": "stream",
     "text": [
      "/Users/georgianaifrim/miniconda3/envs/comp47350py311/lib/python3.11/site-packages/sklearn/linear_model/_logistic.py:460: ConvergenceWarning: lbfgs failed to converge (status=1):\n",
      "STOP: TOTAL NO. of ITERATIONS REACHED LIMIT.\n",
      "\n",
      "Increase the number of iterations (max_iter) or scale the data as shown in:\n",
      "    https://scikit-learn.org/stable/modules/preprocessing.html\n",
      "Please also refer to the documentation for alternative solver options:\n",
      "    https://scikit-learn.org/stable/modules/linear_model.html#logistic-regression\n",
      "  n_iter_i = _check_optimize_result(\n"
     ]
    },
    {
     "name": "stdout",
     "output_type": "stream",
     "text": [
      "accuracy is 0.8151260504201681\n",
      "Time to train and test (sec): 81.26124829298351\n"
     ]
    }
   ],
   "source": [
    "from aeon.transformations.collection.convolution_based import Rocket\n",
    "\n",
    "starttime = timeit.default_timer()\n",
    "\n",
    "clf_MTS = make_pipeline(Rocket(n_jobs=-1, normalise=False),\n",
    "                        StandardScaler(),\n",
    "                        LogisticRegression(n_jobs=-1))\n",
    "\n",
    "clf_MTS.fit(MP_X_train,MP_y_train)\n",
    "print(\"accuracy is\", clf_MTS.score(MP_X_test,MP_y_test))\n",
    "print(\"Time to train and test (sec):\", timeit.default_timer() - starttime)"
   ]
  },
  {
   "cell_type": "code",
   "execution_count": 32,
   "id": "8b170bbe-7b00-434f-b621-e5f0e2e5f029",
   "metadata": {
    "ExecuteTime": {
     "end_time": "2024-06-09T07:27:37.740284Z",
     "start_time": "2024-06-09T07:27:32.210221Z"
    }
   },
   "outputs": [
    {
     "name": "stderr",
     "output_type": "stream",
     "text": [
      "8it [00:14,  1.77s/it]                                                                                                                 "
     ]
    },
    {
     "name": "stdout",
     "output_type": "stream",
     "text": [
      "Time to explain (sec): 14.19137542101089\n"
     ]
    },
    {
     "name": "stderr",
     "output_type": "stream",
     "text": [
      "\n"
     ]
    }
   ],
   "source": [
    "starttime = timeit.default_timer()\n",
    "myFA_MTS = Feature_Ablation(clf_MTS, clf_type=\"classifier\")\n",
    "exps = myFA_MTS.explain( samples= MP_X_test_samples, labels=MP_y_test_samples, n_segments=10, normalise=False)\n",
    "print(\"Time to explain (sec):\", timeit.default_timer() - starttime)"
   ]
  },
  {
   "cell_type": "markdown",
   "id": "a556be16-9411-4b02-902f-66e90bc7645c",
   "metadata": {},
   "source": [
    "============================================================================================="
   ]
  },
  {
   "cell_type": "markdown",
   "id": "26aae25d-f3eb-4033-9316-37d8861f1c6f",
   "metadata": {},
   "source": [
    "# Time Series Regression and Explanation using Attribution"
   ]
  },
  {
   "cell_type": "markdown",
   "id": "b3328178-a81d-483e-b5cf-1ba1117e3552",
   "metadata": {},
   "source": [
    "## Univariate Time Series Regression and Explanation"
   ]
  },
  {
   "cell_type": "markdown",
   "id": "4ac18fd4-e508-464d-ae24-fce39f2ca360",
   "metadata": {},
   "source": [
    "## Pipeline of Rocket transform and ExtraTreesRegressor for regression, followed by explainer"
   ]
  },
  {
   "cell_type": "code",
   "execution_count": 33,
   "id": "c5eb17cc3824d4a",
   "metadata": {
    "ExecuteTime": {
     "end_time": "2024-06-09T07:27:42.799237Z",
     "start_time": "2024-06-09T07:27:37.741026Z"
    }
   },
   "outputs": [
    {
     "name": "stdout",
     "output_type": "stream",
     "text": [
      "rmse metric is:  9.803333616683664\n",
      "[71.86 59.64 53.14 60.24 22.78 51.52 49.24 23.8 ]\n",
      "Time to train and test (sec): 11.852314352989197\n"
     ]
    }
   ],
   "source": [
    "starttime = timeit.default_timer()\n",
    "\n",
    "regressor = make_pipeline(\n",
    "            Rocket(normalise=True, num_kernels=10000, n_jobs=-1, random_state=142),\n",
    "            StandardScaler(),\n",
    "            SelectFromModel(RidgeCV()),\n",
    "            ExtraTreesRegressor(n_estimators=100, random_state=142),\n",
    "        )\n",
    "\n",
    "regressor.fit(X_train_reg_uni, y_train_reg_uni)\n",
    "test_y_pred_reg_uni = regressor.predict(X_test_reg_uni)\n",
    "rmse = math.sqrt(mean_squared_error(y_test_reg_uni, test_y_pred_reg_uni))\n",
    "print(\"rmse metric is: \", rmse)\n",
    "print(test_y_pred_reg_uni)\n",
    "print(\"Time to train and test (sec):\", timeit.default_timer() - starttime)"
   ]
  },
  {
   "cell_type": "code",
   "execution_count": 34,
   "id": "926c2aab-5ea0-4c46-be51-5a96fe0bcd3d",
   "metadata": {
    "ExecuteTime": {
     "end_time": "2024-06-09T07:27:46.185100Z",
     "start_time": "2024-06-09T07:27:42.800656Z"
    }
   },
   "outputs": [
    {
     "name": "stderr",
     "output_type": "stream",
     "text": [
      "8it [00:05,  1.42it/s]                                                                                                                 "
     ]
    },
    {
     "name": "stdout",
     "output_type": "stream",
     "text": [
      "saliency map shape equal to input shape: (3, 1, 3424) (3, 1, 3424) \n",
      " attributions for first 20 time points:\n",
      " [[0.9 0.9 0.9 0.9 0.9 0.9 0.9 0.9 0.9 0.9 0.9 0.9 0.9 0.9 0.9 0.9 0.9 0.9\n",
      "  0.9 0.9]]\n",
      "Time to explain (sec): 5.630511390976608\n"
     ]
    },
    {
     "name": "stderr",
     "output_type": "stream",
     "text": [
      "\n"
     ]
    }
   ],
   "source": [
    "n_to_explain = 3\n",
    "X_test_reg_uni_samples, y_test_reg_uni_samples = X_test_reg_uni[:n_to_explain], y_test_reg_uni[:n_to_explain]\n",
    "\n",
    "starttime = timeit.default_timer()\n",
    "myFA = Feature_Ablation(regressor)\n",
    "exp = myFA.explain(samples=X_test_reg_uni_samples, n_segments=10, normalise=False)\n",
    "print( \"saliency map shape equal to input shape:\", exp.shape, X_test_reg_uni_samples.shape,\n",
    "       \"\\n attributions for first 20 time points:\\n\", exp[0,:,:20])\n",
    "print(\"Time to explain (sec):\", timeit.default_timer() - starttime)\n",
    "\n",
    "#starttime = timeit.default_timer()\n",
    "#exp = myFA.explain(samples=X_test_reg_uni, n_segments=20, normalise=True)\n",
    "#print( \"normalised saliency map shape equal to input shape:\", exp.shape, X_test_reg_uni.shape,\n",
    "#       \"\\n attributions for first 20 time points:\\n\", exp[0,:,:20])\n",
    "#print(\"Time to explain (sec):\", timeit.default_timer() - starttime)"
   ]
  },
  {
   "cell_type": "code",
   "execution_count": 35,
   "id": "2805a7c5-8948-4d5e-b389-75803dfc1730",
   "metadata": {
    "ExecuteTime": {
     "end_time": "2024-06-09T07:27:46.305374Z",
     "start_time": "2024-06-09T07:27:46.185736Z"
    }
   },
   "outputs": [
    {
     "data": {
      "image/png": "[encoded data removed]",
      "text/plain": [
       "<Figure size 600x200 with 1 Axes>"
      ]
     },
     "metadata": {},
     "output_type": "display_data"
    }
   ],
   "source": [
    "idx = 0\n",
    "plot_saliency_map_uni(X_test_reg_uni[idx,:,:], exp[idx,:,:], title = f'FeatureAblation-Instance {idx} - Target {y_test_reg_uni[idx]}')"
   ]
  },
  {
   "cell_type": "code",
   "execution_count": null,
   "id": "2fc5a695-fb47-4299-8ee8-c5780cdbd2d5",
   "metadata": {
    "ExecuteTime": {
     "end_time": "2024-06-09T07:28:50.903779Z",
     "start_time": "2024-06-09T07:27:46.306115Z"
    }
   },
   "outputs": [
    {
     "name": "stderr",
     "output_type": "stream",
     "text": [
      "  0%|                                                                                                            | 0/3 [00:00<?, ?it/s]"
     ]
    }
   ],
   "source": [
    "n_to_explain = 3\n",
    "X_test_reg_uni_samples, y_test_reg_uni_samples = X_test_reg_uni[:n_to_explain], y_test_reg_uni[:n_to_explain]\n",
    "\n",
    "starttime = timeit.default_timer()\n",
    "mySHAP = SHAP(regressor)\n",
    "exp = mySHAP.explain(samples=X_test_reg_uni_samples, n_segments=10, normalise=False)\n",
    "print( \"saliency map shape equal to input shape:\", exp.shape, X_test_reg_uni_samples.shape,\n",
    "       \"\\n attributions for first 20 time points:\\n\", exp[0,:,:20])\n",
    "print(\"Time to explain (sec):\", timeit.default_timer() - starttime)"
   ]
  },
  {
   "cell_type": "code",
   "execution_count": null,
   "id": "0a3f36f7-bd77-440d-bdd6-aea12a9bf9ee",
   "metadata": {
    "ExecuteTime": {
     "end_time": "2024-06-09T07:28:51.015245Z",
     "start_time": "2024-06-09T07:28:50.904838Z"
    }
   },
   "outputs": [],
   "source": [
    "idx = 0\n",
    "plot_saliency_map_uni(X_test_reg_uni[idx,:,:], exp[idx,:,:], title = f'SHAP-Instance {idx} - Target {y_test_reg_uni[idx]}')"
   ]
  },
  {
   "cell_type": "markdown",
   "id": "51daf5f3-9796-45fd-8ada-f272bdf1e676",
   "metadata": {},
   "source": [
    "## Multivariate Time Series Regression and Explanation"
   ]
  },
  {
   "cell_type": "markdown",
   "id": "1f5bbb71-294b-4021-bc20-0bff7d4fbf8f",
   "metadata": {},
   "source": [
    "## Regression pipeline using MiniRocket, followed by FeatureAblation explainer"
   ]
  },
  {
   "cell_type": "code",
   "execution_count": null,
   "id": "c0842efa33107367",
   "metadata": {
    "ExecuteTime": {
     "end_time": "2024-06-09T07:28:51.262871Z",
     "start_time": "2024-06-09T07:28:51.016637Z"
    }
   },
   "outputs": [],
   "source": [
    "starttime = timeit.default_timer()\n",
    "\n",
    "regressor = make_pipeline(MiniRocketMultivariate(n_jobs=-1),\n",
    "                          StandardScaler(), \n",
    "                          RidgeCV())\n",
    "\n",
    "regressor.fit(X_train_reg, y_train_reg)\n",
    "test_y_pred = regressor.predict(X_test_reg)\n",
    "rmse = math.sqrt(mean_squared_error(y_test_reg, test_y_pred))\n",
    "print(\"rmse metric is: \", rmse)\n",
    "print(\"Time to train and test (sec):\", timeit.default_timer() - starttime)"
   ]
  },
  {
   "cell_type": "code",
   "execution_count": null,
   "id": "c9ee8962-af6b-4844-9d53-eedf865529b9",
   "metadata": {
    "ExecuteTime": {
     "end_time": "2024-06-09T07:28:53.229411Z",
     "start_time": "2024-06-09T07:28:51.264161Z"
    }
   },
   "outputs": [],
   "source": [
    "n_to_explain = 3\n",
    "X_test_reg, y_test_reg = X_test_reg[:n_to_explain], y_test_reg[:n_to_explain]\n",
    "\n",
    "starttime = timeit.default_timer()\n",
    "myFA = Feature_Ablation(regressor)\n",
    "exp = myFA.explain(samples=X_test_reg, n_segments=10, normalise=False)\n",
    "print( \"\\nSaliency map shape equal to input shape:\", exp.shape, X_test_reg_uni.shape,\n",
    "       \"\\n attributions for first 5 time points in the first 3 channels of samples 0:\\n\", exp[0,:3,:5])\n",
    "print(\"Time to explain (sec):\", timeit.default_timer() - starttime)    \n"
   ]
  },
  {
   "cell_type": "code",
   "execution_count": null,
   "id": "8086c1a4-932d-452f-93e7-76fe794fb42c",
   "metadata": {
    "ExecuteTime": {
     "end_time": "2024-06-09T07:28:55.734808Z",
     "start_time": "2024-06-09T07:28:53.230475Z"
    }
   },
   "outputs": [],
   "source": [
    "idx = 0\n",
    "for ch in range(X_test_reg.shape[1]):\n",
    "    print(\"channel:\", ch)\n",
    "    plot_saliency_map_uni(X_test_reg[idx,ch,:], exp[idx,ch,:], title = f'FeatureAblation-Instance {idx} - Target {y_test_reg[idx]}')"
   ]
  },
  {
   "cell_type": "code",
   "execution_count": null,
   "id": "3970a750-faf3-4113-a08a-4ef6c97f661a",
   "metadata": {
    "jupyter": {
     "is_executing": true
    }
   },
   "outputs": [],
   "source": []
  },
  {
   "cell_type": "code",
   "execution_count": null,
   "id": "4eca3a19f3e25ae7",
   "metadata": {},
   "outputs": [],
   "source": []
  }
 ],
 "metadata": {
  "kernelspec": {
   "display_name": "Python 3 (ipykernel)",
   "language": "python",
   "name": "python3"
  },
  "language_info": {
   "codemirror_mode": {
    "name": "ipython",
    "version": 3
   },
   "file_extension": ".py",
   "mimetype": "text/x-python",
   "name": "python",
   "nbconvert_exporter": "python",
   "pygments_lexer": "ipython3",
   "version": "3.11.7"
  }
 },
 "nbformat": 4,
 "nbformat_minor": 5
}
