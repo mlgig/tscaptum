{
 "cells": [
  {
   "metadata": {
    "ExecuteTime": {
     "end_time": "2024-05-03T11:50:48.200795Z",
     "start_time": "2024-05-03T11:50:46.551492Z"
    }
   },
   "cell_type": "code",
   "source": [
    "from sklearn.linear_model import LinearRegression, LogisticRegressionCV\n",
    "from aeon.datasets import  load_from_tsfile\n",
    "from sklearn.pipeline import make_pipeline\n",
    "from sklearn.preprocessing import StandardScaler\n",
    "from aeon.transformations.collection.convolution_based import MiniRocketMultivariate\n",
    "from aeon.datasets import load_basic_motions\n"
   ],
   "id": "985bfcc567afd21c",
   "outputs": [],
   "execution_count": 1
  },
  {
   "metadata": {
    "ExecuteTime": {
     "end_time": "2024-05-03T11:50:48.521298Z",
     "start_time": "2024-05-03T11:50:48.201755Z"
    }
   },
   "cell_type": "code",
   "source": "from tsCaptum.ts_captum_method import Feature_Ablation, Feature_Permutation\n",
   "id": "83d09c33accac92b",
   "outputs": [],
   "execution_count": 2
  },
  {
   "metadata": {},
   "cell_type": "markdown",
   "source": "# load regression data\n",
   "id": "1aa7eee73084798"
  },
  {
   "metadata": {
    "ExecuteTime": {
     "end_time": "2024-05-03T11:50:49.036190Z",
     "start_time": "2024-05-03T11:50:48.525910Z"
    }
   },
   "cell_type": "code",
   "source": [
    "X_train, y_train = load_from_tsfile(\"./data/AppliancesEnergy_TRAIN.ts\")\n",
    "X_test, y_test = load_from_tsfile(\"./data/AppliancesEnergy_TEST.ts\")"
   ],
   "id": "2d972febc67f8f29",
   "outputs": [],
   "execution_count": 3
  },
  {
   "metadata": {},
   "cell_type": "markdown",
   "source": "# train regression model",
   "id": "c49d63a5e4d94cf7"
  },
  {
   "metadata": {
    "ExecuteTime": {
     "end_time": "2024-05-03T11:50:49.601554Z",
     "start_time": "2024-05-03T11:50:49.039132Z"
    }
   },
   "cell_type": "code",
   "source": [
    "clf =  make_pipeline( MiniRocketMultivariate(), StandardScaler(),\n",
    "                      LinearRegression( n_jobs = -1))\n",
    "clf.fit(X_train,y_train)\n",
    "clf.score(X_test, y_test)"
   ],
   "id": "1eb5ef48a6fc839b",
   "outputs": [
    {
     "data": {
      "text/plain": [
       "0.6480603985628843"
      ]
     },
     "execution_count": 4,
     "metadata": {},
     "output_type": "execute_result"
    }
   ],
   "execution_count": 4
  },
  {
   "metadata": {},
   "cell_type": "markdown",
   "source": "# test regression methods .. TBC",
   "id": "f88bc46822c3166c"
  },
  {
   "metadata": {
    "ExecuteTime": {
     "end_time": "2024-05-03T11:51:20.868634Z",
     "start_time": "2024-05-03T11:50:49.606299Z"
    }
   },
   "cell_type": "code",
   "source": [
    "myfa = Feature_Ablation(clf)\n",
    "exp = myfa.explain(  X_test[:2] )\n",
    "print( type(exp), exp.shape, exp[:,:5,:5]  , \"\\n\\n\")\n",
    "\n",
    "myfp = Feature_Permutation(clf)\n",
    "exp = myfp.explain( X_test[:2])\n",
    "print( type(exp), exp.shape, exp[:,:5,:5]  , \"\\n\\n\")\n",
    "\n",
    "\n",
    "tmp = Feature_Permutation(clf=clf)\n",
    "tmp3 = Feature_Permutation(clf=clf, clf_type=\"regressor\")"
   ],
   "id": "bdccd9399a46dcd",
   "outputs": [
    {
     "name": "stdout",
     "output_type": "stream",
     "text": [
      "<class 'numpy.ndarray'> (2, 24, 144) [[[-0.02985191 -0.05060482 -0.03701019 -0.02889252 -0.04920673]\n",
      "  [-0.1837759  -0.2010374  -0.24809074 -0.14790344 -0.18824673]\n",
      "  [ 0.00544357  0.0478611   0.00166702  0.08009243  0.08660412]\n",
      "  [ 0.03286648  0.04365444  0.09275818  0.07201195  0.08699036]\n",
      "  [-0.15802383 -0.16177368 -0.21934032 -0.24625969 -0.23500061]]\n",
      "\n",
      " [[-0.01483345 -0.00751305  0.02280998  0.02466583  0.00994301]\n",
      "  [-0.16393661 -0.10100174 -0.11806297 -0.06227112 -0.13948631]\n",
      "  [-0.1089077   0.04946327 -0.04631233  0.00365639  0.03973007]\n",
      "  [ 0.03846359  0.06023979  0.10733986  0.09062958  0.12396812]\n",
      "  [-0.21626472 -0.2823372  -0.3541088  -0.41034698 -0.43452644]]] \n",
      "\n",
      "\n",
      "<class 'numpy.ndarray'> (2, 24, 144) [[[-0.01372719 -0.0133791  -0.03288364 -0.04853439 -0.06876087]\n",
      "  [-0.01695347 -0.05210972 -0.03399658 -0.03756428 -0.04555035]\n",
      "  [ 0.00052738 -0.00313473  0.00271416  0.00058556  0.0007515 ]\n",
      "  [-0.01420116  0.00169659  0.01017666 -0.02364159 -0.04451275]\n",
      "  [-0.06788254 -0.07894993 -0.0696888  -0.07048321 -0.09393597]]\n",
      "\n",
      " [[-0.02159882 -0.005373   -0.00561142  0.01417923  0.02880287]\n",
      "  [-0.0159874   0.01352119  0.03994942  0.03627014  0.05685997]\n",
      "  [-0.00347137  0.01229477  0.02383804  0.01724052  0.02168083]\n",
      "  [ 0.00045967 -0.00725937  0.01867485  0.00708961  0.01736069]\n",
      "  [-0.06328583 -0.12059975 -0.16129303 -0.22528648 -0.26670265]]] \n",
      "\n",
      "\n"
     ]
    }
   ],
   "execution_count": 5
  },
  {
   "metadata": {},
   "cell_type": "markdown",
   "source": "",
   "id": "f18c6ea7007f24e"
  },
  {
   "metadata": {},
   "cell_type": "markdown",
   "source": [
    "# load classification data\n",
    "\n"
   ],
   "id": "2d67e6c6b44a9f1"
  },
  {
   "metadata": {
    "ExecuteTime": {
     "end_time": "2024-05-03T11:51:20.882965Z",
     "start_time": "2024-05-03T11:51:20.869514Z"
    }
   },
   "cell_type": "code",
   "source": [
    "X_train, y_train = load_basic_motions(split=\"train\")\n",
    "X_test, y_test = load_basic_motions(split=\"test\")\n"
   ],
   "id": "c2b57b630c03c5ea",
   "outputs": [],
   "execution_count": 6
  },
  {
   "metadata": {},
   "cell_type": "markdown",
   "source": "# train regression model",
   "id": "7a46ee83f83dd1c2"
  },
  {
   "metadata": {
    "ExecuteTime": {
     "end_time": "2024-05-03T11:51:23.703622Z",
     "start_time": "2024-05-03T11:51:20.886759Z"
    }
   },
   "cell_type": "code",
   "source": [
    "clf =  make_pipeline( MiniRocketMultivariate(), StandardScaler(),\n",
    "                      LogisticRegressionCV(cv = 5, random_state=0, n_jobs = -1,max_iter=1000))\n",
    "clf.fit( X_train, y_train)\n",
    "clf.score ( X_test, y_test )"
   ],
   "id": "594754aa121c3d06",
   "outputs": [
    {
     "data": {
      "text/plain": [
       "1.0"
      ]
     },
     "execution_count": 7,
     "metadata": {},
     "output_type": "execute_result"
    }
   ],
   "execution_count": 7
  },
  {
   "metadata": {},
   "cell_type": "markdown",
   "source": "# test XAI classification methods TBC",
   "id": "a395e7231829b084"
  },
  {
   "metadata": {
    "ExecuteTime": {
     "end_time": "2024-05-03T11:51:27.805002Z",
     "start_time": "2024-05-03T11:51:23.716469Z"
    }
   },
   "cell_type": "code",
   "source": [
    "myfp4clf = Feature_Permutation(clf=clf, clf_type=\"classifier\")\n",
    "exp = myfp4clf.explain( X_test[:2], labels=y_test[:2] )\n",
    "print( type(exp), exp.shape,exp[:,:5,:5]  , \"\\n\\n\")\n",
    "\n",
    "myfp4clf2 = Feature_Permutation(clf=clf)\n",
    "exp = myfp4clf2.explain( X_test[:2], labels=y_test[:2] )\n",
    "print( type(exp), exp.shape, exp[:,:5,:5]  , \"\\n\\n\")\n",
    "\n",
    "myfa4clf = Feature_Ablation(clf=clf, clf_type=\"classifier\")\n",
    "exp = myfa4clf.explain( X_test[:2], labels=y_test[:2] )\n",
    "print( type(exp), exp.shape, exp[:,:5,:5]   , \"\\n\\n\")"
   ],
   "id": "290265bb1b3fcb96",
   "outputs": [
    {
     "name": "stdout",
     "output_type": "stream",
     "text": [
      "<class 'numpy.ndarray'> (2, 6, 100) [[[ 3.50786370e-05  2.96636450e-05 -7.31043140e-05 -7.38552912e-08\n",
      "   -3.83516598e-05]\n",
      "  [ 2.90222083e-07  2.38001400e-05  4.15881745e-04  2.55555096e-04\n",
      "    4.37418041e-04]\n",
      "  [-5.96477451e-06  1.02141177e-05  7.53462997e-04  3.57395141e-04\n",
      "    8.28554525e-05]\n",
      "  [ 3.18053138e-05  4.26747908e-05  1.09903476e-03  1.58509910e-04\n",
      "    3.15730063e-04]\n",
      "  [ 5.72559282e-07  2.86787025e-07  1.37396042e-05  1.20624138e-04\n",
      "    2.43623382e-04]]\n",
      "\n",
      " [[-4.15011192e-05 -7.95864548e-05 -1.14619998e-03 -5.57865792e-04\n",
      "    1.63815660e-05]\n",
      "  [ 2.62339451e-05  1.82291608e-05 -1.07716269e-03 -9.67546780e-04\n",
      "   -7.20140760e-04]\n",
      "  [ 9.39743630e-05  6.38675746e-05 -1.52333410e-03 -1.03562440e-03\n",
      "   -1.00507412e-04]\n",
      "  [-9.36591442e-05 -9.42794679e-05 -1.94986244e-03 -1.12417073e-03\n",
      "   -5.67322612e-04]\n",
      "  [-7.00433497e-06  1.50377404e-06 -8.75788445e-04 -4.80310024e-04\n",
      "   -4.94830494e-04]]] \n",
      "\n",
      "\n",
      "<class 'numpy.ndarray'> (2, 6, 100) [[[ 3.50786370e-05  2.96636450e-05 -7.31043140e-05 -7.38552912e-08\n",
      "   -3.83516598e-05]\n",
      "  [ 2.90222083e-07  2.38001400e-05  4.15881745e-04  2.55555096e-04\n",
      "    4.37418041e-04]\n",
      "  [-5.96477451e-06  1.02141177e-05  7.53462997e-04  3.57395141e-04\n",
      "    8.28554525e-05]\n",
      "  [ 3.18053138e-05  4.26747908e-05  1.09903476e-03  1.58509910e-04\n",
      "    3.15730063e-04]\n",
      "  [ 5.72559282e-07  2.86787025e-07  1.37396042e-05  1.20624138e-04\n",
      "    2.43623382e-04]]\n",
      "\n",
      " [[-4.15011192e-05 -7.95864548e-05 -1.14619998e-03 -5.57865792e-04\n",
      "    1.63815660e-05]\n",
      "  [ 2.62339451e-05  1.82291608e-05 -1.07716269e-03 -9.67546780e-04\n",
      "   -7.20140760e-04]\n",
      "  [ 9.39743630e-05  6.38675746e-05 -1.52333410e-03 -1.03562440e-03\n",
      "   -1.00507412e-04]\n",
      "  [-9.36591442e-05 -9.42794679e-05 -1.94986244e-03 -1.12417073e-03\n",
      "   -5.67322612e-04]\n",
      "  [-7.00433497e-06  1.50377404e-06 -8.75788445e-04 -4.80310024e-04\n",
      "   -4.94830494e-04]]] \n",
      "\n",
      "\n",
      "<class 'numpy.ndarray'> (2, 6, 100) [[[ 5.10154507e-05  5.98874118e-05 -1.67930148e-05  5.62876773e-05\n",
      "    3.52232443e-05]\n",
      "  [ 1.92864823e-06  2.39619760e-05  4.12523654e-04  2.66198887e-04\n",
      "    4.11010772e-04]\n",
      "  [-8.11970490e-06  1.63707001e-05  7.68238251e-04  3.63922212e-04\n",
      "    9.78742843e-05]\n",
      "  [ 3.42704235e-05  3.66233587e-05  1.11944036e-03  1.59109912e-04\n",
      "    2.99360853e-04]\n",
      "  [-2.71508438e-06 -1.96624449e-07  2.07924217e-05  1.19100540e-04\n",
      "    2.43836610e-04]]\n",
      "\n",
      " [[ 5.40140772e-06  2.14943760e-05  1.27148623e-04  6.19890406e-05\n",
      "   -1.33989757e-05]\n",
      "  [ 7.59652596e-06  1.60865077e-06  3.98307838e-06 -2.15519366e-05\n",
      "   -1.77901335e-05]\n",
      "  [ 8.47760160e-05  7.73888878e-05  4.32186540e-05  1.97976363e-04\n",
      "    9.03137583e-06]\n",
      "  [ 3.34499017e-06 -1.14206828e-07  6.55934605e-05 -1.20594400e-07\n",
      "    1.89101463e-05]\n",
      "  [-1.20234193e-05  2.11820388e-06  1.25572638e-05  2.31489858e-05\n",
      "    3.79838734e-05]]] \n",
      "\n",
      "\n"
     ]
    }
   ],
   "execution_count": 8
  }
 ],
 "metadata": {
  "kernelspec": {
   "display_name": "Python 3",
   "language": "python",
   "name": "python3"
  },
  "language_info": {
   "codemirror_mode": {
    "name": "ipython",
    "version": 2
   },
   "file_extension": ".py",
   "mimetype": "text/x-python",
   "name": "python",
   "nbconvert_exporter": "python",
   "pygments_lexer": "ipython2",
   "version": "2.7.6"
  }
 },
 "nbformat": 4,
 "nbformat_minor": 5
}
