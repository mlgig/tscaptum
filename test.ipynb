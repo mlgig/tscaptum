{
 "cells": [
  {
   "metadata": {
    "ExecuteTime": {
     "end_time": "2024-05-07T09:59:59.464939Z",
     "start_time": "2024-05-07T09:59:59.462320Z"
    }
   },
   "cell_type": "code",
   "source": [
    "from sklearn.linear_model import LinearRegression, LogisticRegressionCV\n",
    "from aeon.datasets import  load_from_tsfile\n",
    "from sklearn.pipeline import make_pipeline\n",
    "from sklearn.preprocessing import StandardScaler\n",
    "from aeon.transformations.collection.convolution_based import MiniRocketMultivariate\n",
    "from aeon.datasets import load_basic_motions\n"
   ],
   "id": "985bfcc567afd21c",
   "outputs": [],
   "execution_count": 4
  },
  {
   "metadata": {
    "ExecuteTime": {
     "end_time": "2024-05-07T10:00:20.072973Z",
     "start_time": "2024-05-07T10:00:15.316432Z"
    }
   },
   "cell_type": "code",
   "source": "!python -v",
   "id": "30a1f48d34d5329a",
   "outputs": [
    {
     "name": "stdout",
     "output_type": "stream",
     "text": [
      "import _frozen_importlib # frozen\r\n",
      "import _imp # builtin\r\n",
      "import '_thread' # <class '_frozen_importlib.BuiltinImporter'>\r\n",
      "import '_warnings' # <class '_frozen_importlib.BuiltinImporter'>\r\n",
      "import '_weakref' # <class '_frozen_importlib.BuiltinImporter'>\r\n",
      "import '_io' # <class '_frozen_importlib.BuiltinImporter'>\r\n",
      "import 'marshal' # <class '_frozen_importlib.BuiltinImporter'>\r\n",
      "import 'posix' # <class '_frozen_importlib.BuiltinImporter'>\r\n",
      "import '_frozen_importlib_external' # <class '_frozen_importlib.FrozenImporter'>\r\n",
      "# installing zipimport hook\r\n",
      "import 'time' # <class '_frozen_importlib.BuiltinImporter'>\r\n",
      "import 'zipimport' # <class '_frozen_importlib.FrozenImporter'>\r\n",
      "# installed zipimport hook\r\n",
      "# /home/davide/miniconda3/envs/TSCaptum311/lib/python3.11/encodings/__pycache__/__init__.cpython-311.pyc matches /home/davide/miniconda3/envs/TSCaptum311/lib/python3.11/encodings/__init__.py\r\n",
      "# code object from '/home/davide/miniconda3/envs/TSCaptum311/lib/python3.11/encodings/__pycache__/__init__.cpython-311.pyc'\r\n",
      "import '_codecs' # <class '_frozen_importlib.BuiltinImporter'>\r\n",
      "import 'codecs' # <class '_frozen_importlib.FrozenImporter'>\r\n",
      "# /home/davide/miniconda3/envs/TSCaptum311/lib/python3.11/encodings/__pycache__/aliases.cpython-311.pyc matches /home/davide/miniconda3/envs/TSCaptum311/lib/python3.11/encodings/aliases.py\r\n",
      "# code object from '/home/davide/miniconda3/envs/TSCaptum311/lib/python3.11/encodings/__pycache__/aliases.cpython-311.pyc'\r\n",
      "import 'encodings.aliases' # <_frozen_importlib_external.SourceFileLoader object at 0x7b849bb19810>\r\n",
      "import 'encodings' # <_frozen_importlib_external.SourceFileLoader object at 0x7b849bb09c50>\r\n",
      "# /home/davide/miniconda3/envs/TSCaptum311/lib/python3.11/encodings/__pycache__/utf_8.cpython-311.pyc matches /home/davide/miniconda3/envs/TSCaptum311/lib/python3.11/encodings/utf_8.py\r\n",
      "# code object from '/home/davide/miniconda3/envs/TSCaptum311/lib/python3.11/encodings/__pycache__/utf_8.cpython-311.pyc'\r\n",
      "import 'encodings.utf_8' # <_frozen_importlib_external.SourceFileLoader object at 0x7b849bb0b610>\r\n",
      "import '_signal' # <class '_frozen_importlib.BuiltinImporter'>\r\n",
      "import '_abc' # <class '_frozen_importlib.BuiltinImporter'>\r\n",
      "import 'abc' # <class '_frozen_importlib.FrozenImporter'>\r\n",
      "import 'io' # <class '_frozen_importlib.FrozenImporter'>\r\n",
      "import '_stat' # <class '_frozen_importlib.BuiltinImporter'>\r\n",
      "import 'stat' # <class '_frozen_importlib.FrozenImporter'>\r\n",
      "import '_collections_abc' # <class '_frozen_importlib.FrozenImporter'>\r\n",
      "import 'genericpath' # <class '_frozen_importlib.FrozenImporter'>\r\n",
      "import 'posixpath' # <class '_frozen_importlib.FrozenImporter'>\r\n",
      "import 'os' # <class '_frozen_importlib.FrozenImporter'>\r\n",
      "import '_sitebuiltins' # <class '_frozen_importlib.FrozenImporter'>\r\n",
      "Processing user site-packages\r\n",
      "Processing global site-packages\r\n",
      "Adding directory: '/home/davide/miniconda3/envs/TSCaptum311/lib/python3.11/site-packages'\r\n",
      "Processing .pth file: '/home/davide/miniconda3/envs/TSCaptum311/lib/python3.11/site-packages/distutils-precedence.pth'\r\n",
      "# /home/davide/miniconda3/envs/TSCaptum311/lib/python3.11/site-packages/_distutils_hack/__pycache__/__init__.cpython-311.pyc matches /home/davide/miniconda3/envs/TSCaptum311/lib/python3.11/site-packages/_distutils_hack/__init__.py\r\n",
      "# code object from '/home/davide/miniconda3/envs/TSCaptum311/lib/python3.11/site-packages/_distutils_hack/__pycache__/__init__.cpython-311.pyc'\r\n",
      "import '_distutils_hack' # <_frozen_importlib_external.SourceFileLoader object at 0x7b849b11a190>\r\n",
      "import 'site' # <class '_frozen_importlib.FrozenImporter'>\r\n",
      "# extension module 'readline' loaded from '/home/davide/miniconda3/envs/TSCaptum311/lib/python3.11/lib-dynload/readline.cpython-311-x86_64-linux-gnu.so'\r\n",
      "# extension module 'readline' executed from '/home/davide/miniconda3/envs/TSCaptum311/lib/python3.11/lib-dynload/readline.cpython-311-x86_64-linux-gnu.so'\r\n",
      "import 'readline' # <_frozen_importlib_external.ExtensionFileLoader object at 0x7b849bb2fe10>\r\n",
      "# /home/davide/miniconda3/envs/TSCaptum311/lib/python3.11/__pycache__/rlcompleter.cpython-311.pyc matches /home/davide/miniconda3/envs/TSCaptum311/lib/python3.11/rlcompleter.py\r\n",
      "# code object from '/home/davide/miniconda3/envs/TSCaptum311/lib/python3.11/__pycache__/rlcompleter.cpython-311.pyc'\r\n",
      "import 'atexit' # <class '_frozen_importlib.BuiltinImporter'>\r\n",
      "# /home/davide/miniconda3/envs/TSCaptum311/lib/python3.11/__pycache__/inspect.cpython-311.pyc matches /home/davide/miniconda3/envs/TSCaptum311/lib/python3.11/inspect.py\r\n",
      "# code object from '/home/davide/miniconda3/envs/TSCaptum311/lib/python3.11/__pycache__/inspect.cpython-311.pyc'\r\n",
      "# /home/davide/miniconda3/envs/TSCaptum311/lib/python3.11/__pycache__/ast.cpython-311.pyc matches /home/davide/miniconda3/envs/TSCaptum311/lib/python3.11/ast.py\r\n",
      "# code object from '/home/davide/miniconda3/envs/TSCaptum311/lib/python3.11/__pycache__/ast.cpython-311.pyc'\r\n",
      "import '_ast' # <class '_frozen_importlib.BuiltinImporter'>\r\n",
      "# /home/davide/miniconda3/envs/TSCaptum311/lib/python3.11/__pycache__/contextlib.cpython-311.pyc matches /home/davide/miniconda3/envs/TSCaptum311/lib/python3.11/contextlib.py\r\n",
      "# code object from '/home/davide/miniconda3/envs/TSCaptum311/lib/python3.11/__pycache__/contextlib.cpython-311.pyc'\r\n",
      "# /home/davide/miniconda3/envs/TSCaptum311/lib/python3.11/collections/__pycache__/__init__.cpython-311.pyc matches /home/davide/miniconda3/envs/TSCaptum311/lib/python3.11/collections/__init__.py\r\n",
      "# code object from '/home/davide/miniconda3/envs/TSCaptum311/lib/python3.11/collections/__pycache__/__init__.cpython-311.pyc'\r\n",
      "import 'itertools' # <class '_frozen_importlib.BuiltinImporter'>\r\n",
      "# /home/davide/miniconda3/envs/TSCaptum311/lib/python3.11/__pycache__/keyword.cpython-311.pyc matches /home/davide/miniconda3/envs/TSCaptum311/lib/python3.11/keyword.py\r\n",
      "# code object from '/home/davide/miniconda3/envs/TSCaptum311/lib/python3.11/__pycache__/keyword.cpython-311.pyc'\r\n",
      "import 'keyword' # <_frozen_importlib_external.SourceFileLoader object at 0x7b849b1b4410>\r\n",
      "# /home/davide/miniconda3/envs/TSCaptum311/lib/python3.11/__pycache__/operator.cpython-311.pyc matches /home/davide/miniconda3/envs/TSCaptum311/lib/python3.11/operator.py\r\n",
      "# code object from '/home/davide/miniconda3/envs/TSCaptum311/lib/python3.11/__pycache__/operator.cpython-311.pyc'\r\n",
      "import '_operator' # <class '_frozen_importlib.BuiltinImporter'>\r\n",
      "import 'operator' # <_frozen_importlib_external.SourceFileLoader object at 0x7b849b1b4950>\r\n",
      "# /home/davide/miniconda3/envs/TSCaptum311/lib/python3.11/__pycache__/reprlib.cpython-311.pyc matches /home/davide/miniconda3/envs/TSCaptum311/lib/python3.11/reprlib.py\r\n",
      "# code object from '/home/davide/miniconda3/envs/TSCaptum311/lib/python3.11/__pycache__/reprlib.cpython-311.pyc'\r\n",
      "import 'reprlib' # <_frozen_importlib_external.SourceFileLoader object at 0x7b849b1b5510>\r\n",
      "import '_collections' # <class '_frozen_importlib.BuiltinImporter'>\r\n",
      "import 'collections' # <_frozen_importlib_external.SourceFileLoader object at 0x7b849b17fe50>\r\n",
      "# /home/davide/miniconda3/envs/TSCaptum311/lib/python3.11/__pycache__/functools.cpython-311.pyc matches /home/davide/miniconda3/envs/TSCaptum311/lib/python3.11/functools.py\r\n",
      "# code object from '/home/davide/miniconda3/envs/TSCaptum311/lib/python3.11/__pycache__/functools.cpython-311.pyc'\r\n",
      "# /home/davide/miniconda3/envs/TSCaptum311/lib/python3.11/__pycache__/types.cpython-311.pyc matches /home/davide/miniconda3/envs/TSCaptum311/lib/python3.11/types.py\r\n",
      "# code object from '/home/davide/miniconda3/envs/TSCaptum311/lib/python3.11/__pycache__/types.cpython-311.pyc'\r\n",
      "import 'types' # <_frozen_importlib_external.SourceFileLoader object at 0x7b849b1e0250>\r\n",
      "import '_functools' # <class '_frozen_importlib.BuiltinImporter'>\r\n",
      "import 'functools' # <_frozen_importlib_external.SourceFileLoader object at 0x7b849b18ed90>\r\n",
      "import 'contextlib' # <_frozen_importlib_external.SourceFileLoader object at 0x7b849b17f210>\r\n",
      "# /home/davide/miniconda3/envs/TSCaptum311/lib/python3.11/__pycache__/enum.cpython-311.pyc matches /home/davide/miniconda3/envs/TSCaptum311/lib/python3.11/enum.py\r\n",
      "# code object from '/home/davide/miniconda3/envs/TSCaptum311/lib/python3.11/__pycache__/enum.cpython-311.pyc'\r\n",
      "import 'enum' # <_frozen_importlib_external.SourceFileLoader object at 0x7b849b17fe90>\r\n",
      "import 'ast' # <_frozen_importlib_external.SourceFileLoader object at 0x7b849b142950>\r\n",
      "# /home/davide/miniconda3/envs/TSCaptum311/lib/python3.11/__pycache__/dis.cpython-311.pyc matches /home/davide/miniconda3/envs/TSCaptum311/lib/python3.11/dis.py\r\n",
      "# code object from '/home/davide/miniconda3/envs/TSCaptum311/lib/python3.11/__pycache__/dis.cpython-311.pyc'\r\n",
      "# /home/davide/miniconda3/envs/TSCaptum311/lib/python3.11/__pycache__/opcode.cpython-311.pyc matches /home/davide/miniconda3/envs/TSCaptum311/lib/python3.11/opcode.py\r\n",
      "# code object from '/home/davide/miniconda3/envs/TSCaptum311/lib/python3.11/__pycache__/opcode.cpython-311.pyc'\r\n",
      "# extension module '_opcode' loaded from '/home/davide/miniconda3/envs/TSCaptum311/lib/python3.11/lib-dynload/_opcode.cpython-311-x86_64-linux-gnu.so'\r\n",
      "# extension module '_opcode' executed from '/home/davide/miniconda3/envs/TSCaptum311/lib/python3.11/lib-dynload/_opcode.cpython-311-x86_64-linux-gnu.so'\r\n",
      "import '_opcode' # <_frozen_importlib_external.ExtensionFileLoader object at 0x7b849af921d0>\r\n",
      "import 'opcode' # <_frozen_importlib_external.SourceFileLoader object at 0x7b849af86f10>\r\n",
      "import 'dis' # <_frozen_importlib_external.SourceFileLoader object at 0x7b849b14cd90>\r\n",
      "# /home/davide/miniconda3/envs/TSCaptum311/lib/python3.11/collections/__pycache__/abc.cpython-311.pyc matches /home/davide/miniconda3/envs/TSCaptum311/lib/python3.11/collections/abc.py\r\n",
      "# code object from '/home/davide/miniconda3/envs/TSCaptum311/lib/python3.11/collections/__pycache__/abc.cpython-311.pyc'\r\n",
      "import 'collections.abc' # <_frozen_importlib_external.SourceFileLoader object at 0x7b849af98c90>\r\n",
      "# /home/davide/miniconda3/envs/TSCaptum311/lib/python3.11/importlib/__pycache__/__init__.cpython-311.pyc matches /home/davide/miniconda3/envs/TSCaptum311/lib/python3.11/importlib/__init__.py\r\n",
      "# code object from '/home/davide/miniconda3/envs/TSCaptum311/lib/python3.11/importlib/__pycache__/__init__.cpython-311.pyc'\r\n",
      "# /home/davide/miniconda3/envs/TSCaptum311/lib/python3.11/__pycache__/warnings.cpython-311.pyc matches /home/davide/miniconda3/envs/TSCaptum311/lib/python3.11/warnings.py\r\n",
      "# code object from '/home/davide/miniconda3/envs/TSCaptum311/lib/python3.11/__pycache__/warnings.cpython-311.pyc'\r\n",
      "import 'warnings' # <_frozen_importlib_external.SourceFileLoader object at 0x7b849af98590>\r\n",
      "import 'importlib' # <_frozen_importlib_external.SourceFileLoader object at 0x7b849af98990>\r\n",
      "import 'importlib.machinery' # <class '_frozen_importlib.FrozenImporter'>\r\n",
      "# /home/davide/miniconda3/envs/TSCaptum311/lib/python3.11/__pycache__/linecache.cpython-311.pyc matches /home/davide/miniconda3/envs/TSCaptum311/lib/python3.11/linecache.py\r\n",
      "# code object from '/home/davide/miniconda3/envs/TSCaptum311/lib/python3.11/__pycache__/linecache.cpython-311.pyc'\r\n",
      "# /home/davide/miniconda3/envs/TSCaptum311/lib/python3.11/__pycache__/tokenize.cpython-311.pyc matches /home/davide/miniconda3/envs/TSCaptum311/lib/python3.11/tokenize.py\r\n",
      "# code object from '/home/davide/miniconda3/envs/TSCaptum311/lib/python3.11/__pycache__/tokenize.cpython-311.pyc'\r\n",
      "# /home/davide/miniconda3/envs/TSCaptum311/lib/python3.11/re/__pycache__/__init__.cpython-311.pyc matches /home/davide/miniconda3/envs/TSCaptum311/lib/python3.11/re/__init__.py\r\n",
      "# code object from '/home/davide/miniconda3/envs/TSCaptum311/lib/python3.11/re/__pycache__/__init__.cpython-311.pyc'\r\n",
      "# /home/davide/miniconda3/envs/TSCaptum311/lib/python3.11/re/__pycache__/_compiler.cpython-311.pyc matches /home/davide/miniconda3/envs/TSCaptum311/lib/python3.11/re/_compiler.py\r\n",
      "# code object from '/home/davide/miniconda3/envs/TSCaptum311/lib/python3.11/re/__pycache__/_compiler.cpython-311.pyc'\r\n",
      "import '_sre' # <class '_frozen_importlib.BuiltinImporter'>\r\n",
      "# /home/davide/miniconda3/envs/TSCaptum311/lib/python3.11/re/__pycache__/_parser.cpython-311.pyc matches /home/davide/miniconda3/envs/TSCaptum311/lib/python3.11/re/_parser.py\r\n",
      "# code object from '/home/davide/miniconda3/envs/TSCaptum311/lib/python3.11/re/__pycache__/_parser.cpython-311.pyc'\r\n",
      "# /home/davide/miniconda3/envs/TSCaptum311/lib/python3.11/re/__pycache__/_constants.cpython-311.pyc matches /home/davide/miniconda3/envs/TSCaptum311/lib/python3.11/re/_constants.py\r\n",
      "# code object from '/home/davide/miniconda3/envs/TSCaptum311/lib/python3.11/re/__pycache__/_constants.cpython-311.pyc'\r\n",
      "import 're._constants' # <_frozen_importlib_external.SourceFileLoader object at 0x7b849afc2fd0>\r\n",
      "import 're._parser' # <_frozen_importlib_external.SourceFileLoader object at 0x7b849afc00d0>\r\n",
      "# /home/davide/miniconda3/envs/TSCaptum311/lib/python3.11/re/__pycache__/_casefix.cpython-311.pyc matches /home/davide/miniconda3/envs/TSCaptum311/lib/python3.11/re/_casefix.py\r\n",
      "# code object from '/home/davide/miniconda3/envs/TSCaptum311/lib/python3.11/re/__pycache__/_casefix.cpython-311.pyc'\r\n",
      "import 're._casefix' # <_frozen_importlib_external.SourceFileLoader object at 0x7b849afc68d0>\r\n",
      "import 're._compiler' # <_frozen_importlib_external.SourceFileLoader object at 0x7b849afb4cd0>\r\n",
      "# /home/davide/miniconda3/envs/TSCaptum311/lib/python3.11/__pycache__/copyreg.cpython-311.pyc matches /home/davide/miniconda3/envs/TSCaptum311/lib/python3.11/copyreg.py\r\n",
      "# code object from '/home/davide/miniconda3/envs/TSCaptum311/lib/python3.11/__pycache__/copyreg.cpython-311.pyc'\r\n",
      "import 'copyreg' # <_frozen_importlib_external.SourceFileLoader object at 0x7b849afc7c50>\r\n",
      "import 're' # <_frozen_importlib_external.SourceFileLoader object at 0x7b849afa2e90>\r\n",
      "# /home/davide/miniconda3/envs/TSCaptum311/lib/python3.11/__pycache__/token.cpython-311.pyc matches /home/davide/miniconda3/envs/TSCaptum311/lib/python3.11/token.py\r\n",
      "# code object from '/home/davide/miniconda3/envs/TSCaptum311/lib/python3.11/__pycache__/token.cpython-311.pyc'\r\n",
      "import 'token' # <_frozen_importlib_external.SourceFileLoader object at 0x7b849afa39d0>\r\n",
      "import 'tokenize' # <_frozen_importlib_external.SourceFileLoader object at 0x7b849af9b790>\r\n",
      "import 'linecache' # <_frozen_importlib_external.SourceFileLoader object at 0x7b849af86bd0>\r\n",
      "import 'inspect' # <_frozen_importlib_external.SourceFileLoader object at 0x7b849b124810>\r\n",
      "import 'rlcompleter' # <_frozen_importlib_external.SourceFileLoader object at 0x7b849b11ba10>\r\n",
      "Python 3.11.9 (main, Apr 19 2024, 16:48:06) [GCC 11.2.0] on linux\r\n",
      "Type \"help\", \"copyright\", \"credits\" or \"license\" for more information.\r\n",
      ">>> \r\n",
      "Traceback (most recent call last):\r\n",
      "  File \"<stdin>\", line 0, in <module>\r\n",
      "KeyboardInterrupt\r\n",
      ">>> "
     ]
    }
   ],
   "execution_count": 7
  },
  {
   "metadata": {
    "ExecuteTime": {
     "end_time": "2024-05-07T10:00:22.519135Z",
     "start_time": "2024-05-07T10:00:22.288027Z"
    }
   },
   "cell_type": "code",
   "source": "from tsCaptum.ts_captum_method import Feature_Ablation, Feature_Permutation",
   "id": "ca9e7edd5c01fca8",
   "outputs": [],
   "execution_count": 8
  },
  {
   "metadata": {},
   "cell_type": "markdown",
   "source": "# load regression data\n",
   "id": "1aa7eee73084798"
  },
  {
   "metadata": {
    "ExecuteTime": {
     "end_time": "2024-05-07T10:00:23.833503Z",
     "start_time": "2024-05-07T10:00:23.396881Z"
    }
   },
   "cell_type": "code",
   "source": [
    "X_train_reg, y_train_reg = load_from_tsfile(\"./data/AppliancesEnergy_TRAIN.ts\")\n",
    "X_test_reg, y_test_reg = load_from_tsfile(\"./data/AppliancesEnergy_TEST.ts\")"
   ],
   "id": "2d972febc67f8f29",
   "outputs": [],
   "execution_count": 9
  },
  {
   "metadata": {},
   "cell_type": "markdown",
   "source": "# train regression model",
   "id": "c49d63a5e4d94cf7"
  },
  {
   "metadata": {
    "ExecuteTime": {
     "end_time": "2024-05-07T10:00:24.567116Z",
     "start_time": "2024-05-07T10:00:24.213643Z"
    }
   },
   "cell_type": "code",
   "source": [
    "clf =  make_pipeline( MiniRocketMultivariate(n_jobs=-1), StandardScaler(),\n",
    "                      LinearRegression( n_jobs = -1))\n",
    "clf.fit(X_train_reg,y_train_reg)\n",
    "clf.score(X_test_reg, y_test_reg)"
   ],
   "id": "1eb5ef48a6fc839b",
   "outputs": [
    {
     "data": {
      "text/plain": [
       "0.5420600269731599"
      ]
     },
     "execution_count": 10,
     "metadata": {},
     "output_type": "execute_result"
    }
   ],
   "execution_count": 10
  },
  {
   "metadata": {},
   "cell_type": "markdown",
   "source": "# test regression methods .. TBC",
   "id": "f88bc46822c3166c"
  },
  {
   "metadata": {
    "ExecuteTime": {
     "end_time": "2024-05-07T10:01:14.543035Z",
     "start_time": "2024-05-07T10:00:25.115808Z"
    }
   },
   "cell_type": "code",
   "source": [
    "myfa = Feature_Ablation(clf)\n",
    "exp = myfa.explain(  X_test_reg[:2] )\n",
    "print( type(exp), exp.shape, exp[:,:5,:5]  , \"\\n\\n\")\n",
    "\n",
    "myfp = Feature_Permutation(clf)\n",
    "exp = myfp.explain( X_test_reg[:2])\n",
    "print( type(exp), exp.shape, exp[:,:5,:5]  , \"\\n\\n\")\n",
    "\n",
    "\n",
    "tmp = Feature_Permutation(clf=clf)\n",
    "tmp3 = Feature_Permutation(clf=clf, clf_type=\"regressor\")"
   ],
   "id": "bdccd9399a46dcd",
   "outputs": [
    {
     "name": "stdout",
     "output_type": "stream",
     "text": [
      "<class 'numpy.ndarray'> (2, 24, 144) [[[-0.02573681 -0.00404549 -0.01771736 -0.00264645  0.00416088]\n",
      "  [-0.01262856 -0.01827145 -0.12257767 -0.01614571 -0.15222454]\n",
      "  [ 0.04004097  0.03127766 -0.00219917 -0.00697041 -0.00518322]\n",
      "  [ 0.06549549  0.00125217 -0.06796932 -0.06739712 -0.16692352]\n",
      "  [-0.14769077 -0.19347286 -0.2391653  -0.24162197 -0.32153416]]\n",
      "\n",
      " [[ 0.00492859  0.01392937  0.02258682  0.02529907  0.05384445]\n",
      "  [ 0.02045441  0.02164078 -0.02195168  0.14097786  0.02272415]\n",
      "  [ 0.05850029  0.07066727  0.04148102  0.02645874  0.01840401]\n",
      "  [ 0.04247284 -0.00858498 -0.03930664  0.01515198 -0.10315132]\n",
      "  [-0.17253494 -0.20374298 -0.23417854 -0.24288368 -0.32317924]]] \n",
      "\n",
      "\n",
      "<class 'numpy.ndarray'> (2, 24, 144) [[[-8.11576843e-03 -1.74894333e-02 -2.47440338e-02 -2.47907639e-02\n",
      "   -4.22286987e-03]\n",
      "  [-3.25803757e-02 -3.64723206e-02 -8.21475983e-02 -4.59156036e-02\n",
      "   -5.03664017e-02]\n",
      "  [-4.76837158e-06 -4.30202484e-03 -4.77123260e-03 -2.40707397e-03\n",
      "   -2.75230408e-03]\n",
      "  [-5.35345078e-02 -9.09185410e-02 -9.87730026e-02 -1.22246742e-01\n",
      "   -1.10627174e-01]\n",
      "  [-8.64734650e-02 -1.06640816e-01 -1.16725922e-01 -9.56182480e-02\n",
      "   -1.25728607e-01]]\n",
      "\n",
      " [[-5.76210022e-03 -8.69178772e-03 -7.32803345e-03 -1.86729431e-03\n",
      "   -4.59861755e-03]\n",
      "  [ 7.66601562e-02  4.19979095e-02  3.81374359e-02  3.12557220e-02\n",
      "    2.54631042e-02]\n",
      "  [-8.61930847e-03  1.44958496e-04 -3.18336487e-03 -2.44064331e-02\n",
      "   -7.97080994e-03]\n",
      "  [-4.13188934e-02 -2.93159485e-03  1.31206512e-02  3.45249176e-02\n",
      "    2.18734741e-02]\n",
      "  [-9.39044952e-02 -6.82010651e-02 -1.25926971e-01 -1.91505432e-01\n",
      "   -2.03128815e-01]]] \n",
      "\n",
      "\n"
     ]
    }
   ],
   "execution_count": 11
  },
  {
   "metadata": {},
   "cell_type": "markdown",
   "source": "",
   "id": "f18c6ea7007f24e"
  },
  {
   "metadata": {},
   "cell_type": "markdown",
   "source": [
    "# load classification data\n",
    "\n"
   ],
   "id": "2d67e6c6b44a9f1"
  },
  {
   "metadata": {
    "ExecuteTime": {
     "end_time": "2024-05-07T10:01:14.562927Z",
     "start_time": "2024-05-07T10:01:14.545745Z"
    }
   },
   "cell_type": "code",
   "source": [
    "X_train_clf, y_train_clf = load_basic_motions(split=\"train\")\n",
    "X_test_clf, y_test_clf = load_basic_motions(split=\"test\")\n"
   ],
   "id": "c2b57b630c03c5ea",
   "outputs": [],
   "execution_count": 12
  },
  {
   "metadata": {},
   "cell_type": "markdown",
   "source": "# train classification model",
   "id": "7a46ee83f83dd1c2"
  },
  {
   "metadata": {
    "ExecuteTime": {
     "end_time": "2024-05-07T10:01:16.494771Z",
     "start_time": "2024-05-07T10:01:14.563767Z"
    }
   },
   "cell_type": "code",
   "source": [
    "clf =  make_pipeline( MiniRocketMultivariate(n_jobs=-1), StandardScaler(),\n",
    "                      LogisticRegressionCV(cv = 5, random_state=0, n_jobs = -1,max_iter=1000))\n",
    "clf.fit( X_train_clf, y_train_clf)\n",
    "clf.score ( X_test_clf, y_test_clf )"
   ],
   "id": "594754aa121c3d06",
   "outputs": [
    {
     "data": {
      "text/plain": [
       "1.0"
      ]
     },
     "execution_count": 13,
     "metadata": {},
     "output_type": "execute_result"
    }
   ],
   "execution_count": 13
  },
  {
   "metadata": {},
   "cell_type": "markdown",
   "source": "# test XAI classification methods TBC",
   "id": "a395e7231829b084"
  },
  {
   "metadata": {
    "ExecuteTime": {
     "end_time": "2024-05-07T10:01:23.922681Z",
     "start_time": "2024-05-07T10:01:16.496362Z"
    }
   },
   "cell_type": "code",
   "source": [
    "myfp4clf = Feature_Permutation(clf=clf, clf_type=\"classifier\")\n",
    "exp = myfp4clf.explain( X_test_clf[:2], labels=y_test_clf[:2] )\n",
    "print( type(exp), exp.shape,exp[:,:5,:5]  , \"\\n\\n\")\n",
    "\n",
    "myfp4clf2 = Feature_Permutation(clf=clf)\n",
    "exp = myfp4clf2.explain( X_test_clf[:2], labels=y_test_clf[:2] )\n",
    "print( type(exp), exp.shape, exp[:,:5,:5]  , \"\\n\\n\")\n",
    "\n",
    "myfa4clf = Feature_Ablation(clf=clf, clf_type=\"classifier\")\n",
    "exp = myfa4clf.explain( X_test_clf[:2], labels=y_test_clf[:2] )\n",
    "print( type(exp), exp.shape, exp[:,:5,:5]   , \"\\n\\n\")"
   ],
   "id": "290265bb1b3fcb96",
   "outputs": [
    {
     "name": "stdout",
     "output_type": "stream",
     "text": [
      "<class 'numpy.ndarray'> (2, 6, 100) [[[ 2.09981049e-05  1.95596432e-05 -4.12707705e-05  2.49961687e-05\n",
      "   -8.08386660e-06]\n",
      "  [-1.26687528e-05 -3.74253755e-05  4.05554369e-04  2.31518671e-04\n",
      "    4.66499552e-04]\n",
      "  [-2.48587637e-05 -1.94392733e-05  8.27762731e-04  3.36486837e-04\n",
      "    9.89174621e-05]\n",
      "  [ 1.31882828e-05  1.77453078e-05  9.87143985e-04  1.20632709e-04\n",
      "    3.36433531e-04]\n",
      "  [ 5.18994642e-06 -1.05858758e-05 -6.69838469e-05  1.11306374e-04\n",
      "    2.33994084e-04]]\n",
      "\n",
      " [[-8.27251942e-05 -8.02925685e-05 -9.55454742e-04 -4.55659073e-04\n",
      "    2.46951388e-05]\n",
      "  [ 2.94982843e-05  2.21469228e-05 -1.08818937e-03 -9.87545324e-04\n",
      "   -7.83393121e-04]\n",
      "  [ 5.72036566e-05  5.90542570e-05 -1.44212948e-03 -9.99847143e-04\n",
      "   -1.14147055e-04]\n",
      "  [-9.40633848e-05 -1.09382384e-04 -1.64709518e-03 -9.00218347e-04\n",
      "   -5.52288579e-04]\n",
      "  [ 6.34214870e-07  4.68162123e-06 -7.93195686e-04 -4.01851319e-04\n",
      "   -2.92200403e-04]]] \n",
      "\n",
      "\n",
      "<class 'numpy.ndarray'> (2, 6, 100) [[[ 2.09981049e-05  1.95596432e-05 -4.12707705e-05  2.49961687e-05\n",
      "   -8.08386660e-06]\n",
      "  [-1.26687528e-05 -3.74253755e-05  4.05554369e-04  2.31518671e-04\n",
      "    4.66499552e-04]\n",
      "  [-2.48587637e-05 -1.94392733e-05  8.27762731e-04  3.36486837e-04\n",
      "    9.89174621e-05]\n",
      "  [ 1.31882828e-05  1.77453078e-05  9.87143985e-04  1.20632709e-04\n",
      "    3.36433531e-04]\n",
      "  [ 5.18994642e-06 -1.05858758e-05 -6.69838469e-05  1.11306374e-04\n",
      "    2.33994084e-04]]\n",
      "\n",
      " [[-8.27251942e-05 -8.02925685e-05 -9.55454742e-04 -4.55659073e-04\n",
      "    2.46951388e-05]\n",
      "  [ 2.94982843e-05  2.21469228e-05 -1.08818937e-03 -9.87545324e-04\n",
      "   -7.83393121e-04]\n",
      "  [ 5.72036566e-05  5.90542570e-05 -1.44212948e-03 -9.99847143e-04\n",
      "   -1.14147055e-04]\n",
      "  [-9.40633848e-05 -1.09382384e-04 -1.64709518e-03 -9.00218347e-04\n",
      "   -5.52288579e-04]\n",
      "  [ 6.34214870e-07  4.68162123e-06 -7.93195686e-04 -4.01851319e-04\n",
      "   -2.92200403e-04]]] \n",
      "\n",
      "\n",
      "<class 'numpy.ndarray'> (2, 6, 100) [[[ 3.06238951e-05  2.78947085e-05  5.55623604e-06  6.60726775e-05\n",
      "    1.09636526e-05]\n",
      "  [-1.25698087e-05 -3.64374102e-05  4.11545331e-04  2.37693225e-04\n",
      "    4.19751247e-04]\n",
      "  [ 1.23116430e-05  1.81274669e-05  8.45718704e-04  3.66005681e-04\n",
      "    1.18271014e-04]\n",
      "  [ 1.43417251e-05  1.40035736e-05  1.01604770e-03  1.20496837e-04\n",
      "    3.30075616e-04]\n",
      "  [-5.18307881e-07 -5.15836754e-07 -7.18198394e-05  1.13966728e-04\n",
      "    2.58454715e-04]]\n",
      "\n",
      " [[ 2.13232969e-05  1.53321179e-05  8.50494621e-05  7.24362404e-05\n",
      "    1.85663481e-05]\n",
      "  [ 7.07700369e-06  5.57926498e-06  5.22591044e-06 -2.94428734e-05\n",
      "   -2.81915223e-05]\n",
      "  [ 8.32151670e-05  8.80915692e-05  1.11592771e-05  1.70653744e-04\n",
      "    5.59743445e-06]\n",
      "  [ 5.99996985e-06  2.99719673e-06  6.63427591e-05 -3.36869246e-06\n",
      "    2.17909847e-05]\n",
      "  [-2.70663384e-07  4.25409767e-06 -1.10010976e-05  1.48216780e-05\n",
      "    2.85931646e-05]]] \n",
      "\n",
      "\n"
     ]
    }
   ],
   "execution_count": 14
  },
  {
   "metadata": {},
   "cell_type": "markdown",
   "source": [
    "# TODO: \n",
    " \n",
    "\n",
    " check with univariate datasets\n",
    " \n",
    "check other python version requirements are torch, captum and sklearn"
   ],
   "id": "7d517a0c067b023"
  },
  {
   "metadata": {},
   "cell_type": "markdown",
   "source": "# sktime classification",
   "id": "ef2e19ece8621d39"
  },
  {
   "metadata": {
    "ExecuteTime": {
     "end_time": "2024-05-07T10:01:38.121797Z",
     "start_time": "2024-05-07T10:01:23.923435Z"
    }
   },
   "cell_type": "code",
   "source": [
    "from sktime.classification.dictionary_based import MUSE\n",
    "clf = MUSE(window_inc=4, use_first_order_differences=False,support_probabilities=True,n_jobs=-1)\n",
    "clf.fit(X_train_clf, y_train_clf)\n",
    "print (\"MUSE accuracy is\",clf.score(X_test_clf,y_test_clf))"
   ],
   "id": "ccd9235bf0f39d89",
   "outputs": [
    {
     "name": "stderr",
     "output_type": "stream",
     "text": [
      "/home/davide/miniconda3/envs/TSCaptum311/lib/python3.11/site-packages/sklearn/linear_model/_logistic.py:1216: UserWarning: 'n_jobs' > 1 does not have any effect when 'solver' is set to 'liblinear'. Got 'n_jobs' = 20.\n",
      "  warnings.warn(\n"
     ]
    },
    {
     "name": "stdout",
     "output_type": "stream",
     "text": [
      "MUSE accuracy is 1.0\n"
     ]
    }
   ],
   "execution_count": 15
  },
  {
   "metadata": {
    "ExecuteTime": {
     "end_time": "2024-05-07T10:03:36.419228Z",
     "start_time": "2024-05-07T10:01:38.123500Z"
    }
   },
   "cell_type": "code",
   "source": [
    "myfp4clf = Feature_Permutation(clf=clf, clf_type=\"classifier\")\n",
    "exp = myfp4clf.explain( X_test_clf[:2], labels=y_test_clf[:2] )\n",
    "print( type(exp), exp.shape,exp[:,:5,:5]  , \"\\n\\n\")\n",
    "\n",
    "myfp4clf2 = Feature_Permutation(clf=clf)\n",
    "exp = myfp4clf2.explain( X_test_clf[:2], labels=y_test_clf[:2] )\n",
    "print( type(exp), exp.shape, exp[:,:5,:5]  , \"\\n\\n\")\n",
    "\n",
    "myfa4clf = Feature_Ablation(clf=clf, clf_type=\"classifier\")\n",
    "exp = myfa4clf.explain( X_test_clf[:2], labels=y_test_clf[:2] )\n",
    "print( type(exp), exp.shape, exp[:,:5,:5]   , \"\\n\\n\")"
   ],
   "id": "5f64362174b13def",
   "outputs": [
    {
     "name": "stdout",
     "output_type": "stream",
     "text": [
      "<class 'numpy.ndarray'> (2, 6, 100) [[[-5.93921783e-05  1.23461090e-03  5.92756561e-03  4.27730146e-03\n",
      "    1.68119932e-03]\n",
      "  [-2.12498614e-04  2.24971120e-03 -8.82070121e-04 -2.60255358e-03\n",
      "   -3.25963774e-04]\n",
      "  [-4.04694121e-05  6.80328105e-05  2.01315820e-03  4.12650241e-04\n",
      "    6.85613598e-04]\n",
      "  [ 0.00000000e+00  0.00000000e+00 -1.34126334e-05 -6.16500163e-04\n",
      "   -1.50942010e-04]\n",
      "  [ 0.00000000e+00  0.00000000e+00 -2.57221041e-03 -3.06469785e-04\n",
      "    9.23894471e-04]]\n",
      "\n",
      " [[-2.40384879e-06 -1.94638021e-05 -1.32786024e-05  4.83975378e-05\n",
      "   -5.27607904e-06]\n",
      "  [-1.41106324e-05 -4.25134432e-05 -1.21414012e-04 -1.85975023e-04\n",
      "   -2.56207553e-04]\n",
      "  [ 1.78692213e-06  5.00302422e-06  6.65449822e-06  6.20405897e-06\n",
      "   -6.07401594e-06]\n",
      "  [ 4.27176442e-06  2.29798105e-06 -3.20486929e-06 -1.27940223e-05\n",
      "    2.94584658e-06]\n",
      "  [ 2.10646316e-06 -1.21007859e-07  9.86817453e-06  6.16465864e-06\n",
      "   -3.35967694e-05]]] \n",
      "\n",
      "\n",
      "<class 'numpy.ndarray'> (2, 6, 100) [[[-5.93921783e-05  1.23461090e-03  5.92756561e-03  4.27730146e-03\n",
      "    1.68119932e-03]\n",
      "  [-2.12498614e-04  2.24971120e-03 -8.82070121e-04 -2.60255358e-03\n",
      "   -3.25963774e-04]\n",
      "  [-4.04694121e-05  6.80328105e-05  2.01315820e-03  4.12650241e-04\n",
      "    6.85613598e-04]\n",
      "  [ 0.00000000e+00  0.00000000e+00 -1.34126334e-05 -6.16500163e-04\n",
      "   -1.50942010e-04]\n",
      "  [ 0.00000000e+00  0.00000000e+00 -2.57221041e-03 -3.06469785e-04\n",
      "    9.23894471e-04]]\n",
      "\n",
      " [[-2.40384879e-06 -1.94638021e-05 -1.32786024e-05  4.83975378e-05\n",
      "   -5.27607904e-06]\n",
      "  [-1.41106324e-05 -4.25134432e-05 -1.21414012e-04 -1.85975023e-04\n",
      "   -2.56207553e-04]\n",
      "  [ 1.78692213e-06  5.00302422e-06  6.65449822e-06  6.20405897e-06\n",
      "   -6.07401594e-06]\n",
      "  [ 4.27176442e-06  2.29798105e-06 -3.20486929e-06 -1.27940223e-05\n",
      "    2.94584658e-06]\n",
      "  [ 2.10646316e-06 -1.21007859e-07  9.86817453e-06  6.16465864e-06\n",
      "   -3.35967694e-05]]] \n",
      "\n",
      "\n",
      "<class 'numpy.ndarray'> (2, 6, 100) [[[-4.08681061e-05  1.65797110e-03  6.59935902e-03  3.79855280e-03\n",
      "   -5.01872063e-04]\n",
      "  [-2.12498614e-04  2.24971120e-03 -8.82070121e-04 -2.06107237e-03\n",
      "   -1.21713911e-03]\n",
      "  [ 4.53866221e-05  4.94926517e-06  2.00372325e-03  3.83813712e-04\n",
      "    4.70646458e-04]\n",
      "  [ 0.00000000e+00  0.00000000e+00 -1.74705400e-05 -6.16500163e-04\n",
      "   -1.50942010e-04]\n",
      "  [ 0.00000000e+00 -7.03137690e-05 -2.59889558e-03  2.67215246e-04\n",
      "    1.28831295e-03]]\n",
      "\n",
      " [[-3.97815994e-06 -3.77028991e-06  1.35503197e-05  2.29579058e-05\n",
      "    2.37797085e-05]\n",
      "  [ 6.46902706e-07  5.59043685e-06 -3.95542150e-06 -6.91236041e-06\n",
      "   -3.56367676e-05]\n",
      "  [ 5.76041085e-06  1.23066928e-06  1.33527523e-05  1.20157374e-05\n",
      "    1.02127681e-06]\n",
      "  [ 0.00000000e+00  0.00000000e+00 -4.26328348e-06  3.69683531e-07\n",
      "    1.54035589e-05]\n",
      "  [ 2.10646316e-06 -3.53911463e-07  4.90264771e-06  1.07023185e-05\n",
      "   -5.01197533e-06]]] \n",
      "\n",
      "\n"
     ]
    }
   ],
   "execution_count": 16
  },
  {
   "metadata": {},
   "cell_type": "markdown",
   "source": "# sktime regression",
   "id": "6965f6d6de7d8f25"
  },
  {
   "metadata": {
    "ExecuteTime": {
     "end_time": "2024-05-07T10:03:39.559395Z",
     "start_time": "2024-05-07T10:03:36.420571Z"
    }
   },
   "cell_type": "code",
   "source": [
    "from sktime.regression.kernel_based import RocketRegressor\n",
    "\n",
    "regressor = RocketRegressor(num_kernels=500,n_jobs=-1) \n",
    "regressor.fit(X_train_reg, y_train_reg)\n",
    "print( \" KNeighborsTimeSeriesRegressor \",regressor.score(X_test_reg, y_test_reg) )"
   ],
   "id": "c0799d072c6f9a13",
   "outputs": [
    {
     "name": "stdout",
     "output_type": "stream",
     "text": [
      " KNeighborsTimeSeriesRegressor  0.5531852142376538\n"
     ]
    }
   ],
   "execution_count": 17
  },
  {
   "metadata": {
    "jupyter": {
     "is_executing": true
    },
    "ExecuteTime": {
     "start_time": "2024-05-07T10:03:39.560524Z"
    }
   },
   "cell_type": "code",
   "source": [
    "myfp4clf = Feature_Permutation(clf=regressor, clf_type=\"regressor\")\n",
    "exp = myfp4clf.explain( X_test_reg[:2])\n",
    "print( type(exp), exp.shape,exp[:,:5,:5]  , \"\\n\\n\")\n",
    "\n",
    "myfp4clf2 = Feature_Permutation(clf=regressor)\n",
    "exp = myfp4clf2.explain( X_test_reg[:2] )\n",
    "print( type(exp), exp.shape, exp[:,:5,:5]  , \"\\n\\n\")\n",
    "\n",
    "myfa4clf = Feature_Ablation(clf=regressor, clf_type=\"regressor\")\n",
    "exp = myfa4clf.explain( X_test_reg[:2] )\n",
    "print( type(exp), exp.shape, exp[:,:5,:5]   , \"\\n\\n\")"
   ],
   "id": "a42616817db1e231",
   "outputs": [],
   "execution_count": null
  }
 ],
 "metadata": {
  "kernelspec": {
   "display_name": "Python 3",
   "language": "python",
   "name": "python3"
  },
  "language_info": {
   "codemirror_mode": {
    "name": "ipython",
    "version": 2
   },
   "file_extension": ".py",
   "mimetype": "text/x-python",
   "name": "python",
   "nbconvert_exporter": "python",
   "pygments_lexer": "ipython2",
   "version": "2.7.6"
  }
 },
 "nbformat": 4,
 "nbformat_minor": 5
}
